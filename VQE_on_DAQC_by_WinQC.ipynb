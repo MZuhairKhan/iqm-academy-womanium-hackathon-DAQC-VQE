{
 "cells": [
  {
   "cell_type": "code",
   "execution_count": 1,
   "metadata": {},
   "outputs": [],
   "source": [
    "#!pip install qiskit\n",
    "#!pip install qutip"
   ]
  },
  {
   "cell_type": "code",
   "execution_count": 2,
   "metadata": {},
   "outputs": [],
   "source": [
    "# import relevant modules\n",
    "import numpy as np\n",
    "import pylab\n",
    "from typing import List \n",
    "import qutip as qt\n",
    "# and from qiskit\n",
    "from numbers import Number\n",
    "from qiskit import QuantumCircuit, QuantumRegister, Aer, execute\n",
    "from qiskit.extensions import HamiltonianGate\n",
    "from qiskit.providers.aer import QasmSimulator\n",
    "from qiskit.circuit import  ParameterVector\n",
    "from qiskit.circuit.library import TwoLocal\n",
    "from qiskit.quantum_info import Operator\n",
    "from qiskit.providers.fake_provider import FakeVigo\n",
    "from qiskit.utils import QuantumInstance, algorithm_globals\n",
    "from qiskit.algorithms import VQE, NumPyMinimumEigensolver\n",
    "from qiskit.algorithms.optimizers import SPSA\n",
    "from qiskit.providers.aer.noise import NoiseModel\n",
    "from qiskit.opflow import I, X, Y, Z\n",
    "from qiskit.circuit import Gate, QuantumCircuit, QuantumRegister, Parameter, ParameterExpression, ParameterVector\n",
    "from qiskit.quantum_info.operators.predicates import matrix_equal, is_hermitian_matrix\n",
    "from qiskit.extensions.exceptions import ExtensionError\n",
    "from qiskit.circuit.exceptions import CircuitError\n",
    "from qiskit.extensions.unitary import UnitaryGate\n",
    "from qiskit.utils.mitigation import CompleteMeasFitter"
   ]
  },
  {
   "cell_type": "code",
   "execution_count": 3,
   "metadata": {},
   "outputs": [],
   "source": [
    "# H2 operator for 2 qubits\n",
    "H2_op = (-1.052373245772859 * I ^ I) + \\\n",
    "        (0.39793742484318045 * I ^ Z) + \\\n",
    "        (-0.39793742484318045 * Z ^ I) + \\\n",
    "        (-0.01128010425623538 * Z ^ Z) + \\\n",
    "        (0.18093119978423156 * X ^ X)"
   ]
  },
  {
   "cell_type": "code",
   "execution_count": 4,
   "metadata": {
    "scrolled": true
   },
   "outputs": [
    {
     "name": "stdout",
     "output_type": "stream",
     "text": [
      "Reference value: -1.85728\n"
     ]
    }
   ],
   "source": [
    "# Calculating result classically\n",
    "npme = NumPyMinimumEigensolver()\n",
    "result = npme.compute_minimum_eigenvalue(operator=H2_op)\n",
    "ref_value = result.eigenvalue.real\n",
    "print(f'Reference value: {ref_value:.5f}')"
   ]
  },
  {
   "cell_type": "code",
   "execution_count": 5,
   "metadata": {},
   "outputs": [],
   "source": [
    "def create_zz_hamiltonian(num_qubits: int, connectivity: List[List[int]],\n",
    "                              h_coeffs: List[float]) -> np.ndarray:\n",
    "    \"\"\"Creates a global Hamiltonian consisting of a sum of one (g * Z^i.Z^j) term per device connection.\n",
    "\n",
    "    Args:\n",
    "        num_qubits (int): number of qubits of the Hamiltonian\n",
    "        connectivity (List[List[int]]): connectivity of the device\n",
    "        h_coeffs (List[float]): list of coefficients of each ZZ term\n",
    "\n",
    "    Returns:\n",
    "        np.ndarray: tensored Hamiltonian\n",
    "    \"\"\"\n",
    "    \n",
    "    dim = 2 ** num_qubits\n",
    "    num_connections = len(connectivity)\n",
    "    zz_hamiltonian = np.zeros([dim, dim], dtype=np.complex128)\n",
    "\n",
    "    # create a matrix that is the sum of ZZ operators on all connected qubits,\n",
    "    # tensored with the identity\n",
    "    for c in range(num_connections):\n",
    "        ops_to_tensor = [qt.identity(2)] * num_qubits\n",
    "        ops_to_tensor[connectivity[c][0]] = qt.sigmaz()\n",
    "        ops_to_tensor[connectivity[c][1]] = qt.sigmaz()\n",
    "        zz_hamiltonian += h_coeffs[c] * np.array(qt.tensor(ops_to_tensor))\n",
    "\n",
    "    return zz_hamiltonian"
   ]
  },
  {
   "cell_type": "code",
   "execution_count": 6,
   "metadata": {},
   "outputs": [],
   "source": [
    "# This code is based on https://github.com/Qiskit/qiskit-terra/blob/main/qiskit/extensions/hamiltonian_gate.py licenced under Apache licence.\n",
    "class CustomHamiltonianGate(Gate):\n",
    "    def __init__(self, time, num_qubits, connectivity, h_coeff0,h_coeff1,h_coeff2,h_coeff3, label=None):\n",
    "        if isinstance(time, Number) and time != np.real(time):\n",
    "            raise ExtensionError(\"Evolution time is not real.\")\n",
    "       \n",
    "        self.num_qubits = num_qubits\n",
    "        self.connectivity = connectivity\n",
    "        # Store instruction params\n",
    "        super().__init__(\"custom_hamiltonian\", num_qubits, [time, num_qubits, connectivity, h_coeff0,h_coeff1,h_coeff2,h_coeff3], label=label)\n",
    "\n",
    "    def __array__(self, dtype=None):\n",
    "        \"\"\"Return matrix for the unitary.\"\"\"\n",
    "        # pylint: disable=unused-argument\n",
    "        import scipy.linalg\n",
    "\n",
    "        try:\n",
    "            return scipy.linalg.expm(-1j * self.get_ham() * float(self.params[0]))\n",
    "        except TypeError as ex:\n",
    "            raise TypeError(\n",
    "                \"Unable to generate Unitary matrix for \"\n",
    "                \"unbound t parameter {}\".format(self.params[1])\n",
    "            ) from ex\n",
    "\n",
    "    def _define(self):\n",
    "        \"\"\"Calculate a subcircuit that implements this unitary.\"\"\"\n",
    "        q = QuantumRegister(self.num_qubits, \"q\")\n",
    "        qc = QuantumCircuit(q, name=self.name)\n",
    "        qc._append(UnitaryGate(self.to_matrix()), q[:], [])\n",
    "        self.definition = qc\n",
    "\n",
    "    def validate_parameter(self, parameter):\n",
    "        return parameter\n",
    "\n",
    "    def get_ham(self):\n",
    "        dim = 2 ** self.num_qubits\n",
    "        num_connections = len(self.connectivity)\n",
    "        zz_hamiltonian = np.zeros([dim, dim], dtype=np.complex128)\n",
    "\n",
    "        for c in range(num_connections):\n",
    "            ops_to_tensor = [qt.identity(2)] * self.num_qubits\n",
    "            ops_to_tensor[self.connectivity[c][0]] = qt.sigmaz()\n",
    "            ops_to_tensor[self.connectivity[c][1]] = qt.sigmaz()\n",
    "            zz_hamiltonian += float(self.params[3+c]) * np.array(qt.tensor(ops_to_tensor)) #+= \n",
    "\n",
    "        return zz_hamiltonian\n",
    "\n",
    "def custom_hamiltonian(self, time, connectivity, h_coeff0,h_coeff1,h_coeff2,h_coeff3, qubits, label=None):\n",
    "    \"\"\"Apply hamiltonian evolution to qubits.\"\"\"\n",
    "    if not isinstance(qubits, list):\n",
    "        qubits = [qubits]\n",
    "\n",
    "    return self.append(CustomHamiltonianGate(time=time, num_qubits =len(qubits), connectivity=connectivity, h_coeff0=h_coeff0,h_coeff1=h_coeff1,h_coeff2 = h_coeff2,h_coeff3 = h_coeff3, label=label), qubits, [])\n",
    "\n",
    "QuantumCircuit.custom_hamiltonian = custom_hamiltonian"
   ]
  },
  {
   "cell_type": "code",
   "execution_count": 7,
   "metadata": {},
   "outputs": [
    {
     "name": "stdout",
     "output_type": "stream",
     "text": [
      "      ┌───────────────────┐┌───────────────────────────────────────────┐»\n",
      "q0_0: ┤ U(p[0],p[1],p[2]) ├┤0                                          ├»\n",
      "      ├───────────────────┤│  analog block(p[7],2,[[0, 1]],p[6],1,1,1) │»\n",
      "q0_1: ┤ U(p[3],p[4],p[5]) ├┤1                                          ├»\n",
      "      └───────────────────┘└───────────────────────────────────────────┘»\n",
      "«       ┌────────────────────┐ ┌────────────────────────────────────────────┐»\n",
      "«q0_0: ─┤ U(p[8],p[9],p[10]) ├─┤0                                           ├»\n",
      "«      ┌┴────────────────────┴┐│  analog block(p[14],2,[[0, 1]],p[6],1,1,1) │»\n",
      "«q0_1: ┤ U(p[11],p[12],p[13]) ├┤1                                           ├»\n",
      "«      └──────────────────────┘└────────────────────────────────────────────┘»\n",
      "«      ┌──────────────────────┐ ░ \n",
      "«q0_0: ┤ U(p[15],p[16],p[17]) ├─░─\n",
      "«      ├──────────────────────┤ ░ \n",
      "«q0_1: ┤ U(p[18],p[19],p[20]) ├─░─\n",
      "«      └──────────────────────┘ ░ \n"
     ]
    }
   ],
   "source": [
    "# The h_coeffs are parametrised but constant across each analog block\n",
    "# The time varies across each analog block\n",
    "# Each digital gate is a universal gate with 3 parameters\n",
    "def create_ansatz_with_fixed_hamiltonian(no_iters):\n",
    "    no_qubits = 2\n",
    "    p = ParameterVector('p', 7 * no_iters + 7) \n",
    "    qr = QuantumRegister(no_qubits)\n",
    "    ansatz = QuantumCircuit(qr)\n",
    "    ansatz.u(p[0],p[1],p[2],0)\n",
    "    ansatz.u(p[3],p[4],p[5],1)\n",
    "    for i in range(1,no_iters+1):\n",
    "        ansatz.custom_hamiltonian(connectivity=[[0, 1]], h_coeff0=p[6], h_coeff1=1.0, h_coeff2=1.0 ,h_coeff3=1.0, time=p[7*i], qubits=[qr[0], qr[1]], label='analog block')\n",
    "        ansatz.u(p[7*i+1],p[7*i+2],p[7*i+3],0)\n",
    "        ansatz.u(p[7*i+4],p[7*i+5],p[7*i+6],1)\n",
    "    ansatz.barrier()\n",
    "    return ansatz\n",
    "\n",
    "# Sample ansatz with 2 iterations (DADAD)\n",
    "print(create_ansatz_with_fixed_hamiltonian(2))"
   ]
  },
  {
   "cell_type": "code",
   "execution_count": 8,
   "metadata": {},
   "outputs": [
    {
     "name": "stdout",
     "output_type": "stream",
     "text": [
      "      ┌───────────────────┐┌───────────────────────────────────────────┐»\n",
      "q1_0: ┤ U(p[0],p[1],p[2]) ├┤0                                          ├»\n",
      "      ├───────────────────┤│  analog block(p[6],2,[[0, 1]],p[7],1,1,1) │»\n",
      "q1_1: ┤ U(p[3],p[4],p[5]) ├┤1                                          ├»\n",
      "      └───────────────────┘└───────────────────────────────────────────┘»\n",
      "«       ┌────────────────────┐ ┌─────────────────────────────────────────────┐»\n",
      "«q1_0: ─┤ U(p[8],p[9],p[10]) ├─┤0                                            ├»\n",
      "«      ┌┴────────────────────┴┐│  analog block(p[14],2,[[0, 1]],p[15],1,1,1) │»\n",
      "«q1_1: ┤ U(p[11],p[12],p[13]) ├┤1                                            ├»\n",
      "«      └──────────────────────┘└─────────────────────────────────────────────┘»\n",
      "«      ┌──────────────────────┐ ░ \n",
      "«q1_0: ┤ U(p[16],p[17],p[18]) ├─░─\n",
      "«      ├──────────────────────┤ ░ \n",
      "«q1_1: ┤ U(p[19],p[20],p[21]) ├─░─\n",
      "«      └──────────────────────┘ ░ \n"
     ]
    }
   ],
   "source": [
    "# The h_coeffs are parametrised and can vary across each analog block\n",
    "# The time varies across each analog block\n",
    "# Each digital gate is a universal gate with 3 parameters\n",
    "def create_ansatz_with_variable_hamiltonian(no_iters):\n",
    "    no_qubits = 2\n",
    "    p = ParameterVector('p', 8*no_iters+6) \n",
    "    qr = QuantumRegister(no_qubits)\n",
    "    ansatz = QuantumCircuit(qr)\n",
    "    ansatz.u(p[0],p[1],p[2],0)\n",
    "    ansatz.u(p[3],p[4],p[5],1)\n",
    "    for i in range(1,no_iters+1):\n",
    "        ansatz.custom_hamiltonian(connectivity=[[0, 1]], h_coeff0=p[8*i-1], h_coeff1=1.0, h_coeff2=1.0 ,h_coeff3=1.0, time=p[8*i-2], qubits=[qr[0], qr[1]], label='analog block')\n",
    "        ansatz.u(p[8*i],p[8*i+1],p[8*i+2],0)\n",
    "        ansatz.u(p[8*i+3],p[8*i+4],p[8*i+5],1)\n",
    "    ansatz.barrier()\n",
    "    return ansatz\n",
    "# Sample ansatz with 2 iterations (DADAD)\n",
    "print(create_ansatz_with_variable_hamiltonian(2))"
   ]
  },
  {
   "cell_type": "code",
   "execution_count": 9,
   "metadata": {},
   "outputs": [
    {
     "name": "stdout",
     "output_type": "stream",
     "text": [
      "      ┌───────────────────┐┌───────────────┐ ┌───────────────────┐  »\n",
      "q2_0: ┤ U(p[0],p[1],p[2]) ├┤0              ├─┤ U(p[7],p[8],p[9]) ├──»\n",
      "      ├───────────────────┤│  analog block │┌┴───────────────────┴─┐»\n",
      "q2_1: ┤ U(p[3],p[4],p[5]) ├┤1              ├┤ U(p[10],p[11],p[12]) ├»\n",
      "      └───────────────────┘└───────────────┘└──────────────────────┘»\n",
      "«      ┌───────────────┐┌──────────────────────┐ ░ \n",
      "«q2_0: ┤0              ├┤ U(p[14],p[15],p[16]) ├─░─\n",
      "«      │  analog block │├──────────────────────┤ ░ \n",
      "«q2_1: ┤1              ├┤ U(p[17],p[18],p[19]) ├─░─\n",
      "«      └───────────────┘└──────────────────────┘ ░ \n"
     ]
    }
   ],
   "source": [
    "# The h_coeffs are fixed\n",
    "# The time varies across each analog block\n",
    "# Each digital gate is a universal gate with 3 parameters\n",
    "def create_ansatz_without_h_coeffs(no_iters):\n",
    "    no_qubits = 2\n",
    "    p = ParameterVector('p', 7*no_iters+6)\n",
    "    qr = QuantumRegister(no_qubits)\n",
    "    ansatz = QuantumCircuit(qr)\n",
    "    hamiltonian = create_zz_hamiltonian(no_qubits, [[0, 1]], [1.]) \n",
    "    ansatz.u(p[0],p[1],p[2],0)\n",
    "    ansatz.u(p[3],p[4],p[5],1)\n",
    "    for i in range(1,no_iters+1):\n",
    "        ansatz.hamiltonian(operator=hamiltonian, time=p[7*i-1], qubits=[qr[0], qr[1]], label='analog block')\n",
    "        ansatz.u(p[7*i],p[7*i+1],p[7*i+2],0)\n",
    "        ansatz.u(p[7*i+3],p[7*i+4],p[7*i+5],1)\n",
    "    ansatz.barrier()\n",
    "    return ansatz\n",
    "# Sample ansatz with 2 iterations (DADAD)\n",
    "print(create_ansatz_without_h_coeffs(2))"
   ]
  },
  {
   "cell_type": "code",
   "execution_count": 10,
   "metadata": {},
   "outputs": [
    {
     "name": "stdout",
     "output_type": "stream",
     "text": [
      "     ┌───────────────────┐       ┌───────────────────┐       »\n",
      "q_0: ┤ U(p[0],p[1],p[2]) ├─■──■──┤ U(p[6],p[7],p[8]) ├──■──■─»\n",
      "     ├───────────────────┤ │  │ ┌┴───────────────────┴┐ │  │ »\n",
      "q_1: ┤ U(p[3],p[4],p[5]) ├─■──■─┤ U(p[9],p[10],p[11]) ├─■──■─»\n",
      "     └───────────────────┘      └─────────────────────┘      »\n",
      "«     ┌──────────────────────┐ ░ \n",
      "«q_0: ┤ U(p[12],p[13],p[14]) ├─░─\n",
      "«     ├──────────────────────┤ ░ \n",
      "«q_1: ┤ U(p[15],p[16],p[17]) ├─░─\n",
      "«     └──────────────────────┘ ░ \n"
     ]
    }
   ],
   "source": [
    "# The ansatz is created solely with digital gates as a benchmark\n",
    "# Each digital block is represented as is\n",
    "# Each analog block is represented as a pair of cz gates\n",
    "def create_ansatz_with_digital_methods(no_iters):  \n",
    "    no_qubits = 2\n",
    "    p = ParameterVector('p',6 * (no_iters + 1))\n",
    "    ansatz = QuantumCircuit(no_qubits)\n",
    "    ansatz.u(p[0],p[1],p[2],0)\n",
    "    ansatz.u(p[3],p[4],p[5],1)\n",
    "    for i in range(1,no_iters+1):\n",
    "        ansatz.cz(0,1)\n",
    "        ansatz.cz(1,0)\n",
    "        ansatz.u(p[6*i],p[6*i+1],p[6*i+2],0)\n",
    "        ansatz.u(p[6*i+3],p[6*i+4],p[6*i+5],1)\n",
    "    ansatz.barrier()\n",
    "    return ansatz\n",
    "# Sample ansatz with digital gates\n",
    "print(create_ansatz_with_digital_methods(2))"
   ]
  },
  {
   "cell_type": "code",
   "execution_count": 11,
   "metadata": {},
   "outputs": [],
   "source": [
    "# This function simulates a given ansatz in 3 different ways:\n",
    "# 1) Noise-free\n",
    "# 2) Noisy\n",
    "# 3) Noise and error mitigated\n",
    "def run_ansatz(ansatz):\n",
    "    seed = 170\n",
    "    iterations = 125\n",
    "    # learning_rate = 0.001\n",
    "    # perturbation = 0.001\n",
    "    # spsa = SPSA(maxiter=iterations, learning_rate = learning_rate, perturbation = perturbation)\n",
    "    spsa = SPSA(maxiter=iterations)\n",
    "    algorithm_globals.random_seed = seed\n",
    "    backend = Aer.get_backend('aer_simulator')\n",
    "    \n",
    "    qi = QuantumInstance(backend=backend, seed_simulator=seed, seed_transpiler=seed)\n",
    "    counts = []\n",
    "    values = []\n",
    "    def store_intermediate_result(eval_count, parameters, mean, std):\n",
    "        counts.append(eval_count)\n",
    "        values.append(mean)\n",
    "    vqe = VQE(ansatz, optimizer=spsa, callback=store_intermediate_result, quantum_instance=qi)\n",
    "    result = vqe.compute_minimum_eigenvalue(operator=H2_op)\n",
    "    print(f'VQE on Aer qasm simulator (no noise): {result.eigenvalue.real:.5f}')\n",
    "    print(f'Delta from reference energy value is {(result.eigenvalue.real - ref_value):.5f}')\n",
    "    print()\n",
    "    \n",
    "    device_backend = FakeVigo()\n",
    "    backend = Aer.get_backend('aer_simulator')\n",
    "    counts1 = []\n",
    "    values1 = []\n",
    "    device = QasmSimulator.from_backend(device_backend)\n",
    "    coupling_map = device.configuration().coupling_map\n",
    "    noise_model = NoiseModel.from_backend(device)\n",
    "    basis_gates = noise_model.basis_gates\n",
    "\n",
    "    algorithm_globals.random_seed = seed\n",
    "    qi = QuantumInstance(backend=backend, seed_simulator=seed, seed_transpiler=seed,\n",
    "                        coupling_map=coupling_map, noise_model=noise_model,)\n",
    "\n",
    "    def store_intermediate_result1(eval_count, parameters, mean, std):\n",
    "        counts1.append(eval_count)\n",
    "        values1.append(mean)\n",
    "    vqe = VQE(ansatz, optimizer=spsa, callback=store_intermediate_result1, quantum_instance=qi)\n",
    "    result1 = vqe.compute_minimum_eigenvalue(operator=H2_op)\n",
    "    print(f'VQE on Aer qasm simulator (with noise): {result1.eigenvalue.real:.5f}')\n",
    "    print(f'Delta from reference energy value is {(result1.eigenvalue.real - ref_value):.5f}')\n",
    "    print()\n",
    "   \n",
    "    counts2 = []\n",
    "    values2 = []\n",
    "    if noise_model is not None:\n",
    "        algorithm_globals.random_seed = seed\n",
    "        qi = QuantumInstance(backend=backend, seed_simulator=seed, seed_transpiler=seed,\n",
    "                            coupling_map=coupling_map, noise_model=noise_model, \n",
    "                            measurement_error_mitigation_cls=CompleteMeasFitter, \n",
    "                            cals_matrix_refresh_period=30)\n",
    "\n",
    "        def store_intermediate_result2(eval_count, parameters, mean, std):\n",
    "            counts2.append(eval_count)\n",
    "            values2.append(mean)\n",
    "        vqe = VQE(ansatz, optimizer=spsa, callback=store_intermediate_result2, quantum_instance=qi)\n",
    "        result2 = vqe.compute_minimum_eigenvalue(operator=H2_op)\n",
    "        print(f'VQE on Aer qasm simulator (with noise and measurement error mitigation): {result2.eigenvalue.real:.5f}')\n",
    "        print(f'Delta from reference energy value is {(result2.eigenvalue.real - ref_value):.5f}')\n",
    "        print()"
   ]
  },
  {
   "cell_type": "code",
   "execution_count": 12,
   "metadata": {},
   "outputs": [],
   "source": [
    "def run_ansatz_with_graphs(ansatz):\n",
    "    seed = 170\n",
    "    iterations = 125\n",
    "    # learning_rate = 0.001\n",
    "    # perturbation = 0.001\n",
    "    # spsa = SPSA(maxiter=iterations, learning_rate = learning_rate, perturbation = perturbation)\n",
    "    spsa = SPSA(maxiter=iterations)\n",
    "    algorithm_globals.random_seed = seed\n",
    "    backend = Aer.get_backend('aer_simulator')\n",
    "    \n",
    "    qi = QuantumInstance(backend=backend, seed_simulator=seed, seed_transpiler=seed)\n",
    "    counts = []\n",
    "    values = []\n",
    "    def store_intermediate_result(eval_count, parameters, mean, std):\n",
    "        counts.append(eval_count)\n",
    "        values.append(mean)\n",
    "    vqe = VQE(ansatz, optimizer=spsa, callback=store_intermediate_result, quantum_instance=qi)\n",
    "    result = vqe.compute_minimum_eigenvalue(operator=H2_op)\n",
    "    print(f'VQE on Aer qasm simulator (no noise): {result.eigenvalue.real:.5f}')\n",
    "    print(f'Delta from reference energy value is {(result.eigenvalue.real - ref_value):.5f}')\n",
    "    print()\n",
    "    \n",
    "    device_backend = FakeVigo()\n",
    "    backend = Aer.get_backend('aer_simulator')\n",
    "    counts1 = []\n",
    "    values1 = []\n",
    "    device = QasmSimulator.from_backend(device_backend)\n",
    "    coupling_map = device.configuration().coupling_map\n",
    "    noise_model = NoiseModel.from_backend(device)\n",
    "    basis_gates = noise_model.basis_gates\n",
    "\n",
    "    algorithm_globals.random_seed = seed\n",
    "    qi = QuantumInstance(backend=backend, seed_simulator=seed, seed_transpiler=seed,\n",
    "                        coupling_map=coupling_map, noise_model=noise_model,)\n",
    "\n",
    "    def store_intermediate_result1(eval_count, parameters, mean, std):\n",
    "        counts1.append(eval_count)\n",
    "        values1.append(mean)\n",
    "    vqe = VQE(ansatz, optimizer=spsa, callback=store_intermediate_result1, quantum_instance=qi)\n",
    "    result1 = vqe.compute_minimum_eigenvalue(operator=H2_op)\n",
    "    print(f'VQE on Aer qasm simulator (with noise): {result1.eigenvalue.real:.5f}')\n",
    "    print(f'Delta from reference energy value is {(result1.eigenvalue.real - ref_value):.5f}')\n",
    "    print()\n",
    "   \n",
    "    counts2 = []\n",
    "    values2 = []\n",
    "    if noise_model is not None:\n",
    "        algorithm_globals.random_seed = seed\n",
    "        qi = QuantumInstance(backend=backend, seed_simulator=seed, seed_transpiler=seed,\n",
    "                            coupling_map=coupling_map, noise_model=noise_model, \n",
    "                            measurement_error_mitigation_cls=CompleteMeasFitter, \n",
    "                            cals_matrix_refresh_period=30)\n",
    "\n",
    "        def store_intermediate_result2(eval_count, parameters, mean, std):\n",
    "            counts2.append(eval_count)\n",
    "            values2.append(mean)\n",
    "        vqe = VQE(ansatz, optimizer=spsa, callback=store_intermediate_result2, quantum_instance=qi)\n",
    "        result2 = vqe.compute_minimum_eigenvalue(operator=H2_op)\n",
    "        print(f'VQE on Aer qasm simulator (with noise and measurement error mitigation): {result2.eigenvalue.real:.5f}')\n",
    "        print(f'Delta from reference energy value is {(result2.eigenvalue.real - ref_value):.5f}')\n",
    "        print()\n",
    "    \n",
    "    pylab.rcParams['figure.figsize'] = (12, 4)\n",
    "    pylab.plot(counts, values, \"b\")\n",
    "    pylab.plot(counts1, values1, \"g\")\n",
    "    pylab.plot(counts2, values2, \"r\")\n",
    "    pylab.xlabel('Eval count')\n",
    "    pylab.ylabel('Energy')\n",
    "    pylab.title('Noiseless (Blue), noisy (Green) and noise and error mitigated (Red) simulation')"
   ]
  },
  {
   "cell_type": "code",
   "execution_count": 13,
   "metadata": {},
   "outputs": [
    {
     "name": "stdout",
     "output_type": "stream",
     "text": [
      "VQE on Aer qasm simulator (no noise): -1.85496\n",
      "Delta from reference energy value is 0.00231\n",
      "\n",
      "VQE on Aer qasm simulator (with noise): -1.80451\n",
      "Delta from reference energy value is 0.05276\n",
      "\n",
      "VQE on Aer qasm simulator (with noise and measurement error mitigation): -1.86186\n",
      "Delta from reference energy value is -0.00458\n",
      "\n"
     ]
    },
    {
     "data": {
      "image/png": "[encoded data removed]",
      "text/plain": [
       "<Figure size 432x288 with 1 Axes>"
      ]
     },
     "metadata": {
      "needs_background": "light"
     },
     "output_type": "display_data"
    }
   ],
   "source": [
    "# Sample graph\n",
    "run_ansatz_with_graphs(create_ansatz_without_h_coeffs(2))"
   ]
  },
  {
   "cell_type": "code",
   "execution_count": 14,
   "metadata": {
    "tags": []
   },
   "outputs": [
    {
     "name": "stdout",
     "output_type": "stream",
     "text": [
      "Simulating our code with 1 iterations:\n",
      "\n",
      "VQE on Aer qasm simulator (no noise): -1.83944\n",
      "Delta from reference energy value is 0.01783\n",
      "\n",
      "VQE on Aer qasm simulator (with noise): -1.79012\n",
      "Delta from reference energy value is 0.06716\n",
      "\n",
      "VQE on Aer qasm simulator (with noise and measurement error mitigation): -1.84323\n",
      "Delta from reference energy value is 0.01404\n",
      "\n",
      "Simulating our code with 2 iterations:\n",
      "\n",
      "VQE on Aer qasm simulator (no noise): -1.82042\n",
      "Delta from reference energy value is 0.03686\n",
      "\n",
      "VQE on Aer qasm simulator (with noise): -1.79047\n",
      "Delta from reference energy value is 0.06681\n",
      "\n",
      "VQE on Aer qasm simulator (with noise and measurement error mitigation): -1.84345\n",
      "Delta from reference energy value is 0.01382\n",
      "\n",
      "Simulating our code with 3 iterations:\n",
      "\n",
      "VQE on Aer qasm simulator (no noise): -1.80806\n",
      "Delta from reference energy value is 0.04921\n",
      "\n",
      "VQE on Aer qasm simulator (with noise): -1.72449\n",
      "Delta from reference energy value is 0.13279\n",
      "\n",
      "VQE on Aer qasm simulator (with noise and measurement error mitigation): -1.42109\n",
      "Delta from reference energy value is 0.43618\n",
      "\n"
     ]
    }
   ],
   "source": [
    "for i in range(1,4):\n",
    "    print(\"Simulating our code with\", i, \"iterations:\\n\")\n",
    "    run_ansatz(create_ansatz_with_fixed_hamiltonian(i))"
   ]
  },
  {
   "cell_type": "code",
   "execution_count": 15,
   "metadata": {},
   "outputs": [
    {
     "name": "stdout",
     "output_type": "stream",
     "text": [
      "Simulating our code with 1 iterations:\n",
      "\n",
      "VQE on Aer qasm simulator (no noise): -1.83944\n",
      "Delta from reference energy value is 0.01783\n",
      "\n",
      "VQE on Aer qasm simulator (with noise): -1.79012\n",
      "Delta from reference energy value is 0.06716\n",
      "\n",
      "VQE on Aer qasm simulator (with noise and measurement error mitigation): -1.84323\n",
      "Delta from reference energy value is 0.01404\n",
      "\n",
      "Simulating our code with 2 iterations:\n",
      "\n",
      "VQE on Aer qasm simulator (no noise): -1.81176\n",
      "Delta from reference energy value is 0.04551\n",
      "\n",
      "VQE on Aer qasm simulator (with noise): -1.78922\n",
      "Delta from reference energy value is 0.06806\n",
      "\n",
      "VQE on Aer qasm simulator (with noise and measurement error mitigation): -1.84495\n",
      "Delta from reference energy value is 0.01232\n",
      "\n",
      "Simulating our code with 3 iterations:\n",
      "\n",
      "VQE on Aer qasm simulator (no noise): -1.80845\n",
      "Delta from reference energy value is 0.04882\n",
      "\n",
      "VQE on Aer qasm simulator (with noise): -1.51285\n",
      "Delta from reference energy value is 0.34442\n",
      "\n",
      "VQE on Aer qasm simulator (with noise and measurement error mitigation): -1.74055\n",
      "Delta from reference energy value is 0.11672\n",
      "\n"
     ]
    }
   ],
   "source": [
    "for i in range(1,4):\n",
    "    print(\"Simulating our code with\", i, \"iterations:\\n\")\n",
    "    run_ansatz(create_ansatz_with_variable_hamiltonian(i))"
   ]
  },
  {
   "cell_type": "code",
   "execution_count": 16,
   "metadata": {},
   "outputs": [
    {
     "name": "stdout",
     "output_type": "stream",
     "text": [
      "Simulating our code with 1 iterations:\n",
      "\n",
      "VQE on Aer qasm simulator (no noise): -1.85223\n",
      "Delta from reference energy value is 0.00504\n",
      "\n",
      "VQE on Aer qasm simulator (with noise): -1.79643\n",
      "Delta from reference energy value is 0.06085\n",
      "\n",
      "VQE on Aer qasm simulator (with noise and measurement error mitigation): -1.86489\n",
      "Delta from reference energy value is -0.00761\n",
      "\n",
      "Simulating our code with 2 iterations:\n",
      "\n",
      "VQE on Aer qasm simulator (no noise): -1.85496\n",
      "Delta from reference energy value is 0.00231\n",
      "\n",
      "VQE on Aer qasm simulator (with noise): -1.80451\n",
      "Delta from reference energy value is 0.05276\n",
      "\n",
      "VQE on Aer qasm simulator (with noise and measurement error mitigation): -1.86186\n",
      "Delta from reference energy value is -0.00458\n",
      "\n",
      "Simulating our code with 3 iterations:\n",
      "\n",
      "VQE on Aer qasm simulator (no noise): -1.85019\n",
      "Delta from reference energy value is 0.00709\n",
      "\n",
      "VQE on Aer qasm simulator (with noise): -1.79716\n",
      "Delta from reference energy value is 0.06012\n",
      "\n",
      "VQE on Aer qasm simulator (with noise and measurement error mitigation): -1.86408\n",
      "Delta from reference energy value is -0.00680\n",
      "\n"
     ]
    }
   ],
   "source": [
    "for i in range(1,4):\n",
    "    print(\"Simulating our code with\", i, \"iterations:\\n\")\n",
    "    run_ansatz(create_ansatz_without_h_coeffs(i))"
   ]
  },
  {
   "cell_type": "code",
   "execution_count": 17,
   "metadata": {},
   "outputs": [
    {
     "name": "stdout",
     "output_type": "stream",
     "text": [
      "Simulating our code with 1 iterations:\n",
      "\n",
      "VQE on Aer qasm simulator (no noise): -1.83934\n",
      "Delta from reference energy value is 0.01793\n",
      "\n",
      "VQE on Aer qasm simulator (with noise): -1.78785\n",
      "Delta from reference energy value is 0.06942\n",
      "\n",
      "VQE on Aer qasm simulator (with noise and measurement error mitigation): -1.84116\n",
      "Delta from reference energy value is 0.01611\n",
      "\n",
      "Simulating our code with 2 iterations:\n",
      "\n",
      "VQE on Aer qasm simulator (no noise): -1.83934\n",
      "Delta from reference energy value is 0.01793\n",
      "\n",
      "VQE on Aer qasm simulator (with noise): -1.78936\n",
      "Delta from reference energy value is 0.06791\n",
      "\n",
      "VQE on Aer qasm simulator (with noise and measurement error mitigation): -1.84253\n",
      "Delta from reference energy value is 0.01475\n",
      "\n",
      "Simulating our code with 3 iterations:\n",
      "\n",
      "VQE on Aer qasm simulator (no noise): -1.83899\n",
      "Delta from reference energy value is 0.01828\n",
      "\n",
      "VQE on Aer qasm simulator (with noise): -1.78830\n",
      "Delta from reference energy value is 0.06897\n",
      "\n",
      "VQE on Aer qasm simulator (with noise and measurement error mitigation): -1.84151\n",
      "Delta from reference energy value is 0.01576\n",
      "\n"
     ]
    }
   ],
   "source": [
    "for i in range(1,4):\n",
    "    print(\"Simulating our code with\", i, \"iterations:\\n\")\n",
    "    run_ansatz(create_ansatz_with_digital_methods(i))"
   ]
  }
 ],
 "metadata": {
  "kernelspec": {
   "display_name": "Python 3 (ipykernel)",
   "language": "python",
   "name": "python3"
  },
  "language_info": {
   "codemirror_mode": {
    "name": "ipython",
    "version": 3
   },
   "file_extension": ".py",
   "mimetype": "text/x-python",
   "name": "python",
   "nbconvert_exporter": "python",
   "pygments_lexer": "ipython3",
   "version": "3.10.2"
  },
  "vscode": {
   "interpreter": {
    "hash": "32751420a85847c462f2b2e8a280ad8b2aef3f4d09422fb49ff9e2853858c569"
   }
  },
  "widgets": {
   "application/vnd.jupyter.widget-state+json": {
    "state": {},
    "version_major": 2,
    "version_minor": 0
   }
  }
 },
 "nbformat": 4,
 "nbformat_minor": 4
}
