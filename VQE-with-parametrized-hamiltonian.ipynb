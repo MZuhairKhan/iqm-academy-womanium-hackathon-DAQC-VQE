{
 "cells": [
  {
   "cell_type": "markdown",
   "metadata": {},
   "source": [
    "# DAQC VQE Challenge – Using DAQC in Qiskit\n",
    "\n",
    "Here, we provide an example of how to create an analog block with Qiskit. The most important part in the Qiskit documentation for this is the [HamiltonianGate](https://qiskit.org/documentation/stubs/qiskit.extensions.HamiltonianGate.html) class."
   ]
  },
  {
   "cell_type": "code",
   "execution_count": 6,
   "metadata": {
    "ExecuteTime": {
     "end_time": "2021-07-31T05:04:39.026081Z",
     "start_time": "2021-07-31T05:04:36.903090Z"
    }
   },
   "outputs": [],
   "source": [
    "# We will need some functionality \n",
    "from typing import List \n",
    "\n",
    "# and from math related libraries\n",
    "import numpy as np\n",
    "import qutip as qt\n",
    "\n",
    "# and from qiskit\n",
    "from qiskit.extensions import HamiltonianGate\n",
    "from qiskit import QuantumCircuit, QuantumRegister, Aer, execute\n",
    "from qiskit.providers.aer import QasmSimulator\n",
    "from qiskit.quantum_info import Operator\n",
    "\n",
    "import cmath"
   ]
  },
  {
   "cell_type": "markdown",
   "metadata": {},
   "source": [
    "## Creating a nearest neighbour Hamiltonian for a given connectivity\n",
    "\n",
    "We now need a function that creates our Hamiltonian for a given connectivity, so our model can be generalized to more complex atom arrangements. To do so, a Julia script has been coded to do in a simple and fast way the needed math. "
   ]
  },
  {
   "cell_type": "markdown",
   "metadata": {},
   "source": [
    "- A Hamiltonian for a Ising model in 3-dimensions, given se lattice size. "
   ]
  },
  {
   "cell_type": "code",
   "execution_count": 2,
   "metadata": {},
   "outputs": [],
   "source": [
    "# if Julia is not installed run this line\n",
    "# !pip install juliacall"
   ]
  },
  {
   "cell_type": "code",
   "execution_count": 2,
   "metadata": {},
   "outputs": [],
   "source": [
    "from juliacall import Main as jl;"
   ]
  },
  {
   "cell_type": "code",
   "execution_count": 3,
   "metadata": {},
   "outputs": [
    {
     "data": {
      "text/plain": [
       "'d:\\\\Cesar\\\\GitHub\\\\Womanium_hack\\\\iqm-academy-womanium-hackathon-DAQC-VQE'"
      ]
     },
     "execution_count": 3,
     "metadata": {},
     "output_type": "execute_result"
    }
   ],
   "source": [
    "jl.pwd() # check the current directory for Julia"
   ]
  },
  {
   "cell_type": "code",
   "execution_count": 23,
   "metadata": {},
   "outputs": [
    {
     "data": {
      "text/plain": [
       "create_zz_hamiltonian (generic function with 3 methods)"
      ]
     },
     "execution_count": 23,
     "metadata": {},
     "output_type": "execute_result"
    }
   ],
   "source": [
    "#jl.cd(\"/iqm-academy-womanium-hackathon-DAQC-VQE/\")   # Change the current julia directory if necessary \n",
    "jl.include(\"Ising_model.jl\")  # Load the julia script with the connectivity generator function\n",
    "# More details of the implemented functions in the corresponding script. "
   ]
  },
  {
   "cell_type": "code",
   "execution_count": 5,
   "metadata": {},
   "outputs": [],
   "source": [
    "# Creation of the Phyton call of the Julia version\n",
    "\n",
    "# Recives a tuple of integers of length 3 and returns a list of lists with the connectivities of the Issing Hamiltinian\n",
    "def connectivity_Ising(dim_lengths):    \n",
    "    # it sends as a Python tuple to Julia, julia call converts for us to a Julia tuple. \n",
    "    connectivity_julia = jl.connectivity(dim_lengths)\n",
    "    connectivity = []\n",
    "    for i in range(len(connectivity_julia)):  # converts from Julia to Python type. (A list of list)\n",
    "        connectivity.append(list(connectivity_julia[i]))\n",
    "    return connectivity\n",
    "\n",
    "# Recives a tuple of integers of length 3 and returns a Hamiltonian matrix, a number of qubits, a uniform list of\n",
    "# interaction coefficients, and a list of connectivities. \n",
    "def Ising_matrix(dim_lengths):\n",
    "    matrix, no_qubits, h_coeffs, connect_jl = jl.create_zz_hamiltonian(dim_lengths)\n",
    "    # Converts each of the responses into Pyton compatible ones. \n",
    "    h_coeffs = list(h_coeffs)\n",
    "    matrix = (matrix.__array__()).tolist()\n",
    "    connect = []\n",
    "    for i in range(len(connect_jl)):\n",
    "        connect.append(list(connect_jl[i]))\n",
    "\n",
    "    return matrix, no_qubits, h_coeffs, connect"
   ]
  },
  {
   "cell_type": "markdown",
   "metadata": {},
   "source": [
    "For example, if we want the Ising connectivities for a cubic lattice (P) of $2\\times 2 \\times 1$ dimension, we provide to the `connectivity_Ising` function with a tuple of integer values, one for each dimension."
   ]
  },
  {
   "cell_type": "code",
   "execution_count": 6,
   "metadata": {},
   "outputs": [
    {
     "data": {
      "text/plain": [
       "[[0, 1], [0, 2], [1, 3], [2, 3]]"
      ]
     },
     "execution_count": 6,
     "metadata": {},
     "output_type": "execute_result"
    }
   ],
   "source": [
    "connectivity_Ising((2,2,1))"
   ]
  },
  {
   "cell_type": "markdown",
   "metadata": {},
   "source": [
    "Now, suppouse that we want not only the connectivities but also the Hammiltonian. In that case, we use the function `Ising matrix` with the same conventions of the previous function. This function returns the Hamiltonian matrix, the required number of qubits, a list of uniform coefficients, and the list of valid connectivities. E.g. for a lattice of $2 \\times 2 \\times 1$ dimmensions, we get "
   ]
  },
  {
   "cell_type": "code",
   "execution_count": 13,
   "metadata": {},
   "outputs": [],
   "source": [
    "# ***** The biggest tuple that we can handle is for a lattice of (2,2,3) dimentions!!!   <<<<<<<----- IMPORTANT\n",
    "issing_ham, issing_no_qubits, issing_h_coeffs, issing_connectivities = Ising_matrix((2,2,1)) "
   ]
  },
  {
   "cell_type": "markdown",
   "metadata": {},
   "source": [
    "The number of qubits: "
   ]
  },
  {
   "cell_type": "code",
   "execution_count": 14,
   "metadata": {},
   "outputs": [
    {
     "data": {
      "text/plain": [
       "4"
      ]
     },
     "execution_count": 14,
     "metadata": {},
     "output_type": "execute_result"
    }
   ],
   "source": [
    "issing_no_qubits"
   ]
  },
  {
   "cell_type": "markdown",
   "metadata": {},
   "source": [
    "A complex Hamiltonian matrix:"
   ]
  },
  {
   "cell_type": "code",
   "execution_count": 15,
   "metadata": {},
   "outputs": [
    {
     "name": "stdout",
     "output_type": "stream",
     "text": [
      "[[(4+0j), 0j, 0j, 0j, 0j, 0j, 0j, 0j, 0j, 0j, 0j, 0j, 0j, 0j, 0j, 0j], [0j, 0j, 0j, 0j, 0j, 0j, 0j, 0j, 0j, 0j, 0j, 0j, 0j, 0j, 0j, 0j], [0j, 0j, 0j, 0j, 0j, 0j, 0j, 0j, 0j, 0j, 0j, 0j, 0j, 0j, 0j, 0j], [0j, 0j, 0j, 0j, 0j, 0j, 0j, 0j, 0j, 0j, 0j, 0j, 0j, 0j, 0j, 0j], [0j, 0j, 0j, 0j, 0j, 0j, 0j, 0j, 0j, 0j, 0j, 0j, 0j, 0j, 0j, 0j], [0j, 0j, 0j, 0j, 0j, 0j, 0j, 0j, 0j, 0j, 0j, 0j, 0j, 0j, 0j, 0j], [0j, 0j, 0j, 0j, 0j, 0j, (-4+0j), 0j, 0j, 0j, 0j, 0j, 0j, 0j, 0j, 0j], [0j, 0j, 0j, 0j, 0j, 0j, 0j, 0j, 0j, 0j, 0j, 0j, 0j, 0j, 0j, 0j], [0j, 0j, 0j, 0j, 0j, 0j, 0j, 0j, 0j, 0j, 0j, 0j, 0j, 0j, 0j, 0j], [0j, 0j, 0j, 0j, 0j, 0j, 0j, 0j, 0j, (-4+0j), 0j, 0j, 0j, 0j, 0j, 0j], [0j, 0j, 0j, 0j, 0j, 0j, 0j, 0j, 0j, 0j, 0j, 0j, 0j, 0j, 0j, 0j], [0j, 0j, 0j, 0j, 0j, 0j, 0j, 0j, 0j, 0j, 0j, 0j, 0j, 0j, 0j, 0j], [0j, 0j, 0j, 0j, 0j, 0j, 0j, 0j, 0j, 0j, 0j, 0j, 0j, 0j, 0j, 0j], [0j, 0j, 0j, 0j, 0j, 0j, 0j, 0j, 0j, 0j, 0j, 0j, 0j, 0j, 0j, 0j], [0j, 0j, 0j, 0j, 0j, 0j, 0j, 0j, 0j, 0j, 0j, 0j, 0j, 0j, 0j, 0j], [0j, 0j, 0j, 0j, 0j, 0j, 0j, 0j, 0j, 0j, 0j, 0j, 0j, 0j, 0j, (4+0j)]]\n"
     ]
    }
   ],
   "source": [
    "print(issing_ham)"
   ]
  },
  {
   "cell_type": "markdown",
   "metadata": {},
   "source": [
    "A list of valid connectivities: "
   ]
  },
  {
   "cell_type": "code",
   "execution_count": 16,
   "metadata": {},
   "outputs": [
    {
     "data": {
      "text/plain": [
       "[[0, 1], [0, 2], [1, 3], [2, 3]]"
      ]
     },
     "execution_count": 16,
     "metadata": {},
     "output_type": "execute_result"
    }
   ],
   "source": [
    "issing_connectivities"
   ]
  },
  {
   "cell_type": "markdown",
   "metadata": {},
   "source": [
    "And a list of uniform connectivities coefficients: "
   ]
  },
  {
   "cell_type": "code",
   "execution_count": 17,
   "metadata": {},
   "outputs": [
    {
     "data": {
      "text/plain": [
       "[1.0, 1.0, 1.0, 1.0]"
      ]
     },
     "execution_count": 17,
     "metadata": {},
     "output_type": "execute_result"
    }
   ],
   "source": [
    "issing_h_coeffs"
   ]
  },
  {
   "cell_type": "markdown",
   "metadata": {},
   "source": [
    "- A Issing Hamiltonian given a connectivity\n",
    "\n",
    "Suppouse tha we have already a list of connectivities and that we want to use a Issing model to simulate our set. So we can use the function `given_Issing_ham` that receives a list of connectivities\n",
    "(a lis of lists), and returns a complex hamiltonian matrix, the number of qubits needed to perform subsequent calculations, a list of uniform connectivity coefficients and the connectivity provided. "
   ]
  },
  {
   "cell_type": "code",
   "execution_count": 19,
   "metadata": {},
   "outputs": [],
   "source": [
    "# Recives a list of connectivities, returns the hamiltonian, number_of_qubits, h_coeffs and the connectivity provided. \n",
    "def given_Issing_ham(connectivity):\n",
    "    a0 = []\n",
    "    for i in connectivity:  # Converts a List of List to a Julia Vector of Vectors\n",
    "        a0.append(jl.PythonCall.pyconvert(jl.Vector,i))\n",
    "        j0 = jl.PythonCall.pyconvert(jl.Vector,a0)\n",
    "    jl.convert(jl.Vector,a0) \n",
    "    \n",
    "    hamiltonian, num_qubits, h_coeffs, connectivities = jl.create_zz_hamiltonian(j0) # calls the julia function\n",
    "    # converts the Julia results to Python \n",
    "    hamiltonian = (hamiltonian.__array__()).tolist()\n",
    "    h_coeffs = (h_coeffs.__array__()).tolist()\n",
    "\n",
    "    return hamiltonian, num_qubits, h_coeffs, connectivity"
   ]
  },
  {
   "cell_type": "markdown",
   "metadata": {},
   "source": [
    "So for a 4 elements Issing chain, we provide the right list of connectivities for this system.  "
   ]
  },
  {
   "cell_type": "code",
   "execution_count": 20,
   "metadata": {},
   "outputs": [],
   "source": [
    "issing_ham_con, issing_num_qubits_con, issing_h_coeffs_con, issing_con_con = given_Issing_ham([[0,1],[1,2],[2,3]])"
   ]
  },
  {
   "cell_type": "markdown",
   "metadata": {},
   "source": [
    "And we get the Hamiltonian matrix"
   ]
  },
  {
   "cell_type": "code",
   "execution_count": 15,
   "metadata": {},
   "outputs": [
    {
     "name": "stdout",
     "output_type": "stream",
     "text": [
      "[[(3+0j), 0j, 0j, 0j, 0j, 0j, 0j, 0j, 0j, 0j, 0j, 0j, 0j, 0j, 0j, 0j], [0j, (1+0j), 0j, 0j, 0j, 0j, 0j, 0j, 0j, 0j, 0j, 0j, 0j, 0j, 0j, 0j], [0j, 0j, (-1+0j), 0j, 0j, 0j, 0j, 0j, 0j, 0j, 0j, 0j, 0j, 0j, 0j, 0j], [0j, 0j, 0j, (1+0j), 0j, 0j, 0j, 0j, 0j, 0j, 0j, 0j, 0j, 0j, 0j, 0j], [0j, 0j, 0j, 0j, (-1+0j), 0j, 0j, 0j, 0j, 0j, 0j, 0j, 0j, 0j, 0j, 0j], [0j, 0j, 0j, 0j, 0j, (-3+0j), 0j, 0j, 0j, 0j, 0j, 0j, 0j, 0j, 0j, 0j], [0j, 0j, 0j, 0j, 0j, 0j, (-1+0j), 0j, 0j, 0j, 0j, 0j, 0j, 0j, 0j, 0j], [0j, 0j, 0j, 0j, 0j, 0j, 0j, (1+0j), 0j, 0j, 0j, 0j, 0j, 0j, 0j, 0j], [0j, 0j, 0j, 0j, 0j, 0j, 0j, 0j, (1+0j), 0j, 0j, 0j, 0j, 0j, 0j, 0j], [0j, 0j, 0j, 0j, 0j, 0j, 0j, 0j, 0j, (-1+0j), 0j, 0j, 0j, 0j, 0j, 0j], [0j, 0j, 0j, 0j, 0j, 0j, 0j, 0j, 0j, 0j, (-3+0j), 0j, 0j, 0j, 0j, 0j], [0j, 0j, 0j, 0j, 0j, 0j, 0j, 0j, 0j, 0j, 0j, (-1+0j), 0j, 0j, 0j, 0j], [0j, 0j, 0j, 0j, 0j, 0j, 0j, 0j, 0j, 0j, 0j, 0j, (1+0j), 0j, 0j, 0j], [0j, 0j, 0j, 0j, 0j, 0j, 0j, 0j, 0j, 0j, 0j, 0j, 0j, (-1+0j), 0j, 0j], [0j, 0j, 0j, 0j, 0j, 0j, 0j, 0j, 0j, 0j, 0j, 0j, 0j, 0j, (1+0j), 0j], [0j, 0j, 0j, 0j, 0j, 0j, 0j, 0j, 0j, 0j, 0j, 0j, 0j, 0j, 0j, (3+0j)]]\n"
     ]
    }
   ],
   "source": [
    "print(list(issing_ham_con))"
   ]
  },
  {
   "cell_type": "markdown",
   "metadata": {},
   "source": [
    "The number of qubits needed"
   ]
  },
  {
   "cell_type": "code",
   "execution_count": 16,
   "metadata": {},
   "outputs": [
    {
     "data": {
      "text/plain": [
       "4"
      ]
     },
     "execution_count": 16,
     "metadata": {},
     "output_type": "execute_result"
    }
   ],
   "source": [
    "issing_num_qubits_con"
   ]
  },
  {
   "cell_type": "markdown",
   "metadata": {},
   "source": [
    "A list of uniform connectivity coefficients "
   ]
  },
  {
   "cell_type": "code",
   "execution_count": 21,
   "metadata": {},
   "outputs": [
    {
     "data": {
      "text/plain": [
       "[1.0, 1.0, 1.0, 1.0]"
      ]
     },
     "execution_count": 21,
     "metadata": {},
     "output_type": "execute_result"
    }
   ],
   "source": [
    "issing_h_coeffs_con"
   ]
  },
  {
   "cell_type": "markdown",
   "metadata": {},
   "source": [
    "And the list of connectivities initially provided. "
   ]
  },
  {
   "cell_type": "code",
   "execution_count": 22,
   "metadata": {},
   "outputs": [
    {
     "data": {
      "text/plain": [
       "[[0, 1], [1, 2], [2, 3]]"
      ]
     },
     "execution_count": 22,
     "metadata": {},
     "output_type": "execute_result"
    }
   ],
   "source": [
    "issing_con_con"
   ]
  },
  {
   "cell_type": "markdown",
   "metadata": {},
   "source": [
    "This code can be easily extended for a more general Issing model, e.g on a set of non uniform atoms, a Hammiltonian with second order interactions. \n",
    "\n",
    "Now, why Julia? Because is easier to do Complex Linear Algebra there, as we did not use external libraries like Numpy to manage arrays and matrix math in Python. As much, we call the package LinearAlgebra.jl to perform some advanced functions over matrices like a kroneker product of matrices, but without using more notation. "
   ]
  },
  {
   "cell_type": "markdown",
   "metadata": {},
   "source": [
    "## Use multiple parameters for the Hamiltonian\n",
    "\n",
    "As the standard implementation of HamiltonianGate in qiskit does not support parameters for the Hamiltonian, we need our own Gate implementation."
   ]
  },
  {
   "cell_type": "code",
   "execution_count": 110,
   "metadata": {},
   "outputs": [],
   "source": [
    "from numbers import Number\n",
    "import numpy\n",
    "\n",
    "import qutip as qt\n",
    "\n",
    "from qiskit.circuit import Gate, QuantumCircuit, QuantumRegister, ParameterExpression\n",
    "from qiskit.quantum_info.operators.predicates import matrix_equal\n",
    "from qiskit.quantum_info.operators.predicates import is_hermitian_matrix\n",
    "from qiskit.extensions.exceptions import ExtensionError\n",
    "from qiskit.circuit.exceptions import CircuitError\n",
    "\n",
    "from qiskit.circuit import Parameter, QuantumCircuit, QuantumRegister \n",
    "\n",
    "\n",
    "from qiskit.extensions.unitary import UnitaryGate\n",
    "\n",
    "# This code is based on https://github.com/Qiskit/qiskit-terra/blob/main/qiskit/extensions/hamiltonian_gate.py licenced under Apache licence.\n",
    "class CustomHamiltonianGate(Gate):\n",
    "    def __init__(self, time, no_qubits, connectivity, h_coeff0,h_coeff1,h_coeff2,h_coeff3=1.0,h_coeff4=1.0,h_coeff5=1.0, label=None):\n",
    "        if isinstance(time, Number) and time != numpy.real(time):\n",
    "            raise ExtensionError(\"Evolution time is not real.\")\n",
    "       \n",
    "        self.no_qubits = no_qubits\n",
    "        self.connectivity = connectivity\n",
    "        # Store instruction params\n",
    "        super().__init__(\"custom_hamiltonian\", no_qubits, [time, no_qubits, connectivity, h_coeff0,h_coeff1,h_coeff2,h_coeff3,h_coeff4,h_coeff5], label=label)\n",
    "\n",
    "    def __array__(self, dtype=None):\n",
    "        \"\"\"Return matrix for the unitary.\"\"\"\n",
    "        # pylint: disable=unused-argument\n",
    "        import scipy.linalg\n",
    "\n",
    "        try:\n",
    "            print(type(self.params[0]))\n",
    "            a1 = complex(self.params[0])\n",
    "            a2 = self.get_ham()\n",
    "            return scipy.linalg.expm(-1.0j *  a2 * a1)\n",
    "        except TypeError as ex:\n",
    "            raise TypeError(\n",
    "                \"Unable to generate Unitary matrix for \"\n",
    "                #\"unbound t parameter {}\".format(complex(self.params[1]))\n",
    "            ) from ex\n",
    "\n",
    "    def _define(self):\n",
    "        \"\"\"Calculate a subcircuit that implements this unitary.\"\"\"\n",
    "        q = QuantumRegister(self.no_qubits, \"q\")\n",
    "        qc = QuantumCircuit(q, name=self.name)\n",
    "        qc._append(UnitaryGate(self.to_matrix()), q[:], [])\n",
    "        self.definition = qc\n",
    "\n",
    "    def validate_parameter(self, parameter):\n",
    "        return parameter\n",
    "\n",
    "    def get_ham(self):\n",
    "        dim = 2 ** self.no_qubits\n",
    "        no_connections = len(self.connectivity)\n",
    "        zz_hamiltonian = np.zeros([dim, dim], dtype=np.complex128)\n",
    "\n",
    "        for c in range(no_connections):\n",
    "            ops_to_tensor = [qt.identity(2)] * self.no_qubits\n",
    "            ops_to_tensor[self.connectivity[c][0]] = qt.sigmaz()\n",
    "            ops_to_tensor[self.connectivity[c][1]] = qt.sigmaz()\n",
    "            zz_hamiltonian = zz_hamiltonian + complex(self.params[3+c]) * np.array(qt.tensor(ops_to_tensor))\n",
    "            print(zz_hamiltonian)\n",
    "        return zz_hamiltonian\n",
    "\n",
    "def custom_hamiltonian(self, time, connectivity,qubits,h_coeff0,h_coeff1,h_coeff2,h_coeff3=1.0,h_coeff4=1.0,h_coeff5=1.0, label=None):\n",
    "    \"\"\"Apply hamiltonian evolution to qubits.\"\"\"\n",
    "    if not isinstance(qubits, list):\n",
    "        qubits = [qubits]\n",
    "\n",
    "    return self.append(CustomHamiltonianGate(time=time, no_qubits = len(qubits), connectivity=connectivity, h_coeff0=h_coeff0,h_coeff1=h_coeff1,h_coeff2 = h_coeff2,h_coeff3 = h_coeff3,h_coeff4 = h_coeff4,h_coeff5 = h_coeff5, label=label), qubits, [])\n",
    "\n",
    "\n",
    "QuantumCircuit.custom_hamiltonian = custom_hamiltonian"
   ]
  },
  {
   "cell_type": "code",
   "execution_count": 111,
   "metadata": {},
   "outputs": [],
   "source": [
    "import numpy as np\n",
    "import pylab\n",
    "\n",
    "from qiskit import Aer\n",
    "from qiskit.utils import QuantumInstance, algorithm_globals\n",
    "from qiskit.circuit import  ParameterVector\n",
    "from qiskit.algorithms import VQE, NumPyMinimumEigensolver\n",
    "from qiskit.algorithms.optimizers import SPSA\n",
    "from qiskit.opflow import I, X, Z, Y\n",
    "import os\n",
    "from qiskit.providers.aer import QasmSimulator\n",
    "from qiskit.providers.aer.noise import NoiseModel\n",
    "from qiskit.providers.fake_provider import FakeVigo\n",
    "\n",
    "def vqe_with_daqc(no_qubits = 4, no_iters = 1, connections = [[0,1],[1,2],[2,3]]):\n",
    "    \n",
    "    \"\"\"if no_qubits == 4:\n",
    "        H2_op = (-1.052373245772859 * I ^ I ^ I ^I ) + \\\n",
    "        (0.39793742484318045 * I ^ Z ^ I ^I ) + \\\n",
    "        (-0.39793742484318045 * Z ^ I ^ I ^I ) + \\\n",
    "        (-0.01128010425623538 * Z ^ Z ^ I ^I ) + \\\n",
    "        (0.18093119978423156 * X ^ X ^ I ^I )\n",
    "    elif no_qubits == 2:\n",
    "        H2_op = (-1.052373245772859 * I ^ I) + \\\n",
    "        (0.39793742484318045 * I ^ Z) + \\\n",
    "        (-0.39793742484318045 * Z ^ I) + \\\n",
    "        (-0.01128010425623538 * Z ^ Z) + \\\n",
    "        (0.18093119978423156 * X ^ X)\n",
    "    else: \n",
    "        print(\"Error: Number of qubits must be 2 or 4.\")\"\"\"\n",
    "    \n",
    "    if no_qubits == 4:\n",
    "        H2_op = (-0.24274501260985903 * I ^ I ^ I ^ Z) + \\\n",
    "                (-0.24274501260985892 * I ^ I ^ Z ^ I) + \\\n",
    "                (-0.04207255194704551 * I ^ I ^ I ^ I) + \\\n",
    "                (0.1777135822906458   * I ^ Z ^ I ^ I) + \\\n",
    "                (0.17771358229064585  * Z ^ I ^ I ^ I) + \\\n",
    "                (0.12293330449313068  * Z ^ I ^ Z ^ I) + \\\n",
    "                (0.12293330449313068  * I ^ Z ^ I ^ Z) + \\\n",
    "                (0.16768338855620052  * Z ^ I ^ I ^ Z) + \\\n",
    "                (0.16768338855620052  * I ^ Z ^ Z ^ I) + \\\n",
    "                (0.17059759276842779  * Z ^ Z ^ I ^ I) + \\\n",
    "                (0.17627661394214955  * I ^ I ^ Z ^ Z) + \\\n",
    "                (-0.04475008406306982 * Y ^ Y ^ X ^ X) + \\\n",
    "                (-0.04475008406306982 * X ^ X ^ Y ^ Y) + \\\n",
    "                (0.04475008406306982  * Y ^ X ^ X ^ Y) + \\\n",
    "                (0.04475008406306982  * X ^ Y ^ Y ^ X)\n",
    "    elif no_qubits == 2:\n",
    "        H2_op = (-1.052373245772859 * I ^ I) + \\\n",
    "                (0.39793742484318045 * I ^ Z) + \\\n",
    "                (-0.39793742484318045 * Z ^ I) + \\\n",
    "                (-0.01128010425623538 * Z ^ Z) + \\\n",
    "                (0.18093119978423156 * X ^ X)\n",
    "    else: \n",
    "        print(\"Error: Number of qubits must be 2 or 4.\") \n",
    "\n",
    "\n",
    "    seed = 170\n",
    "    iterations = 125\n",
    "    algorithm_globals.random_seed = seed\n",
    "    backend = Aer.get_backend('aer_simulator')\n",
    "    qi = QuantumInstance(backend=backend, seed_simulator=seed, seed_transpiler=seed) \n",
    "    counts = []\n",
    "    values = []\n",
    "    def store_intermediate_result(eval_count, parameters, mean, std):\n",
    "        counts.append(eval_count)\n",
    "        values.append(mean)\n",
    "\n",
    "    no_con = len(connections)\n",
    "    p = ParameterVector('p', no_con + 3 * no_qubits + no_iters * (3 * no_qubits + 1))\n",
    "\n",
    "    qr = QuantumRegister(no_qubits)\n",
    "    circ = QuantumCircuit(qr)\n",
    "\n",
    "    for i in range(no_qubits):\n",
    "        circ.u(p[3*i],p[3*i+1],p[3*i+2],i)\n",
    "    for j in range(no_iters):\n",
    "        n = 3 * no_qubits\n",
    "        if no_con == 1 and no_qubits == 2:\n",
    "            circ.custom_hamiltonian(connectivity=connections, h_coeff0=p[n], h_coeff1=1.0, h_coeff2=1.0, time=p[n+1+13*j], qubits=[qr[0], qr[1]], label='analog block')\n",
    "        elif no_con == 3 and no_qubits == 4:\n",
    "            circ.custom_hamiltonian(connectivity=connections, h_coeff0=p[n], h_coeff1=p[n+1], h_coeff2=p[n+2], time=p[n+3+13*j], qubits=[qr[0], qr[1], qr[2], qr[3]], label='analog block')\n",
    "        elif no_con == 4 and no_qubits == 4:\n",
    "            circ.custom_hamiltonian(connectivity=connections, h_coeff0=p[n], h_coeff1=p[n+1], h_coeff2=p[n+2], h_coeff3=p[n+3], time=p[n+4+13*j], qubits=[qr[0], qr[1], qr[2], qr[3]], label='analog block')\n",
    "        elif no_con == 5 and no_qubits == 4:\n",
    "            circ.custom_hamiltonian(connectivity=connections, h_coeff0=p[n], h_coeff1=p[n+1], h_coeff2=p[n+2], h_coeff3=p[n+3], h_coeff4=p[n+4], time=p[n+5+13*j], qubits=[qr[0], qr[1], qr[2], qr[3]], label='analog block')\n",
    "        elif no_con == 6 and no_qubits == 4:\n",
    "            circ.custom_hamiltonian(connectivity=connections, h_coeff0=p[n], h_coeff1=p[n+1], h_coeff2=p[n+2], h_coeff3=p[n+3], h_coeff4=p[n+4], h_coeff5=p[n+5], time=p[n+6+13*j], qubits=[qr[0], qr[1], qr[2], qr[3]], label='analog block')\n",
    "        else:\n",
    "            print(\"Error: Number of connections must be 1 for 2 qubits or 3, 4, 5 or 6 for 4 qubits.\")\n",
    "        for i in range(no_qubits):\n",
    "            n = no_con + 3 * no_qubits + (3 * no_qubits + 1) * j + 3 * i + 1\n",
    "            circ.u(p[n],p[n+1],p[n+2],i)\n",
    "    ansatz = circ\n",
    "    #print(ansatz)\n",
    "\n",
    "    spsa = SPSA(maxiter=iterations)\n",
    "    vqe = VQE(ansatz, optimizer=spsa, callback=store_intermediate_result, quantum_instance=qi)\n",
    "    result = vqe.compute_minimum_eigenvalue(operator=H2_op)\n",
    "    res = result.eigenvalue.real\n",
    "    return res\n",
    "   "
   ]
  },
  {
   "cell_type": "code",
   "execution_count": 112,
   "metadata": {},
   "outputs": [
    {
     "name": "stdout",
     "output_type": "stream",
     "text": [
      "Reference value: -1.85728\n",
      "<class 'qiskit.circuit.parametervector.ParameterVectorElement'>\n"
     ]
    },
    {
     "ename": "TypeError",
     "evalue": "Unable to generate Unitary matrix for ",
     "output_type": "error",
     "traceback": [
      "\u001b[1;31m---------------------------------------------------------------------------\u001b[0m",
      "\u001b[1;31mTypeError\u001b[0m                                 Traceback (most recent call last)",
      "File \u001b[1;32m~\\AppData\\Roaming\\Python\\Python39\\site-packages\\qiskit\\circuit\\parameterexpression.py:449\u001b[0m, in \u001b[0;36mParameterExpression.__complex__\u001b[1;34m(self)\u001b[0m\n\u001b[0;32m    448\u001b[0m \u001b[39mtry\u001b[39;00m:\n\u001b[1;32m--> 449\u001b[0m     \u001b[39mreturn\u001b[39;00m \u001b[39mcomplex\u001b[39;49m(\u001b[39mself\u001b[39;49m\u001b[39m.\u001b[39;49m_symbol_expr)\n\u001b[0;32m    450\u001b[0m \u001b[39m# TypeError is for sympy, RuntimeError for symengine\u001b[39;00m\n",
      "File \u001b[1;32mc:\\Users\\cesar\\anaconda3\\lib\\site-packages\\sympy\\core\\expr.py:350\u001b[0m, in \u001b[0;36mExpr.__complex__\u001b[1;34m(self)\u001b[0m\n\u001b[0;32m    349\u001b[0m re, im \u001b[39m=\u001b[39m result\u001b[39m.\u001b[39mas_real_imag()\n\u001b[1;32m--> 350\u001b[0m \u001b[39mreturn\u001b[39;00m \u001b[39mcomplex\u001b[39m(\u001b[39mfloat\u001b[39;49m(re), \u001b[39mfloat\u001b[39m(im))\n",
      "File \u001b[1;32mc:\\Users\\cesar\\anaconda3\\lib\\site-packages\\sympy\\core\\expr.py:345\u001b[0m, in \u001b[0;36mExpr.__float__\u001b[1;34m(self)\u001b[0m\n\u001b[0;32m    344\u001b[0m     \u001b[39mraise\u001b[39;00m \u001b[39mTypeError\u001b[39;00m(\u001b[39m\"\u001b[39m\u001b[39mCannot convert complex to float\u001b[39m\u001b[39m\"\u001b[39m)\n\u001b[1;32m--> 345\u001b[0m \u001b[39mraise\u001b[39;00m \u001b[39mTypeError\u001b[39;00m(\u001b[39m\"\u001b[39m\u001b[39mCannot convert expression to float\u001b[39m\u001b[39m\"\u001b[39m)\n",
      "\u001b[1;31mTypeError\u001b[0m: Cannot convert expression to float",
      "\nThe above exception was the direct cause of the following exception:\n",
      "\u001b[1;31mTypeError\u001b[0m                                 Traceback (most recent call last)",
      "\u001b[1;32md:\\Cesar\\GitHub\\Womanium_hack\\iqm-academy-womanium-hackathon-DAQC-VQE\\VQE-with-parametrized-hamiltonian.ipynb Celda 26\u001b[0m in \u001b[0;36mCustomHamiltonianGate.__array__\u001b[1;34m(self, dtype)\u001b[0m\n\u001b[0;32m     <a href='vscode-notebook-cell:/d%3A/Cesar/GitHub/Womanium_hack/iqm-academy-womanium-hackathon-DAQC-VQE/VQE-with-parametrized-hamiltonian.ipynb#X34sZmlsZQ%3D%3D?line=33'>34</a>\u001b[0m \u001b[39mprint\u001b[39m(\u001b[39mtype\u001b[39m(\u001b[39mself\u001b[39m\u001b[39m.\u001b[39mparams[\u001b[39m0\u001b[39m]))\n\u001b[1;32m---> <a href='vscode-notebook-cell:/d%3A/Cesar/GitHub/Womanium_hack/iqm-academy-womanium-hackathon-DAQC-VQE/VQE-with-parametrized-hamiltonian.ipynb#X34sZmlsZQ%3D%3D?line=34'>35</a>\u001b[0m a1 \u001b[39m=\u001b[39m \u001b[39mcomplex\u001b[39;49m(\u001b[39mself\u001b[39;49m\u001b[39m.\u001b[39;49mparams[\u001b[39m0\u001b[39;49m])\n\u001b[0;32m     <a href='vscode-notebook-cell:/d%3A/Cesar/GitHub/Womanium_hack/iqm-academy-womanium-hackathon-DAQC-VQE/VQE-with-parametrized-hamiltonian.ipynb#X34sZmlsZQ%3D%3D?line=35'>36</a>\u001b[0m a2 \u001b[39m=\u001b[39m \u001b[39mself\u001b[39m\u001b[39m.\u001b[39mget_ham()\n",
      "File \u001b[1;32m~\\AppData\\Roaming\\Python\\Python39\\site-packages\\qiskit\\circuit\\parameterexpression.py:452\u001b[0m, in \u001b[0;36mParameterExpression.__complex__\u001b[1;34m(self)\u001b[0m\n\u001b[0;32m    451\u001b[0m \u001b[39mexcept\u001b[39;00m (\u001b[39mTypeError\u001b[39;00m, \u001b[39mRuntimeError\u001b[39;00m) \u001b[39mas\u001b[39;00m exc:\n\u001b[1;32m--> 452\u001b[0m     \u001b[39mraise\u001b[39;00m \u001b[39mTypeError\u001b[39;00m(\n\u001b[0;32m    453\u001b[0m         \u001b[39m\"\u001b[39m\u001b[39mParameterExpression with unbound parameters (\u001b[39m\u001b[39m{}\u001b[39;00m\u001b[39m) \u001b[39m\u001b[39m\"\u001b[39m\n\u001b[0;32m    454\u001b[0m         \u001b[39m\"\u001b[39m\u001b[39mcannot be cast to a complex.\u001b[39m\u001b[39m\"\u001b[39m\u001b[39m.\u001b[39mformat(\u001b[39mself\u001b[39m\u001b[39m.\u001b[39mparameters)\n\u001b[0;32m    455\u001b[0m     ) \u001b[39mfrom\u001b[39;00m \u001b[39mexc\u001b[39;00m\n",
      "\u001b[1;31mTypeError\u001b[0m: ParameterExpression with unbound parameters ({ParameterVectorElement(p[15])}) cannot be cast to a complex.",
      "\nThe above exception was the direct cause of the following exception:\n",
      "\u001b[1;31mTypeError\u001b[0m                                 Traceback (most recent call last)",
      "\u001b[1;32md:\\Cesar\\GitHub\\Womanium_hack\\iqm-academy-womanium-hackathon-DAQC-VQE\\VQE-with-parametrized-hamiltonian.ipynb Celda 26\u001b[0m in \u001b[0;36m<cell line: 3>\u001b[1;34m()\u001b[0m\n\u001b[0;32m      <a href='vscode-notebook-cell:/d%3A/Cesar/GitHub/Womanium_hack/iqm-academy-womanium-hackathon-DAQC-VQE/VQE-with-parametrized-hamiltonian.ipynb#X34sZmlsZQ%3D%3D?line=1'>2</a>\u001b[0m \u001b[39mprint\u001b[39m(\u001b[39mf\u001b[39m\u001b[39m'\u001b[39m\u001b[39mReference value: \u001b[39m\u001b[39m{\u001b[39;00mref_value\u001b[39m:\u001b[39;00m\u001b[39m.5f\u001b[39m\u001b[39m}\u001b[39;00m\u001b[39m'\u001b[39m)\n\u001b[0;32m      <a href='vscode-notebook-cell:/d%3A/Cesar/GitHub/Womanium_hack/iqm-academy-womanium-hackathon-DAQC-VQE/VQE-with-parametrized-hamiltonian.ipynb#X34sZmlsZQ%3D%3D?line=2'>3</a>\u001b[0m \u001b[39mfor\u001b[39;00m k \u001b[39min\u001b[39;00m \u001b[39mrange\u001b[39m(\u001b[39m1\u001b[39m,\u001b[39m3\u001b[39m):\n\u001b[1;32m----> <a href='vscode-notebook-cell:/d%3A/Cesar/GitHub/Womanium_hack/iqm-academy-womanium-hackathon-DAQC-VQE/VQE-with-parametrized-hamiltonian.ipynb#X34sZmlsZQ%3D%3D?line=3'>4</a>\u001b[0m     res \u001b[39m=\u001b[39m vqe_with_daqc(\u001b[39m4\u001b[39;49m,k)\n\u001b[0;32m      <a href='vscode-notebook-cell:/d%3A/Cesar/GitHub/Womanium_hack/iqm-academy-womanium-hackathon-DAQC-VQE/VQE-with-parametrized-hamiltonian.ipynb#X34sZmlsZQ%3D%3D?line=4'>5</a>\u001b[0m     \u001b[39mprint\u001b[39m(\u001b[39mf\u001b[39m\u001b[39m\"\u001b[39m\u001b[39mk=\u001b[39m\u001b[39m{\u001b[39;00mk\u001b[39m}\u001b[39;00m\u001b[39m\"\u001b[39m)\n\u001b[0;32m      <a href='vscode-notebook-cell:/d%3A/Cesar/GitHub/Womanium_hack/iqm-academy-womanium-hackathon-DAQC-VQE/VQE-with-parametrized-hamiltonian.ipynb#X34sZmlsZQ%3D%3D?line=5'>6</a>\u001b[0m     \u001b[39mprint\u001b[39m(\u001b[39mf\u001b[39m\u001b[39m'\u001b[39m\u001b[39mVQE on Aer qasm simulator (no noise): \u001b[39m\u001b[39m{\u001b[39;00mres\u001b[39m:\u001b[39;00m\u001b[39m.5f\u001b[39m\u001b[39m}\u001b[39;00m\u001b[39m'\u001b[39m)\n",
      "\u001b[1;32md:\\Cesar\\GitHub\\Womanium_hack\\iqm-academy-womanium-hackathon-DAQC-VQE\\VQE-with-parametrized-hamiltonian.ipynb Celda 26\u001b[0m in \u001b[0;36mvqe_with_daqc\u001b[1;34m(no_qubits, no_iters, connections)\u001b[0m\n\u001b[0;32m     <a href='vscode-notebook-cell:/d%3A/Cesar/GitHub/Womanium_hack/iqm-academy-womanium-hackathon-DAQC-VQE/VQE-with-parametrized-hamiltonian.ipynb#X34sZmlsZQ%3D%3D?line=96'>97</a>\u001b[0m spsa \u001b[39m=\u001b[39m SPSA(maxiter\u001b[39m=\u001b[39miterations)\n\u001b[0;32m     <a href='vscode-notebook-cell:/d%3A/Cesar/GitHub/Womanium_hack/iqm-academy-womanium-hackathon-DAQC-VQE/VQE-with-parametrized-hamiltonian.ipynb#X34sZmlsZQ%3D%3D?line=97'>98</a>\u001b[0m vqe \u001b[39m=\u001b[39m VQE(ansatz, optimizer\u001b[39m=\u001b[39mspsa, callback\u001b[39m=\u001b[39mstore_intermediate_result, quantum_instance\u001b[39m=\u001b[39mqi)\n\u001b[1;32m---> <a href='vscode-notebook-cell:/d%3A/Cesar/GitHub/Womanium_hack/iqm-academy-womanium-hackathon-DAQC-VQE/VQE-with-parametrized-hamiltonian.ipynb#X34sZmlsZQ%3D%3D?line=98'>99</a>\u001b[0m result \u001b[39m=\u001b[39m vqe\u001b[39m.\u001b[39;49mcompute_minimum_eigenvalue(operator\u001b[39m=\u001b[39;49mH2_op)\n\u001b[0;32m    <a href='vscode-notebook-cell:/d%3A/Cesar/GitHub/Womanium_hack/iqm-academy-womanium-hackathon-DAQC-VQE/VQE-with-parametrized-hamiltonian.ipynb#X34sZmlsZQ%3D%3D?line=99'>100</a>\u001b[0m res \u001b[39m=\u001b[39m result\u001b[39m.\u001b[39meigenvalue\u001b[39m.\u001b[39mreal\n\u001b[0;32m    <a href='vscode-notebook-cell:/d%3A/Cesar/GitHub/Womanium_hack/iqm-academy-womanium-hackathon-DAQC-VQE/VQE-with-parametrized-hamiltonian.ipynb#X34sZmlsZQ%3D%3D?line=100'>101</a>\u001b[0m \u001b[39mreturn\u001b[39;00m res\n",
      "File \u001b[1;32m~\\AppData\\Roaming\\Python\\Python39\\site-packages\\qiskit\\algorithms\\minimum_eigen_solvers\\vqe.py:530\u001b[0m, in \u001b[0;36mVQE.compute_minimum_eigenvalue\u001b[1;34m(self, operator, aux_operators)\u001b[0m\n\u001b[0;32m    526\u001b[0m     opt_result \u001b[39m=\u001b[39m \u001b[39mself\u001b[39m\u001b[39m.\u001b[39moptimizer(  \u001b[39m# pylint: disable=not-callable\u001b[39;00m\n\u001b[0;32m    527\u001b[0m         fun\u001b[39m=\u001b[39menergy_evaluation, x0\u001b[39m=\u001b[39minitial_point, jac\u001b[39m=\u001b[39mgradient, bounds\u001b[39m=\u001b[39mbounds\n\u001b[0;32m    528\u001b[0m     )\n\u001b[0;32m    529\u001b[0m \u001b[39melse\u001b[39;00m:\n\u001b[1;32m--> 530\u001b[0m     opt_result \u001b[39m=\u001b[39m \u001b[39mself\u001b[39;49m\u001b[39m.\u001b[39;49moptimizer\u001b[39m.\u001b[39;49mminimize(\n\u001b[0;32m    531\u001b[0m         fun\u001b[39m=\u001b[39;49menergy_evaluation, x0\u001b[39m=\u001b[39;49minitial_point, jac\u001b[39m=\u001b[39;49mgradient, bounds\u001b[39m=\u001b[39;49mbounds\n\u001b[0;32m    532\u001b[0m     )\n\u001b[0;32m    534\u001b[0m eval_time \u001b[39m=\u001b[39m time() \u001b[39m-\u001b[39m start_time\n\u001b[0;32m    536\u001b[0m result \u001b[39m=\u001b[39m VQEResult()\n",
      "File \u001b[1;32m~\\AppData\\Roaming\\Python\\Python39\\site-packages\\qiskit\\algorithms\\optimizers\\spsa.py:512\u001b[0m, in \u001b[0;36mSPSA.minimize\u001b[1;34m(self, fun, x0, jac, bounds)\u001b[0m\n\u001b[0;32m    502\u001b[0m \u001b[39mdef\u001b[39;00m \u001b[39mminimize\u001b[39m(\n\u001b[0;32m    503\u001b[0m     \u001b[39mself\u001b[39m,\n\u001b[0;32m    504\u001b[0m     fun: Callable[[POINT], \u001b[39mfloat\u001b[39m],\n\u001b[1;32m   (...)\u001b[0m\n\u001b[0;32m    509\u001b[0m     \u001b[39m# ensure learning rate and perturbation are correctly set: either none or both\u001b[39;00m\n\u001b[0;32m    510\u001b[0m     \u001b[39m# this happens only here because for the calibration the loss function is required\u001b[39;00m\n\u001b[0;32m    511\u001b[0m     \u001b[39mif\u001b[39;00m \u001b[39mself\u001b[39m\u001b[39m.\u001b[39mlearning_rate \u001b[39mis\u001b[39;00m \u001b[39mNone\u001b[39;00m \u001b[39mand\u001b[39;00m \u001b[39mself\u001b[39m\u001b[39m.\u001b[39mperturbation \u001b[39mis\u001b[39;00m \u001b[39mNone\u001b[39;00m:\n\u001b[1;32m--> 512\u001b[0m         get_eta, get_eps \u001b[39m=\u001b[39m \u001b[39mself\u001b[39;49m\u001b[39m.\u001b[39;49mcalibrate(fun, x0, max_evals_grouped\u001b[39m=\u001b[39;49m\u001b[39mself\u001b[39;49m\u001b[39m.\u001b[39;49m_max_evals_grouped)\n\u001b[0;32m    513\u001b[0m     \u001b[39melse\u001b[39;00m:\n\u001b[0;32m    514\u001b[0m         get_eta, get_eps \u001b[39m=\u001b[39m _validate_pert_and_learningrate(\n\u001b[0;32m    515\u001b[0m             \u001b[39mself\u001b[39m\u001b[39m.\u001b[39mperturbation, \u001b[39mself\u001b[39m\u001b[39m.\u001b[39mlearning_rate\n\u001b[0;32m    516\u001b[0m         )\n",
      "File \u001b[1;32m~\\AppData\\Roaming\\Python\\Python39\\site-packages\\qiskit\\algorithms\\optimizers\\spsa.py:333\u001b[0m, in \u001b[0;36mSPSA.calibrate\u001b[1;34m(loss, initial_point, c, stability_constant, target_magnitude, alpha, gamma, modelspace, max_evals_grouped)\u001b[0m\n\u001b[0;32m    330\u001b[0m     pert \u001b[39m=\u001b[39m bernoulli_perturbation(dim)\n\u001b[0;32m    331\u001b[0m     points \u001b[39m+\u001b[39m\u001b[39m=\u001b[39m [initial_point \u001b[39m+\u001b[39m c \u001b[39m*\u001b[39m pert, initial_point \u001b[39m-\u001b[39m c \u001b[39m*\u001b[39m pert]\n\u001b[1;32m--> 333\u001b[0m losses \u001b[39m=\u001b[39m _batch_evaluate(loss, points, max_evals_grouped)\n\u001b[0;32m    335\u001b[0m avg_magnitudes \u001b[39m=\u001b[39m \u001b[39m0\u001b[39m\n\u001b[0;32m    336\u001b[0m \u001b[39mfor\u001b[39;00m i \u001b[39min\u001b[39;00m \u001b[39mrange\u001b[39m(steps):\n",
      "File \u001b[1;32m~\\AppData\\Roaming\\Python\\Python39\\site-packages\\qiskit\\algorithms\\optimizers\\spsa.py:718\u001b[0m, in \u001b[0;36m_batch_evaluate\u001b[1;34m(function, points, max_evals_grouped)\u001b[0m\n\u001b[0;32m    714\u001b[0m \u001b[39mdef\u001b[39;00m \u001b[39m_batch_evaluate\u001b[39m(function, points, max_evals_grouped):\n\u001b[0;32m    715\u001b[0m     \u001b[39m# if the function cannot handle lists of points as input, cover this case immediately\u001b[39;00m\n\u001b[0;32m    716\u001b[0m     \u001b[39mif\u001b[39;00m max_evals_grouped \u001b[39m==\u001b[39m \u001b[39m1\u001b[39m:\n\u001b[0;32m    717\u001b[0m         \u001b[39m# support functions with multiple arguments where the points are given in a tuple\u001b[39;00m\n\u001b[1;32m--> 718\u001b[0m         \u001b[39mreturn\u001b[39;00m [\n\u001b[0;32m    719\u001b[0m             function(\u001b[39m*\u001b[39mpoint) \u001b[39mif\u001b[39;00m \u001b[39misinstance\u001b[39m(point, \u001b[39mtuple\u001b[39m) \u001b[39melse\u001b[39;00m function(point) \u001b[39mfor\u001b[39;00m point \u001b[39min\u001b[39;00m points\n\u001b[0;32m    720\u001b[0m         ]\n\u001b[0;32m    722\u001b[0m     num_points \u001b[39m=\u001b[39m \u001b[39mlen\u001b[39m(points)\n\u001b[0;32m    724\u001b[0m     \u001b[39m# get the number of batches\u001b[39;00m\n",
      "File \u001b[1;32m~\\AppData\\Roaming\\Python\\Python39\\site-packages\\qiskit\\algorithms\\optimizers\\spsa.py:719\u001b[0m, in \u001b[0;36m<listcomp>\u001b[1;34m(.0)\u001b[0m\n\u001b[0;32m    714\u001b[0m \u001b[39mdef\u001b[39;00m \u001b[39m_batch_evaluate\u001b[39m(function, points, max_evals_grouped):\n\u001b[0;32m    715\u001b[0m     \u001b[39m# if the function cannot handle lists of points as input, cover this case immediately\u001b[39;00m\n\u001b[0;32m    716\u001b[0m     \u001b[39mif\u001b[39;00m max_evals_grouped \u001b[39m==\u001b[39m \u001b[39m1\u001b[39m:\n\u001b[0;32m    717\u001b[0m         \u001b[39m# support functions with multiple arguments where the points are given in a tuple\u001b[39;00m\n\u001b[0;32m    718\u001b[0m         \u001b[39mreturn\u001b[39;00m [\n\u001b[1;32m--> 719\u001b[0m             function(\u001b[39m*\u001b[39mpoint) \u001b[39mif\u001b[39;00m \u001b[39misinstance\u001b[39m(point, \u001b[39mtuple\u001b[39m) \u001b[39melse\u001b[39;00m function(point) \u001b[39mfor\u001b[39;00m point \u001b[39min\u001b[39;00m points\n\u001b[0;32m    720\u001b[0m         ]\n\u001b[0;32m    722\u001b[0m     num_points \u001b[39m=\u001b[39m \u001b[39mlen\u001b[39m(points)\n\u001b[0;32m    724\u001b[0m     \u001b[39m# get the number of batches\u001b[39;00m\n",
      "File \u001b[1;32m~\\AppData\\Roaming\\Python\\Python39\\site-packages\\qiskit\\algorithms\\minimum_eigen_solvers\\vqe.py:604\u001b[0m, in \u001b[0;36mVQE.get_energy_evaluation.<locals>.energy_evaluation\u001b[1;34m(parameters)\u001b[0m\n\u001b[0;32m    601\u001b[0m param_bindings \u001b[39m=\u001b[39m \u001b[39mdict\u001b[39m(\u001b[39mzip\u001b[39m(ansatz_params, parameter_sets\u001b[39m.\u001b[39mtranspose()\u001b[39m.\u001b[39mtolist()))\n\u001b[0;32m    603\u001b[0m start_time \u001b[39m=\u001b[39m time()\n\u001b[1;32m--> 604\u001b[0m sampled_expect_op \u001b[39m=\u001b[39m \u001b[39mself\u001b[39;49m\u001b[39m.\u001b[39;49m_circuit_sampler\u001b[39m.\u001b[39;49mconvert(expect_op, params\u001b[39m=\u001b[39;49mparam_bindings)\n\u001b[0;32m    605\u001b[0m means \u001b[39m=\u001b[39m np\u001b[39m.\u001b[39mreal(sampled_expect_op\u001b[39m.\u001b[39meval())\n\u001b[0;32m    607\u001b[0m \u001b[39mif\u001b[39;00m \u001b[39mself\u001b[39m\u001b[39m.\u001b[39m_callback \u001b[39mis\u001b[39;00m \u001b[39mnot\u001b[39;00m \u001b[39mNone\u001b[39;00m:\n",
      "File \u001b[1;32m~\\AppData\\Roaming\\Python\\Python39\\site-packages\\qiskit\\opflow\\converters\\circuit_sampler.py:174\u001b[0m, in \u001b[0;36mCircuitSampler.convert\u001b[1;34m(self, operator, params)\u001b[0m\n\u001b[0;32m    171\u001b[0m     \u001b[39mself\u001b[39m\u001b[39m.\u001b[39mclear_cache()\n\u001b[0;32m    173\u001b[0m \u001b[39m# convert to circuit and reduce\u001b[39;00m\n\u001b[1;32m--> 174\u001b[0m operator_dicts_replaced \u001b[39m=\u001b[39m operator\u001b[39m.\u001b[39;49mto_circuit_op()\n\u001b[0;32m    175\u001b[0m \u001b[39mself\u001b[39m\u001b[39m.\u001b[39m_reduced_op_cache \u001b[39m=\u001b[39m operator_dicts_replaced\u001b[39m.\u001b[39mreduce()\n\u001b[0;32m    177\u001b[0m \u001b[39m# extract circuits\u001b[39;00m\n",
      "File \u001b[1;32m~\\AppData\\Roaming\\Python\\Python39\\site-packages\\qiskit\\opflow\\list_ops\\list_op.py:568\u001b[0m, in \u001b[0;36mListOp.to_circuit_op\u001b[1;34m(self)\u001b[0m\n\u001b[0;32m    560\u001b[0m \u001b[39mif\u001b[39;00m \u001b[39mself\u001b[39m\u001b[39m.\u001b[39m\u001b[39m__class__\u001b[39m \u001b[39m==\u001b[39m ListOp:\n\u001b[0;32m    561\u001b[0m     \u001b[39mreturn\u001b[39;00m ListOp(\n\u001b[0;32m    562\u001b[0m         [\n\u001b[0;32m    563\u001b[0m             op\u001b[39m.\u001b[39mto_circuit_op() \u001b[39mif\u001b[39;00m \u001b[39mnot\u001b[39;00m \u001b[39misinstance\u001b[39m(op, OperatorStateFn) \u001b[39melse\u001b[39;00m op\n\u001b[1;32m   (...)\u001b[0m\n\u001b[0;32m    566\u001b[0m         \u001b[39m*\u001b[39m\u001b[39m*\u001b[39m\u001b[39mself\u001b[39m\u001b[39m.\u001b[39m_state(),\n\u001b[0;32m    567\u001b[0m     )\u001b[39m.\u001b[39mreduce()\n\u001b[1;32m--> 568\u001b[0m \u001b[39mreturn\u001b[39;00m \u001b[39mself\u001b[39;49m\u001b[39m.\u001b[39;49m\u001b[39m__class__\u001b[39;49m(\n\u001b[0;32m    569\u001b[0m     [\n\u001b[0;32m    570\u001b[0m         op\u001b[39m.\u001b[39;49mto_circuit_op() \u001b[39mif\u001b[39;49;00m \u001b[39mnot\u001b[39;49;00m \u001b[39misinstance\u001b[39;49m(op, OperatorStateFn) \u001b[39melse\u001b[39;49;00m op\n\u001b[0;32m    571\u001b[0m         \u001b[39mfor\u001b[39;49;00m op \u001b[39min\u001b[39;49;00m \u001b[39mself\u001b[39;49m\u001b[39m.\u001b[39;49moplist\n\u001b[0;32m    572\u001b[0m     ],\n\u001b[0;32m    573\u001b[0m     coeff\u001b[39m=\u001b[39;49m\u001b[39mself\u001b[39;49m\u001b[39m.\u001b[39;49mcoeff,\n\u001b[0;32m    574\u001b[0m     abelian\u001b[39m=\u001b[39;49m\u001b[39mself\u001b[39;49m\u001b[39m.\u001b[39;49mabelian,\n\u001b[0;32m    575\u001b[0m )\u001b[39m.\u001b[39;49mreduce()\n",
      "File \u001b[1;32m~\\AppData\\Roaming\\Python\\Python39\\site-packages\\qiskit\\opflow\\list_ops\\summed_op.py:136\u001b[0m, in \u001b[0;36mSummedOp.reduce\u001b[1;34m(self)\u001b[0m\n\u001b[0;32m    134\u001b[0m \u001b[39m# group duplicate operators\u001b[39;00m\n\u001b[0;32m    135\u001b[0m \u001b[39mif\u001b[39;00m \u001b[39misinstance\u001b[39m(reduced_ops, SummedOp):\n\u001b[1;32m--> 136\u001b[0m     reduced_ops \u001b[39m=\u001b[39m reduced_ops\u001b[39m.\u001b[39;49mcollapse_summands()\n\u001b[0;32m    138\u001b[0m \u001b[39m# pylint: disable=cyclic-import\u001b[39;00m\n\u001b[0;32m    139\u001b[0m \u001b[39mfrom\u001b[39;00m \u001b[39m.\u001b[39;00m\u001b[39m.\u001b[39;00m\u001b[39mprimitive_ops\u001b[39;00m\u001b[39m.\u001b[39;00m\u001b[39mpauli_sum_op\u001b[39;00m \u001b[39mimport\u001b[39;00m PauliSumOp\n",
      "File \u001b[1;32m~\\AppData\\Roaming\\Python\\Python39\\site-packages\\qiskit\\opflow\\list_ops\\summed_op.py:110\u001b[0m, in \u001b[0;36mSummedOp.collapse_summands\u001b[1;34m(self)\u001b[0m\n\u001b[0;32m    108\u001b[0m         coeffs\u001b[39m.\u001b[39mappend(new_coeff)\n\u001b[0;32m    109\u001b[0m \u001b[39melse\u001b[39;00m:\n\u001b[1;32m--> 110\u001b[0m     \u001b[39mif\u001b[39;00m op \u001b[39min\u001b[39;49;00m oplist:\n\u001b[0;32m    111\u001b[0m         index \u001b[39m=\u001b[39m oplist\u001b[39m.\u001b[39mindex(op)\n\u001b[0;32m    112\u001b[0m         coeffs[index] \u001b[39m+\u001b[39m\u001b[39m=\u001b[39m \u001b[39mself\u001b[39m\u001b[39m.\u001b[39mcoeff\n",
      "File \u001b[1;32m~\\AppData\\Roaming\\Python\\Python39\\site-packages\\qiskit\\opflow\\operator_base.py:240\u001b[0m, in \u001b[0;36mOperatorBase.__eq__\u001b[1;34m(self, other)\u001b[0m\n\u001b[0;32m    238\u001b[0m \u001b[39mif\u001b[39;00m \u001b[39mnot\u001b[39;00m \u001b[39misinstance\u001b[39m(other, OperatorBase):\n\u001b[0;32m    239\u001b[0m     \u001b[39mreturn\u001b[39;00m \u001b[39mNotImplemented\u001b[39m\n\u001b[1;32m--> 240\u001b[0m \u001b[39mreturn\u001b[39;00m \u001b[39mself\u001b[39;49m\u001b[39m.\u001b[39;49mequals(cast(OperatorBase, other))\n",
      "File \u001b[1;32m~\\AppData\\Roaming\\Python\\Python39\\site-packages\\qiskit\\opflow\\list_ops\\list_op.py:244\u001b[0m, in \u001b[0;36mListOp.equals\u001b[1;34m(self, other)\u001b[0m\n\u001b[0;32m    242\u001b[0m     \u001b[39mreturn\u001b[39;00m \u001b[39mFalse\u001b[39;00m\n\u001b[0;32m    243\u001b[0m \u001b[39m# Note, ordering matters here (i.e. different list orders will return False)\u001b[39;00m\n\u001b[1;32m--> 244\u001b[0m \u001b[39mreturn\u001b[39;00m \u001b[39mself\u001b[39m\u001b[39m.\u001b[39mcoeff \u001b[39m==\u001b[39m other\u001b[39m.\u001b[39mcoeff \u001b[39mand\u001b[39;00m \u001b[39mall\u001b[39;49m(\n\u001b[0;32m    245\u001b[0m     op1 \u001b[39m==\u001b[39;49m op2 \u001b[39mfor\u001b[39;49;00m op1, op2 \u001b[39min\u001b[39;49;00m \u001b[39mzip\u001b[39;49m(\u001b[39mself\u001b[39;49m\u001b[39m.\u001b[39;49moplist, other\u001b[39m.\u001b[39;49moplist)\n\u001b[0;32m    246\u001b[0m )\n",
      "File \u001b[1;32m~\\AppData\\Roaming\\Python\\Python39\\site-packages\\qiskit\\opflow\\list_ops\\list_op.py:245\u001b[0m, in \u001b[0;36m<genexpr>\u001b[1;34m(.0)\u001b[0m\n\u001b[0;32m    242\u001b[0m     \u001b[39mreturn\u001b[39;00m \u001b[39mFalse\u001b[39;00m\n\u001b[0;32m    243\u001b[0m \u001b[39m# Note, ordering matters here (i.e. different list orders will return False)\u001b[39;00m\n\u001b[0;32m    244\u001b[0m \u001b[39mreturn\u001b[39;00m \u001b[39mself\u001b[39m\u001b[39m.\u001b[39mcoeff \u001b[39m==\u001b[39m other\u001b[39m.\u001b[39mcoeff \u001b[39mand\u001b[39;00m \u001b[39mall\u001b[39m(\n\u001b[1;32m--> 245\u001b[0m     op1 \u001b[39m==\u001b[39;49m op2 \u001b[39mfor\u001b[39;00m op1, op2 \u001b[39min\u001b[39;00m \u001b[39mzip\u001b[39m(\u001b[39mself\u001b[39m\u001b[39m.\u001b[39moplist, other\u001b[39m.\u001b[39moplist)\n\u001b[0;32m    246\u001b[0m )\n",
      "File \u001b[1;32m~\\AppData\\Roaming\\Python\\Python39\\site-packages\\qiskit\\opflow\\operator_base.py:240\u001b[0m, in \u001b[0;36mOperatorBase.__eq__\u001b[1;34m(self, other)\u001b[0m\n\u001b[0;32m    238\u001b[0m \u001b[39mif\u001b[39;00m \u001b[39mnot\u001b[39;00m \u001b[39misinstance\u001b[39m(other, OperatorBase):\n\u001b[0;32m    239\u001b[0m     \u001b[39mreturn\u001b[39;00m \u001b[39mNotImplemented\u001b[39m\n\u001b[1;32m--> 240\u001b[0m \u001b[39mreturn\u001b[39;00m \u001b[39mself\u001b[39;49m\u001b[39m.\u001b[39;49mequals(cast(OperatorBase, other))\n",
      "File \u001b[1;32m~\\AppData\\Roaming\\Python\\Python39\\site-packages\\qiskit\\opflow\\state_fns\\state_fn.py:198\u001b[0m, in \u001b[0;36mStateFn.equals\u001b[1;34m(self, other)\u001b[0m\n\u001b[0;32m    195\u001b[0m \u001b[39mif\u001b[39;00m \u001b[39mnot\u001b[39;00m \u001b[39misinstance\u001b[39m(other, \u001b[39mtype\u001b[39m(\u001b[39mself\u001b[39m)) \u001b[39mor\u001b[39;00m \u001b[39mnot\u001b[39;00m \u001b[39mself\u001b[39m\u001b[39m.\u001b[39mcoeff \u001b[39m==\u001b[39m other\u001b[39m.\u001b[39mcoeff:\n\u001b[0;32m    196\u001b[0m     \u001b[39mreturn\u001b[39;00m \u001b[39mFalse\u001b[39;00m\n\u001b[1;32m--> 198\u001b[0m \u001b[39mreturn\u001b[39;00m \u001b[39mself\u001b[39;49m\u001b[39m.\u001b[39;49mprimitive \u001b[39m==\u001b[39;49m other\u001b[39m.\u001b[39;49mprimitive\n",
      "File \u001b[1;32m~\\AppData\\Roaming\\Python\\Python39\\site-packages\\qiskit\\circuit\\quantumcircuit.py:410\u001b[0m, in \u001b[0;36mQuantumCircuit.__eq__\u001b[1;34m(self, other)\u001b[0m\n\u001b[0;32m    407\u001b[0m \u001b[39m# TODO: remove the DAG from this function\u001b[39;00m\n\u001b[0;32m    408\u001b[0m \u001b[39mfrom\u001b[39;00m \u001b[39mqiskit\u001b[39;00m\u001b[39m.\u001b[39;00m\u001b[39mconverters\u001b[39;00m \u001b[39mimport\u001b[39;00m circuit_to_dag\n\u001b[1;32m--> 410\u001b[0m \u001b[39mreturn\u001b[39;00m circuit_to_dag(\u001b[39mself\u001b[39;49m) \u001b[39m==\u001b[39;49m circuit_to_dag(other)\n",
      "File \u001b[1;32m~\\AppData\\Roaming\\Python\\Python39\\site-packages\\qiskit\\dagcircuit\\dagcircuit.py:1004\u001b[0m, in \u001b[0;36mDAGCircuit.__eq__\u001b[1;34m(self, other)\u001b[0m\n\u001b[0;32m   1001\u001b[0m \u001b[39mdef\u001b[39;00m \u001b[39mnode_eq\u001b[39m(node_self, node_other):\n\u001b[0;32m   1002\u001b[0m     \u001b[39mreturn\u001b[39;00m DAGNode\u001b[39m.\u001b[39msemantic_eq(node_self, node_other, self_bit_indices, other_bit_indices)\n\u001b[1;32m-> 1004\u001b[0m \u001b[39mreturn\u001b[39;00m rx\u001b[39m.\u001b[39;49mis_isomorphic_node_match(\u001b[39mself\u001b[39;49m\u001b[39m.\u001b[39;49m_multi_graph, other\u001b[39m.\u001b[39;49m_multi_graph, node_eq)\n",
      "File \u001b[1;32mc:\\Users\\cesar\\anaconda3\\lib\\functools.py:888\u001b[0m, in \u001b[0;36msingledispatch.<locals>.wrapper\u001b[1;34m(*args, **kw)\u001b[0m\n\u001b[0;32m    884\u001b[0m \u001b[39mif\u001b[39;00m \u001b[39mnot\u001b[39;00m args:\n\u001b[0;32m    885\u001b[0m     \u001b[39mraise\u001b[39;00m \u001b[39mTypeError\u001b[39;00m(\u001b[39mf\u001b[39m\u001b[39m'\u001b[39m\u001b[39m{\u001b[39;00mfuncname\u001b[39m}\u001b[39;00m\u001b[39m requires at least \u001b[39m\u001b[39m'\u001b[39m\n\u001b[0;32m    886\u001b[0m                     \u001b[39m'\u001b[39m\u001b[39m1 positional argument\u001b[39m\u001b[39m'\u001b[39m)\n\u001b[1;32m--> 888\u001b[0m \u001b[39mreturn\u001b[39;00m dispatch(args[\u001b[39m0\u001b[39m]\u001b[39m.\u001b[39m\u001b[39m__class__\u001b[39m)(\u001b[39m*\u001b[39margs, \u001b[39m*\u001b[39m\u001b[39m*\u001b[39mkw)\n",
      "File \u001b[1;32m~\\AppData\\Roaming\\Python\\Python39\\site-packages\\retworkx\\__init__.py:957\u001b[0m, in \u001b[0;36m_digraph_is_isomorphic_node_match\u001b[1;34m(first, second, matcher, id_order)\u001b[0m\n\u001b[0;32m    955\u001b[0m \u001b[39m@is_isomorphic_node_match\u001b[39m\u001b[39m.\u001b[39mregister(PyDiGraph)\n\u001b[0;32m    956\u001b[0m \u001b[39mdef\u001b[39;00m \u001b[39m_digraph_is_isomorphic_node_match\u001b[39m(first, second, matcher, id_order\u001b[39m=\u001b[39m\u001b[39mTrue\u001b[39;00m):\n\u001b[1;32m--> 957\u001b[0m     \u001b[39mreturn\u001b[39;00m digraph_is_isomorphic(first, second, matcher, id_order\u001b[39m=\u001b[39;49mid_order)\n",
      "File \u001b[1;32m~\\AppData\\Roaming\\Python\\Python39\\site-packages\\qiskit\\dagcircuit\\dagcircuit.py:1002\u001b[0m, in \u001b[0;36mDAGCircuit.__eq__.<locals>.node_eq\u001b[1;34m(node_self, node_other)\u001b[0m\n\u001b[0;32m   1001\u001b[0m \u001b[39mdef\u001b[39;00m \u001b[39mnode_eq\u001b[39m(node_self, node_other):\n\u001b[1;32m-> 1002\u001b[0m     \u001b[39mreturn\u001b[39;00m DAGNode\u001b[39m.\u001b[39;49msemantic_eq(node_self, node_other, self_bit_indices, other_bit_indices)\n",
      "File \u001b[1;32m~\\AppData\\Roaming\\Python\\Python39\\site-packages\\qiskit\\dagcircuit\\dagnode.py:83\u001b[0m, in \u001b[0;36mDAGNode.semantic_eq\u001b[1;34m(node1, node2, bit_indices1, bit_indices2)\u001b[0m\n\u001b[0;32m     81\u001b[0m         \u001b[39mif\u001b[39;00m node1_cargs \u001b[39m==\u001b[39m node2_cargs:\n\u001b[0;32m     82\u001b[0m             \u001b[39mif\u001b[39;00m node1\u001b[39m.\u001b[39mop\u001b[39m.\u001b[39mcondition \u001b[39m==\u001b[39m node2\u001b[39m.\u001b[39mop\u001b[39m.\u001b[39mcondition:\n\u001b[1;32m---> 83\u001b[0m                 \u001b[39mif\u001b[39;00m node1\u001b[39m.\u001b[39;49mop \u001b[39m==\u001b[39;49m node2\u001b[39m.\u001b[39;49mop:\n\u001b[0;32m     84\u001b[0m                     \u001b[39mreturn\u001b[39;00m \u001b[39mTrue\u001b[39;00m\n\u001b[0;32m     85\u001b[0m \u001b[39melif\u001b[39;00m (\u001b[39misinstance\u001b[39m(node1, DAGInNode) \u001b[39mand\u001b[39;00m \u001b[39misinstance\u001b[39m(node2, DAGInNode)) \u001b[39mor\u001b[39;00m (\n\u001b[0;32m     86\u001b[0m     \u001b[39misinstance\u001b[39m(node1, DAGOutNode) \u001b[39mand\u001b[39;00m \u001b[39misinstance\u001b[39m(node2, DAGOutNode)\n\u001b[0;32m     87\u001b[0m ):\n",
      "File \u001b[1;32m~\\AppData\\Roaming\\Python\\Python39\\site-packages\\qiskit\\circuit\\instruction.py:120\u001b[0m, in \u001b[0;36mInstruction.__eq__\u001b[1;34m(self, other)\u001b[0m\n\u001b[0;32m    105\u001b[0m \u001b[39mdef\u001b[39;00m \u001b[39m__eq__\u001b[39m(\u001b[39mself\u001b[39m, other):\n\u001b[0;32m    106\u001b[0m     \u001b[39m\"\"\"Two instructions are the same if they have the same name,\u001b[39;00m\n\u001b[0;32m    107\u001b[0m \u001b[39m    same dimensions, and same params.\u001b[39;00m\n\u001b[0;32m    108\u001b[0m \n\u001b[1;32m   (...)\u001b[0m\n\u001b[0;32m    113\u001b[0m \u001b[39m        bool: are self and other equal.\u001b[39;00m\n\u001b[0;32m    114\u001b[0m \u001b[39m    \"\"\"\u001b[39;00m\n\u001b[0;32m    115\u001b[0m     \u001b[39mif\u001b[39;00m (\n\u001b[0;32m    116\u001b[0m         \u001b[39mtype\u001b[39m(\u001b[39mself\u001b[39m) \u001b[39mis\u001b[39;00m \u001b[39mnot\u001b[39;00m \u001b[39mtype\u001b[39m(other)\n\u001b[0;32m    117\u001b[0m         \u001b[39mor\u001b[39;00m \u001b[39mself\u001b[39m\u001b[39m.\u001b[39mname \u001b[39m!=\u001b[39m other\u001b[39m.\u001b[39mname\n\u001b[0;32m    118\u001b[0m         \u001b[39mor\u001b[39;00m \u001b[39mself\u001b[39m\u001b[39m.\u001b[39mnum_qubits \u001b[39m!=\u001b[39m other\u001b[39m.\u001b[39mnum_qubits\n\u001b[0;32m    119\u001b[0m         \u001b[39mor\u001b[39;00m \u001b[39mself\u001b[39m\u001b[39m.\u001b[39mnum_clbits \u001b[39m!=\u001b[39m other\u001b[39m.\u001b[39mnum_clbits\n\u001b[1;32m--> 120\u001b[0m         \u001b[39mor\u001b[39;00m \u001b[39mself\u001b[39;49m\u001b[39m.\u001b[39;49mdefinition \u001b[39m!=\u001b[39m other\u001b[39m.\u001b[39mdefinition\n\u001b[0;32m    121\u001b[0m     ):\n\u001b[0;32m    122\u001b[0m         \u001b[39mreturn\u001b[39;00m \u001b[39mFalse\u001b[39;00m\n\u001b[0;32m    124\u001b[0m     \u001b[39mfor\u001b[39;00m self_param, other_param \u001b[39min\u001b[39;00m zip_longest(\u001b[39mself\u001b[39m\u001b[39m.\u001b[39mparams, other\u001b[39m.\u001b[39mparams):\n",
      "File \u001b[1;32m~\\AppData\\Roaming\\Python\\Python39\\site-packages\\qiskit\\circuit\\instruction.py:235\u001b[0m, in \u001b[0;36mInstruction.definition\u001b[1;34m(self)\u001b[0m\n\u001b[0;32m    233\u001b[0m \u001b[39m\"\"\"Return definition in terms of other basic gates.\"\"\"\u001b[39;00m\n\u001b[0;32m    234\u001b[0m \u001b[39mif\u001b[39;00m \u001b[39mself\u001b[39m\u001b[39m.\u001b[39m_definition \u001b[39mis\u001b[39;00m \u001b[39mNone\u001b[39;00m:\n\u001b[1;32m--> 235\u001b[0m     \u001b[39mself\u001b[39;49m\u001b[39m.\u001b[39;49m_define()\n\u001b[0;32m    236\u001b[0m \u001b[39mreturn\u001b[39;00m \u001b[39mself\u001b[39m\u001b[39m.\u001b[39m_definition\n",
      "\u001b[1;32md:\\Cesar\\GitHub\\Womanium_hack\\iqm-academy-womanium-hackathon-DAQC-VQE\\VQE-with-parametrized-hamiltonian.ipynb Celda 26\u001b[0m in \u001b[0;36mCustomHamiltonianGate._define\u001b[1;34m(self)\u001b[0m\n\u001b[0;32m     <a href='vscode-notebook-cell:/d%3A/Cesar/GitHub/Womanium_hack/iqm-academy-womanium-hackathon-DAQC-VQE/VQE-with-parametrized-hamiltonian.ipynb#X34sZmlsZQ%3D%3D?line=45'>46</a>\u001b[0m q \u001b[39m=\u001b[39m QuantumRegister(\u001b[39mself\u001b[39m\u001b[39m.\u001b[39mno_qubits, \u001b[39m\"\u001b[39m\u001b[39mq\u001b[39m\u001b[39m\"\u001b[39m)\n\u001b[0;32m     <a href='vscode-notebook-cell:/d%3A/Cesar/GitHub/Womanium_hack/iqm-academy-womanium-hackathon-DAQC-VQE/VQE-with-parametrized-hamiltonian.ipynb#X34sZmlsZQ%3D%3D?line=46'>47</a>\u001b[0m qc \u001b[39m=\u001b[39m QuantumCircuit(q, name\u001b[39m=\u001b[39m\u001b[39mself\u001b[39m\u001b[39m.\u001b[39mname)\n\u001b[1;32m---> <a href='vscode-notebook-cell:/d%3A/Cesar/GitHub/Womanium_hack/iqm-academy-womanium-hackathon-DAQC-VQE/VQE-with-parametrized-hamiltonian.ipynb#X34sZmlsZQ%3D%3D?line=47'>48</a>\u001b[0m qc\u001b[39m.\u001b[39m_append(UnitaryGate(\u001b[39mself\u001b[39;49m\u001b[39m.\u001b[39;49mto_matrix()), q[:], [])\n\u001b[0;32m     <a href='vscode-notebook-cell:/d%3A/Cesar/GitHub/Womanium_hack/iqm-academy-womanium-hackathon-DAQC-VQE/VQE-with-parametrized-hamiltonian.ipynb#X34sZmlsZQ%3D%3D?line=48'>49</a>\u001b[0m \u001b[39mself\u001b[39m\u001b[39m.\u001b[39mdefinition \u001b[39m=\u001b[39m qc\n",
      "File \u001b[1;32m~\\AppData\\Roaming\\Python\\Python39\\site-packages\\qiskit\\circuit\\gate.py:55\u001b[0m, in \u001b[0;36mGate.to_matrix\u001b[1;34m(self)\u001b[0m\n\u001b[0;32m     44\u001b[0m \u001b[39m\"\"\"Return a Numpy.array for the gate unitary matrix.\u001b[39;00m\n\u001b[0;32m     45\u001b[0m \n\u001b[0;32m     46\u001b[0m \u001b[39mReturns:\u001b[39;00m\n\u001b[1;32m   (...)\u001b[0m\n\u001b[0;32m     51\u001b[0m \u001b[39m        exception will be raised when this base class method is called.\u001b[39;00m\n\u001b[0;32m     52\u001b[0m \u001b[39m\"\"\"\u001b[39;00m\n\u001b[0;32m     53\u001b[0m \u001b[39mif\u001b[39;00m \u001b[39mhasattr\u001b[39m(\u001b[39mself\u001b[39m, \u001b[39m\"\u001b[39m\u001b[39m__array__\u001b[39m\u001b[39m\"\u001b[39m):\n\u001b[0;32m     54\u001b[0m     \u001b[39m# pylint: disable=no-member\u001b[39;00m\n\u001b[1;32m---> 55\u001b[0m     \u001b[39mreturn\u001b[39;00m \u001b[39mself\u001b[39;49m\u001b[39m.\u001b[39;49m__array__(dtype\u001b[39m=\u001b[39;49m\u001b[39mcomplex\u001b[39;49m)\n\u001b[0;32m     56\u001b[0m \u001b[39mraise\u001b[39;00m CircuitError(\u001b[39mf\u001b[39m\u001b[39m\"\u001b[39m\u001b[39mto_matrix not defined for this \u001b[39m\u001b[39m{\u001b[39;00m\u001b[39mtype\u001b[39m(\u001b[39mself\u001b[39m)\u001b[39m}\u001b[39;00m\u001b[39m\"\u001b[39m)\n",
      "\u001b[1;32md:\\Cesar\\GitHub\\Womanium_hack\\iqm-academy-womanium-hackathon-DAQC-VQE\\VQE-with-parametrized-hamiltonian.ipynb Celda 26\u001b[0m in \u001b[0;36mCustomHamiltonianGate.__array__\u001b[1;34m(self, dtype)\u001b[0m\n\u001b[0;32m     <a href='vscode-notebook-cell:/d%3A/Cesar/GitHub/Womanium_hack/iqm-academy-womanium-hackathon-DAQC-VQE/VQE-with-parametrized-hamiltonian.ipynb#X34sZmlsZQ%3D%3D?line=36'>37</a>\u001b[0m     \u001b[39mreturn\u001b[39;00m scipy\u001b[39m.\u001b[39mlinalg\u001b[39m.\u001b[39mexpm(\u001b[39m-\u001b[39m\u001b[39m1.0\u001b[39mj \u001b[39m*\u001b[39m  a2 \u001b[39m*\u001b[39m a1)\n\u001b[0;32m     <a href='vscode-notebook-cell:/d%3A/Cesar/GitHub/Womanium_hack/iqm-academy-womanium-hackathon-DAQC-VQE/VQE-with-parametrized-hamiltonian.ipynb#X34sZmlsZQ%3D%3D?line=37'>38</a>\u001b[0m \u001b[39mexcept\u001b[39;00m \u001b[39mTypeError\u001b[39;00m \u001b[39mas\u001b[39;00m ex:\n\u001b[1;32m---> <a href='vscode-notebook-cell:/d%3A/Cesar/GitHub/Womanium_hack/iqm-academy-womanium-hackathon-DAQC-VQE/VQE-with-parametrized-hamiltonian.ipynb#X34sZmlsZQ%3D%3D?line=38'>39</a>\u001b[0m     \u001b[39mraise\u001b[39;00m \u001b[39mTypeError\u001b[39;00m(\n\u001b[0;32m     <a href='vscode-notebook-cell:/d%3A/Cesar/GitHub/Womanium_hack/iqm-academy-womanium-hackathon-DAQC-VQE/VQE-with-parametrized-hamiltonian.ipynb#X34sZmlsZQ%3D%3D?line=39'>40</a>\u001b[0m         \u001b[39m\"\u001b[39m\u001b[39mUnable to generate Unitary matrix for \u001b[39m\u001b[39m\"\u001b[39m\n\u001b[0;32m     <a href='vscode-notebook-cell:/d%3A/Cesar/GitHub/Womanium_hack/iqm-academy-womanium-hackathon-DAQC-VQE/VQE-with-parametrized-hamiltonian.ipynb#X34sZmlsZQ%3D%3D?line=40'>41</a>\u001b[0m         \u001b[39m#\"unbound t parameter {}\".format(complex(self.params[1]))\u001b[39;00m\n\u001b[0;32m     <a href='vscode-notebook-cell:/d%3A/Cesar/GitHub/Womanium_hack/iqm-academy-womanium-hackathon-DAQC-VQE/VQE-with-parametrized-hamiltonian.ipynb#X34sZmlsZQ%3D%3D?line=41'>42</a>\u001b[0m     ) \u001b[39mfrom\u001b[39;00m \u001b[39mex\u001b[39;00m\n",
      "\u001b[1;31mTypeError\u001b[0m: Unable to generate Unitary matrix for "
     ]
    }
   ],
   "source": [
    "ref_value = -1.85728\n",
    "print(f'Reference value: {ref_value:.5f}')\n",
    "for k in range(1,3):\n",
    "    res = vqe_with_daqc(4,k)\n",
    "    print(f\"k={k}\")\n",
    "    print(f'VQE on Aer qasm simulator (no noise): {res:.5f}')\n",
    "    print(f'Delta from reference energy value is {(res - ref_value):.5f}')\n",
    "    "
   ]
  },
  {
   "cell_type": "code",
   "execution_count": 113,
   "metadata": {},
   "outputs": [
    {
     "ename": "TypeError",
     "evalue": "can't multiply sequence by non-int of type 'complex'",
     "output_type": "error",
     "traceback": [
      "\u001b[1;31m---------------------------------------------------------------------------\u001b[0m",
      "\u001b[1;31mTypeError\u001b[0m                                 Traceback (most recent call last)",
      "\u001b[1;32md:\\Cesar\\GitHub\\Womanium_hack\\iqm-academy-womanium-hackathon-DAQC-VQE\\VQE-with-parametrized-hamiltonian.ipynb Celda 27\u001b[0m in \u001b[0;36m<cell line: 1>\u001b[1;34m()\u001b[0m\n\u001b[1;32m----> <a href='vscode-notebook-cell:/d%3A/Cesar/GitHub/Womanium_hack/iqm-academy-womanium-hackathon-DAQC-VQE/VQE-with-parametrized-hamiltonian.ipynb#X35sZmlsZQ%3D%3D?line=0'>1</a>\u001b[0m \u001b[39m2.0\u001b[39;49mj \u001b[39m*\u001b[39;49m [[\u001b[39m1\u001b[39;49mj, \u001b[39m1\u001b[39;49m],[\u001b[39m1\u001b[39;49mj, \u001b[39m2\u001b[39;49m]]\n",
      "\u001b[1;31mTypeError\u001b[0m: can't multiply sequence by non-int of type 'complex'"
     ]
    }
   ],
   "source": [
    "2.0j * [[1j, 1],[1j, 2]]"
   ]
  },
  {
   "cell_type": "code",
   "execution_count": 46,
   "metadata": {},
   "outputs": [
    {
     "data": {
      "text/plain": [
       "[2j, (1+0j)]"
      ]
     },
     "execution_count": 46,
     "metadata": {},
     "output_type": "execute_result"
    }
   ],
   "source": [
    "list(map(complex,[2.0j,1.0]))"
   ]
  },
  {
   "cell_type": "code",
   "execution_count": null,
   "metadata": {},
   "outputs": [],
   "source": []
  }
 ],
 "metadata": {
  "anaconda-cloud": {},
  "celltoolbar": "Tags",
  "kernelspec": {
   "display_name": "Python 3.9.12 ('base')",
   "language": "python",
   "name": "python3"
  },
  "language_info": {
   "codemirror_mode": {
    "name": "ipython",
    "version": 3
   },
   "file_extension": ".py",
   "mimetype": "text/x-python",
   "name": "python",
   "nbconvert_exporter": "python",
   "pygments_lexer": "ipython3",
   "version": "3.9.12"
  },
  "varInspector": {
   "cols": {
    "lenName": 16,
    "lenType": 16,
    "lenVar": 40
   },
   "kernels_config": {
    "python": {
     "delete_cmd_postfix": "",
     "delete_cmd_prefix": "del ",
     "library": "var_list.py",
     "varRefreshCmd": "print(var_dic_list())"
    },
    "r": {
     "delete_cmd_postfix": ") ",
     "delete_cmd_prefix": "rm(",
     "library": "var_list.r",
     "varRefreshCmd": "cat(var_dic_list()) "
    }
   },
   "types_to_exclude": [
    "module",
    "function",
    "builtin_function_or_method",
    "instance",
    "_Feature"
   ],
   "window_display": false
  },
  "vscode": {
   "interpreter": {
    "hash": "3da53c9c8ab7b538a4270fda3de568bbb19c2469968f6dc93ea3f292c36a847d"
   }
  },
  "widgets": {
   "application/vnd.jupyter.widget-state+json": {
    "state": {},
    "version_major": 2,
    "version_minor": 0
   }
  }
 },
 "nbformat": 4,
 "nbformat_minor": 4
}
