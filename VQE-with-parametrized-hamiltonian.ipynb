{
 "cells": [
  {
   "cell_type": "markdown",
   "metadata": {},
   "source": [
    "# DAQC VQE Challenge – Using DAQC in Qiskit\n",
    "\n",
    "Here, we provide an example of how to create an analog block with Qiskit. The most important part in the Qiskit documentation for this is the [HamiltonianGate](https://qiskit.org/documentation/stubs/qiskit.extensions.HamiltonianGate.html) class."
   ]
  },
  {
   "cell_type": "code",
   "execution_count": 1,
   "metadata": {
    "ExecuteTime": {
     "end_time": "2021-07-31T05:04:39.026081Z",
     "start_time": "2021-07-31T05:04:36.903090Z"
    }
   },
   "outputs": [],
   "source": [
    "# We will need some functionality \n",
    "from typing import List \n",
    "\n",
    "# and from math related libraries\n",
    "import numpy as np\n",
    "import qutip as qt\n",
    "\n",
    "# and from qiskit\n",
    "from qiskit.extensions import HamiltonianGate\n",
    "from qiskit import QuantumCircuit, QuantumRegister, Aer, execute\n",
    "from qiskit.providers.aer import QasmSimulator\n",
    "from qiskit.quantum_info import Operator"
   ]
  },
  {
   "cell_type": "markdown",
   "metadata": {},
   "source": [
    "## Creating a nearest neighbour Hamiltonian for a given connectivity\n",
    "\n",
    "We now need a function that creates our Hamiltonian for a given connectivity"
   ]
  },
  {
   "cell_type": "markdown",
   "metadata": {},
   "source": [
    "- A Hamiltonian for a Ising model in 3-dimentions"
   ]
  },
  {
   "cell_type": "code",
   "execution_count": 2,
   "metadata": {},
   "outputs": [],
   "source": [
    "# if Julia is not installed run this line\n",
    "# !pip install juliacall"
   ]
  },
  {
   "cell_type": "code",
   "execution_count": 3,
   "metadata": {},
   "outputs": [],
   "source": [
    "from juliacall import Main as jl;"
   ]
  },
  {
   "cell_type": "code",
   "execution_count": 4,
   "metadata": {},
   "outputs": [
    {
     "data": {
      "text/plain": [
       "'d:\\\\Cesar\\\\GitHub\\\\Womanium_hack\\\\iqm-academy-womanium-hackathon-DAQC-VQE'"
      ]
     },
     "execution_count": 4,
     "metadata": {},
     "output_type": "execute_result"
    }
   ],
   "source": [
    "jl.pwd() # check the current directory for Julia"
   ]
  },
  {
   "cell_type": "code",
   "execution_count": 5,
   "metadata": {},
   "outputs": [
    {
     "data": {
      "text/plain": [
       "create_zz_hamiltonian (generic function with 3 methods)"
      ]
     },
     "execution_count": 5,
     "metadata": {},
     "output_type": "execute_result"
    }
   ],
   "source": [
    "#jl.cd(\"/iqm-academy-womanium-hackathon-DAQC-VQE/\")   # Change the current julia directory if necessary \n",
    "jl.include(\"Ising_model.jl\")  # Load the julia script with the connectivity generator function"
   ]
  },
  {
   "cell_type": "code",
   "execution_count": 6,
   "metadata": {},
   "outputs": [],
   "source": [
    "# Creation of the Phyton call of the Julia version\n",
    "\n",
    "# Recives a tuple of integers of length 3 and returns a list of lists with the connectivities of the Issing Hamiltinian\n",
    "def connectivity_Ising(dim_lengths):    \n",
    "    connectivity_julia = jl.connectivity(dim_lengths)\n",
    "    connectivity = []\n",
    "    for i in range(len(connectivity_julia)):\n",
    "        connectivity.append(list(connectivity_julia[i]))\n",
    "    return connectivity\n",
    "\n",
    "# Recives a tuple of integers of length 3 and returns a Hamiltonian matrix, a number of qubits, a uniform list of\n",
    "# interaction coefficients, and a list of connectivities. \n",
    "def Ising_matrix(dim_lengths):\n",
    "    matrix, no_qubits, h_coeffs, connect_jl = jl.create_zz_hamiltonian(dim_lengths)\n",
    "    h_coeffs = list(h_coeffs)\n",
    "    matrix = (matrix.__array__()).tolist()\n",
    "    connect = []\n",
    "    for i in range(len(connect_jl)):\n",
    "        connect.append(list(connect_jl[i]))\n",
    "\n",
    "    return matrix, no_qubits, h_coeffs, connect"
   ]
  },
  {
   "cell_type": "code",
   "execution_count": 7,
   "metadata": {},
   "outputs": [
    {
     "data": {
      "text/plain": [
       "[[0, 1], [0, 2], [1, 3], [2, 3]]"
      ]
     },
     "execution_count": 7,
     "metadata": {},
     "output_type": "execute_result"
    }
   ],
   "source": [
    "connectivity_Ising((2,2,1))"
   ]
  },
  {
   "cell_type": "code",
   "execution_count": 8,
   "metadata": {},
   "outputs": [],
   "source": [
    "# ***** The biggest tuple that we can handle is for a lattice of (2,2,3) dimentions!!!   <<<<<<<----- IMPORTANT\n",
    "issing_ham, issing_no_qubits, issing_h_coeffs, issing_connectivities = Ising_matrix((4,1,1)) "
   ]
  },
  {
   "cell_type": "code",
   "execution_count": 9,
   "metadata": {},
   "outputs": [
    {
     "data": {
      "text/plain": [
       "4"
      ]
     },
     "execution_count": 9,
     "metadata": {},
     "output_type": "execute_result"
    }
   ],
   "source": [
    "issing_no_qubits"
   ]
  },
  {
   "cell_type": "code",
   "execution_count": 10,
   "metadata": {},
   "outputs": [
    {
     "name": "stdout",
     "output_type": "stream",
     "text": [
      "[[(3+0j), 0j, 0j, 0j, 0j, 0j, 0j, 0j, 0j, 0j, 0j, 0j, 0j, 0j, 0j, 0j], [0j, (1+0j), 0j, 0j, 0j, 0j, 0j, 0j, 0j, 0j, 0j, 0j, 0j, 0j, 0j, 0j], [0j, 0j, (-1+0j), 0j, 0j, 0j, 0j, 0j, 0j, 0j, 0j, 0j, 0j, 0j, 0j, 0j], [0j, 0j, 0j, (1+0j), 0j, 0j, 0j, 0j, 0j, 0j, 0j, 0j, 0j, 0j, 0j, 0j], [0j, 0j, 0j, 0j, (-1+0j), 0j, 0j, 0j, 0j, 0j, 0j, 0j, 0j, 0j, 0j, 0j], [0j, 0j, 0j, 0j, 0j, (-3+0j), 0j, 0j, 0j, 0j, 0j, 0j, 0j, 0j, 0j, 0j], [0j, 0j, 0j, 0j, 0j, 0j, (-1+0j), 0j, 0j, 0j, 0j, 0j, 0j, 0j, 0j, 0j], [0j, 0j, 0j, 0j, 0j, 0j, 0j, (1+0j), 0j, 0j, 0j, 0j, 0j, 0j, 0j, 0j], [0j, 0j, 0j, 0j, 0j, 0j, 0j, 0j, (1+0j), 0j, 0j, 0j, 0j, 0j, 0j, 0j], [0j, 0j, 0j, 0j, 0j, 0j, 0j, 0j, 0j, (-1+0j), 0j, 0j, 0j, 0j, 0j, 0j], [0j, 0j, 0j, 0j, 0j, 0j, 0j, 0j, 0j, 0j, (-3+0j), 0j, 0j, 0j, 0j, 0j], [0j, 0j, 0j, 0j, 0j, 0j, 0j, 0j, 0j, 0j, 0j, (-1+0j), 0j, 0j, 0j, 0j], [0j, 0j, 0j, 0j, 0j, 0j, 0j, 0j, 0j, 0j, 0j, 0j, (1+0j), 0j, 0j, 0j], [0j, 0j, 0j, 0j, 0j, 0j, 0j, 0j, 0j, 0j, 0j, 0j, 0j, (-1+0j), 0j, 0j], [0j, 0j, 0j, 0j, 0j, 0j, 0j, 0j, 0j, 0j, 0j, 0j, 0j, 0j, (1+0j), 0j], [0j, 0j, 0j, 0j, 0j, 0j, 0j, 0j, 0j, 0j, 0j, 0j, 0j, 0j, 0j, (3+0j)]]\n"
     ]
    }
   ],
   "source": [
    "print(issing_ham)"
   ]
  },
  {
   "cell_type": "code",
   "execution_count": 11,
   "metadata": {},
   "outputs": [
    {
     "data": {
      "text/plain": [
       "[[0, 1], [1, 2], [2, 3]]"
      ]
     },
     "execution_count": 11,
     "metadata": {},
     "output_type": "execute_result"
    }
   ],
   "source": [
    "issing_connectivities"
   ]
  },
  {
   "cell_type": "code",
   "execution_count": 12,
   "metadata": {},
   "outputs": [
    {
     "data": {
      "text/plain": [
       "[1.0, 1.0, 1.0]"
      ]
     },
     "execution_count": 12,
     "metadata": {},
     "output_type": "execute_result"
    }
   ],
   "source": [
    "issing_h_coeffs"
   ]
  },
  {
   "cell_type": "markdown",
   "metadata": {},
   "source": [
    "- A Issing Hamiltonian given a connectivity"
   ]
  },
  {
   "cell_type": "code",
   "execution_count": 76,
   "metadata": {},
   "outputs": [],
   "source": [
    "# Recives a list of connectivities, returns the hamiltonian, number_of_qubits, h_coeffs and the connectivity provided. \n",
    "def given_Issing_ham(connectivity):\n",
    "    a0 = []\n",
    "    for i in connectivity:\n",
    "        a0.append(jl.PythonCall.pyconvert(jl.Vector,i))\n",
    "        j0 = jl.PythonCall.pyconvert(jl.Vector,a0)\n",
    "    \n",
    "    jl.convert(jl.Vector,a0)\n",
    "    hamiltonian, num_qubits, h_coeffs, connectivities = jl.create_zz_hamiltonian(j0)\n",
    "    hamiltonian = (hamiltonian.__array__()).tolist()\n",
    "    h_coeffs = (h_coeffs.__array__()).tolist()\n",
    "\n",
    "    return hamiltonian, num_qubits, h_coeffs, connectivity"
   ]
  },
  {
   "cell_type": "code",
   "execution_count": 77,
   "metadata": {},
   "outputs": [],
   "source": [
    "issing_ham_con, issing_num_qubits_con, issing_h_coeffs_con, issing_con_con = given_Issing_ham([[0,1],[1,2],[2,3]])"
   ]
  },
  {
   "cell_type": "code",
   "execution_count": 78,
   "metadata": {},
   "outputs": [
    {
     "name": "stdout",
     "output_type": "stream",
     "text": [
      "[[(3+0j), 0j, 0j, 0j, 0j, 0j, 0j, 0j, 0j, 0j, 0j, 0j, 0j, 0j, 0j, 0j], [0j, (1+0j), 0j, 0j, 0j, 0j, 0j, 0j, 0j, 0j, 0j, 0j, 0j, 0j, 0j, 0j], [0j, 0j, (-1+0j), 0j, 0j, 0j, 0j, 0j, 0j, 0j, 0j, 0j, 0j, 0j, 0j, 0j], [0j, 0j, 0j, (1+0j), 0j, 0j, 0j, 0j, 0j, 0j, 0j, 0j, 0j, 0j, 0j, 0j], [0j, 0j, 0j, 0j, (-1+0j), 0j, 0j, 0j, 0j, 0j, 0j, 0j, 0j, 0j, 0j, 0j], [0j, 0j, 0j, 0j, 0j, (-3+0j), 0j, 0j, 0j, 0j, 0j, 0j, 0j, 0j, 0j, 0j], [0j, 0j, 0j, 0j, 0j, 0j, (-1+0j), 0j, 0j, 0j, 0j, 0j, 0j, 0j, 0j, 0j], [0j, 0j, 0j, 0j, 0j, 0j, 0j, (1+0j), 0j, 0j, 0j, 0j, 0j, 0j, 0j, 0j], [0j, 0j, 0j, 0j, 0j, 0j, 0j, 0j, (1+0j), 0j, 0j, 0j, 0j, 0j, 0j, 0j], [0j, 0j, 0j, 0j, 0j, 0j, 0j, 0j, 0j, (-1+0j), 0j, 0j, 0j, 0j, 0j, 0j], [0j, 0j, 0j, 0j, 0j, 0j, 0j, 0j, 0j, 0j, (-3+0j), 0j, 0j, 0j, 0j, 0j], [0j, 0j, 0j, 0j, 0j, 0j, 0j, 0j, 0j, 0j, 0j, (-1+0j), 0j, 0j, 0j, 0j], [0j, 0j, 0j, 0j, 0j, 0j, 0j, 0j, 0j, 0j, 0j, 0j, (1+0j), 0j, 0j, 0j], [0j, 0j, 0j, 0j, 0j, 0j, 0j, 0j, 0j, 0j, 0j, 0j, 0j, (-1+0j), 0j, 0j], [0j, 0j, 0j, 0j, 0j, 0j, 0j, 0j, 0j, 0j, 0j, 0j, 0j, 0j, (1+0j), 0j], [0j, 0j, 0j, 0j, 0j, 0j, 0j, 0j, 0j, 0j, 0j, 0j, 0j, 0j, 0j, (3+0j)]]\n"
     ]
    }
   ],
   "source": [
    "print(list(issing_ham_con))"
   ]
  },
  {
   "cell_type": "code",
   "execution_count": 79,
   "metadata": {},
   "outputs": [
    {
     "data": {
      "text/plain": [
       "4"
      ]
     },
     "execution_count": 79,
     "metadata": {},
     "output_type": "execute_result"
    }
   ],
   "source": [
    "issing_num_qubits_con"
   ]
  },
  {
   "cell_type": "code",
   "execution_count": 80,
   "metadata": {},
   "outputs": [
    {
     "data": {
      "text/plain": [
       "[1.0, 1.0, 1.0, 1.0]"
      ]
     },
     "execution_count": 80,
     "metadata": {},
     "output_type": "execute_result"
    }
   ],
   "source": [
    "issing_h_coeffs_con"
   ]
  },
  {
   "cell_type": "code",
   "execution_count": 81,
   "metadata": {},
   "outputs": [
    {
     "data": {
      "text/plain": [
       "[[0, 1], [1, 2], [2, 3]]"
      ]
     },
     "execution_count": 81,
     "metadata": {},
     "output_type": "execute_result"
    }
   ],
   "source": [
    "issing_con_con"
   ]
  },
  {
   "cell_type": "markdown",
   "metadata": {},
   "source": [
    "## Use multiple parameters for the Hamiltonian\n",
    "\n",
    "As the standard implementation of HamiltonianGate in qiskit does not support parameters for the Hamiltonian, we need our own Gate implementation."
   ]
  },
  {
   "cell_type": "code",
   "execution_count": 4,
   "metadata": {},
   "outputs": [],
   "source": [
    "from numbers import Number\n",
    "import numpy\n",
    "\n",
    "import qutip as qt\n",
    "\n",
    "from qiskit.circuit import Gate, QuantumCircuit, QuantumRegister, ParameterExpression\n",
    "from qiskit.quantum_info.operators.predicates import matrix_equal\n",
    "from qiskit.quantum_info.operators.predicates import is_hermitian_matrix\n",
    "from qiskit.extensions.exceptions import ExtensionError\n",
    "from qiskit.circuit.exceptions import CircuitError\n",
    "\n",
    "from qiskit.circuit import Parameter, QuantumCircuit, QuantumRegister \n",
    "\n",
    "\n",
    "from qiskit.extensions.unitary import UnitaryGate\n",
    "\n",
    "# This code is based on https://github.com/Qiskit/qiskit-terra/blob/main/qiskit/extensions/hamiltonian_gate.py licenced under Apache licence.\n",
    "class CustomHamiltonianGate(Gate):\n",
    "    def __init__(self, time, no_qubits, connectivity, h_coeff0,h_coeff1,h_coeff2,h_coeff3=1.0,h_coeff4=1.0,h_coeff5=1.0, label=None):\n",
    "        if isinstance(time, Number) and time != numpy.real(time):\n",
    "            raise ExtensionError(\"Evolution time is not real.\")\n",
    "       \n",
    "        self.no_qubits = no_qubits\n",
    "        self.connectivity = connectivity\n",
    "        # Store instruction params\n",
    "        super().__init__(\"custom_hamiltonian\", no_qubits, [time, no_qubits, connectivity, h_coeff0,h_coeff1,h_coeff2,h_coeff3,h_coeff4,h_coeff5], label=label)\n",
    "\n",
    "    def __array__(self, dtype=None):\n",
    "        \"\"\"Return matrix for the unitary.\"\"\"\n",
    "        # pylint: disable=unused-argument\n",
    "        import scipy.linalg\n",
    "\n",
    "        try:\n",
    "            return scipy.linalg.expm(-1j * self.get_ham() * float(self.params[0]))\n",
    "        except TypeError as ex:\n",
    "            raise TypeError(\n",
    "                \"Unable to generate Unitary matrix for \"\n",
    "                \"unbound t parameter {}\".format(self.params[1])\n",
    "            ) from ex\n",
    "\n",
    "    def _define(self):\n",
    "        \"\"\"Calculate a subcircuit that implements this unitary.\"\"\"\n",
    "        q = QuantumRegister(self.no_qubits, \"q\")\n",
    "        qc = QuantumCircuit(q, name=self.name)\n",
    "        qc._append(UnitaryGate(self.to_matrix()), q[:], [])\n",
    "        self.definition = qc\n",
    "\n",
    "    def validate_parameter(self, parameter):\n",
    "        return parameter\n",
    "\n",
    "    def get_ham(self):\n",
    "        dim = 2 ** self.no_qubits\n",
    "        no_connections = len(self.connectivity)\n",
    "        zz_hamiltonian = np.zeros([dim, dim], dtype=np.complex128)\n",
    "\n",
    "        for c in range(no_connections):\n",
    "            ops_to_tensor = [qt.identity(2)] * self.no_qubits\n",
    "            ops_to_tensor[self.connectivity[c][0]] = qt.sigmaz()\n",
    "            ops_to_tensor[self.connectivity[c][1]] = qt.sigmaz()\n",
    "            zz_hamiltonian += float(self.params[3+c]) * np.array(qt.tensor(ops_to_tensor)) #+= \n",
    "\n",
    "        return zz_hamiltonian\n",
    "\n",
    "def custom_hamiltonian(self, time, connectivity,qubits,h_coeff0,h_coeff1,h_coeff2,h_coeff3=1.0,h_coeff4=1.0,h_coeff5=1.0, label=None):\n",
    "    \"\"\"Apply hamiltonian evolution to qubits.\"\"\"\n",
    "    if not isinstance(qubits, list):\n",
    "        qubits = [qubits]\n",
    "\n",
    "    return self.append(CustomHamiltonianGate(time=time, no_qubits = len(qubits), connectivity=connectivity, h_coeff0=h_coeff0,h_coeff1=h_coeff1,h_coeff2 = h_coeff2,h_coeff3 = h_coeff3,h_coeff4 = h_coeff4,h_coeff5 = h_coeff5, label=label), qubits, [])\n",
    "\n",
    "\n",
    "QuantumCircuit.custom_hamiltonian = custom_hamiltonian"
   ]
  },
  {
   "cell_type": "code",
   "execution_count": 7,
   "metadata": {},
   "outputs": [],
   "source": [
    "import numpy as np\n",
    "import pylab\n",
    "\n",
    "from qiskit import Aer\n",
    "from qiskit.utils import QuantumInstance, algorithm_globals\n",
    "from qiskit.circuit import  ParameterVector\n",
    "from qiskit.algorithms import VQE, NumPyMinimumEigensolver\n",
    "from qiskit.algorithms.optimizers import SPSA\n",
    "from qiskit.opflow import I, X, Z\n",
    "import os\n",
    "from qiskit.providers.aer import QasmSimulator\n",
    "from qiskit.providers.aer.noise import NoiseModel\n",
    "from qiskit.providers.fake_provider import FakeVigo\n",
    "\n",
    "def vqe_with_daqc(no_qubits = 4, no_iters = 1, connections = [[0,1],[1,2],[2,3]]):\n",
    "    if no_qubits == 4:\n",
    "        H2_op = (-1.052373245772859 * I ^ I ^ I ^I ) + \\\n",
    "        (0.39793742484318045 * I ^ Z ^ I ^I ) + \\\n",
    "        (-0.39793742484318045 * Z ^ I ^ I ^I ) + \\\n",
    "        (-0.01128010425623538 * Z ^ Z ^ I ^I ) + \\\n",
    "        (0.18093119978423156 * X ^ X ^ I ^I )\n",
    "    elif no_qubits == 2:\n",
    "        H2_op = (-1.052373245772859 * I ^ I) + \\\n",
    "        (0.39793742484318045 * I ^ Z) + \\\n",
    "        (-0.39793742484318045 * Z ^ I) + \\\n",
    "        (-0.01128010425623538 * Z ^ Z) + \\\n",
    "        (0.18093119978423156 * X ^ X)\n",
    "    else: \n",
    "        print(\"Error: Number of qubits must be 2 or 4.\")\n",
    "\n",
    "    seed = 170\n",
    "    iterations = 125\n",
    "    algorithm_globals.random_seed = seed\n",
    "    backend = Aer.get_backend('aer_simulator')\n",
    "    qi = QuantumInstance(backend=backend, seed_simulator=seed, seed_transpiler=seed) \n",
    "    counts = []\n",
    "    values = []\n",
    "    def store_intermediate_result(eval_count, parameters, mean, std):\n",
    "        counts.append(eval_count)\n",
    "        values.append(mean)\n",
    "\n",
    "    no_con = len(connections)\n",
    "    p = ParameterVector('p', no_con + 3 * no_qubits + no_iters * (3 * no_qubits + 1))\n",
    "\n",
    "    qr = QuantumRegister(no_qubits)\n",
    "    circ = QuantumCircuit(qr)\n",
    "\n",
    "    for i in range(no_qubits):\n",
    "        circ.u(p[3*i],p[3*i+1],p[3*i+2],i)\n",
    "    for j in range(no_iters):\n",
    "        n = 3 * no_qubits\n",
    "        if no_con == 1 and no_qubits == 2:\n",
    "            circ.custom_hamiltonian(connectivity=connections, h_coeff0=p[n], h_coeff1=1.0, h_coeff2=1.0, time=p[n+1+13*j], qubits=[qr[0], qr[1]], label='analog block')\n",
    "        elif no_con == 3 and no_qubits == 4:\n",
    "            circ.custom_hamiltonian(connectivity=connections, h_coeff0=p[n], h_coeff1=p[n+1], h_coeff2=p[n+2], time=p[n+3+13*j], qubits=[qr[0], qr[1], qr[2], qr[3]], label='analog block')\n",
    "        elif no_con == 4 and no_qubits == 4:\n",
    "            circ.custom_hamiltonian(connectivity=connections, h_coeff0=p[n], h_coeff1=p[n+1], h_coeff2=p[n+2], h_coeff3=p[n+3], time=p[n+4+13*j], qubits=[qr[0], qr[1], qr[2], qr[3]], label='analog block')\n",
    "        elif no_con == 5 and no_qubits == 4:\n",
    "            circ.custom_hamiltonian(connectivity=connections, h_coeff0=p[n], h_coeff1=p[n+1], h_coeff2=p[n+2], h_coeff3=p[n+3], h_coeff4=p[n+4], time=p[n+5+13*j], qubits=[qr[0], qr[1], qr[2], qr[3]], label='analog block')\n",
    "        elif no_con == 6 and no_qubits == 4:\n",
    "            circ.custom_hamiltonian(connectivity=connections, h_coeff0=p[n], h_coeff1=p[n+1], h_coeff2=p[n+2], h_coeff3=p[n+3], h_coeff4=p[n+4], h_coeff5=p[n+5], time=p[n+6+13*j], qubits=[qr[0], qr[1], qr[2], qr[3]], label='analog block')\n",
    "        else:\n",
    "            print(\"Error: Number of connections must be 1 for 2 qubits or 3, 4, 5 or 6 for 4 qubits.\")\n",
    "        for i in range(no_qubits):\n",
    "            n = no_con + 3 * no_qubits + (3 * no_qubits + 1) * j + 3 * i + 1\n",
    "            circ.u(p[n],p[n+1],p[n+2],i)\n",
    "    ansatz = circ\n",
    "\n",
    "    spsa = SPSA(maxiter=iterations)\n",
    "    vqe = VQE(ansatz, optimizer=spsa, callback=store_intermediate_result, quantum_instance=qi)\n",
    "    result = vqe.compute_minimum_eigenvalue(operator=H2_op)\n",
    "    res = result.eigenvalue.real\n",
    "    return res\n",
    "    print(ansatz)"
   ]
  },
  {
   "cell_type": "code",
   "execution_count": 8,
   "metadata": {},
   "outputs": [
    {
     "name": "stdout",
     "output_type": "stream",
     "text": [
      "Reference value: -1.85728\n",
      "k=1\n",
      "VQE on Aer qasm simulator (no noise): -1.83965\n",
      "Delta from reference energy value is 0.01763\n",
      "k=2\n",
      "VQE on Aer qasm simulator (no noise): -1.83859\n",
      "Delta from reference energy value is 0.01869\n"
     ]
    }
   ],
   "source": [
    "ref_value = -1.85728\n",
    "print(f'Reference value: {ref_value:.5f}')\n",
    "for k in range(1,3):\n",
    "    res = vqe_with_daqc(4,k)\n",
    "    print(f\"k={k}\")\n",
    "    print(f'VQE on Aer qasm simulator (no noise): {res:.5f}')\n",
    "    print(f'Delta from reference energy value is {(res - ref_value):.5f}')\n",
    "    "
   ]
  }
 ],
 "metadata": {
  "anaconda-cloud": {},
  "celltoolbar": "Tags",
  "kernelspec": {
   "display_name": "Python 3.9.12 ('base')",
   "language": "python",
   "name": "python3"
  },
  "language_info": {
   "codemirror_mode": {
    "name": "ipython",
    "version": 3
   },
   "file_extension": ".py",
   "mimetype": "text/x-python",
   "name": "python",
   "nbconvert_exporter": "python",
   "pygments_lexer": "ipython3",
   "version": "3.9.12"
  },
  "varInspector": {
   "cols": {
    "lenName": 16,
    "lenType": 16,
    "lenVar": 40
   },
   "kernels_config": {
    "python": {
     "delete_cmd_postfix": "",
     "delete_cmd_prefix": "del ",
     "library": "var_list.py",
     "varRefreshCmd": "print(var_dic_list())"
    },
    "r": {
     "delete_cmd_postfix": ") ",
     "delete_cmd_prefix": "rm(",
     "library": "var_list.r",
     "varRefreshCmd": "cat(var_dic_list()) "
    }
   },
   "types_to_exclude": [
    "module",
    "function",
    "builtin_function_or_method",
    "instance",
    "_Feature"
   ],
   "window_display": false
  },
  "vscode": {
   "interpreter": {
    "hash": "3da53c9c8ab7b538a4270fda3de568bbb19c2469968f6dc93ea3f292c36a847d"
   }
  },
  "widgets": {
   "application/vnd.jupyter.widget-state+json": {
    "state": {},
    "version_major": 2,
    "version_minor": 0
   }
  }
 },
 "nbformat": 4,
 "nbformat_minor": 4
}
