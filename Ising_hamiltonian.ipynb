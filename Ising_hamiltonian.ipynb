{
 "cells": [
  {
   "cell_type": "markdown",
   "metadata": {},
   "source": [
    "## Creating a nearest neighbour Hamiltonian for a given connectivity\n",
    "\n",
    "We now need a function that creates our Hamiltonian for a given connectivity, so our model can be generalized to more complex atom arrangements. To do so, a Julia script has been coded to do in a simple and fast way the needed math. "
   ]
  },
  {
   "cell_type": "markdown",
   "metadata": {},
   "source": [
    "- A Hamiltonian for a Ising model in 3-dimensions, given se lattice size. "
   ]
  },
  {
   "cell_type": "code",
   "execution_count": 2,
   "metadata": {},
   "outputs": [],
   "source": [
    "# if Julia is not installed run this line\n",
    "# !pip install juliacall"
   ]
  },
  {
   "cell_type": "code",
   "execution_count": 2,
   "metadata": {},
   "outputs": [],
   "source": [
    "from juliacall import Main as jl;"
   ]
  },
  {
   "cell_type": "code",
   "execution_count": 3,
   "metadata": {},
   "outputs": [
    {
     "data": {
      "text/plain": [
       "'d:\\\\Cesar\\\\GitHub\\\\Womanium_hack\\\\iqm-academy-womanium-hackathon-DAQC-VQE'"
      ]
     },
     "execution_count": 3,
     "metadata": {},
     "output_type": "execute_result"
    }
   ],
   "source": [
    "jl.pwd() # check the current directory for Julia"
   ]
  },
  {
   "cell_type": "code",
   "execution_count": 23,
   "metadata": {},
   "outputs": [
    {
     "data": {
      "text/plain": [
       "create_zz_hamiltonian (generic function with 3 methods)"
      ]
     },
     "execution_count": 23,
     "metadata": {},
     "output_type": "execute_result"
    }
   ],
   "source": [
    "#jl.cd(\"/iqm-academy-womanium-hackathon-DAQC-VQE/\")   # Change the current julia directory if necessary \n",
    "jl.include(\"Ising_model.jl\")  # Load the julia script with the connectivity generator function\n",
    "# More details of the implemented functions in the corresponding script. "
   ]
  },
  {
   "cell_type": "code",
   "execution_count": 5,
   "metadata": {},
   "outputs": [],
   "source": [
    "# Creation of the Python call of the Julia version\n",
    "\n",
    "# Recives a tuple of integers of length 3 and returns a list of lists with the connectivities of the Issing Hamiltinian\n",
    "def connectivity_Ising(dim_lengths):    \n",
    "    # it sends as a Python tuple to Julia, julia call converts for us to a Julia tuple. \n",
    "    connectivity_julia = jl.connectivity(dim_lengths)\n",
    "    connectivity = []\n",
    "    for i in range(len(connectivity_julia)):  # converts from Julia to Python type. (A list of list)\n",
    "        connectivity.append(list(connectivity_julia[i]))\n",
    "    return connectivity\n",
    "\n",
    "# Recives a tuple of integers of length 3 and returns a Hamiltonian matrix, a number of qubits, a uniform list of\n",
    "# interaction coefficients, and a list of connectivities. \n",
    "def Ising_matrix(dim_lengths):\n",
    "    matrix, no_qubits, h_coeffs, connect_jl = jl.create_zz_hamiltonian(dim_lengths)\n",
    "    # Converts each of the responses into Pyton compatible ones. \n",
    "    h_coeffs = list(h_coeffs)\n",
    "    matrix = (matrix.__array__()).tolist()\n",
    "    connect = []\n",
    "    for i in range(len(connect_jl)):\n",
    "        connect.append(list(connect_jl[i]))\n",
    "\n",
    "    return matrix, no_qubits, h_coeffs, connect"
   ]
  },
  {
   "cell_type": "markdown",
   "metadata": {},
   "source": [
    "For example, if we want the Ising connectivities for a cubic lattice (P) of $2\\times 2 \\times 1$ dimension, we provide to the `connectivity_Ising` function with a tuple of integer values, one for each dimension."
   ]
  },
  {
   "cell_type": "code",
   "execution_count": 6,
   "metadata": {},
   "outputs": [
    {
     "data": {
      "text/plain": [
       "[[0, 1], [0, 2], [1, 3], [2, 3]]"
      ]
     },
     "execution_count": 6,
     "metadata": {},
     "output_type": "execute_result"
    }
   ],
   "source": [
    "connectivity_Ising((2,2,1))"
   ]
  },
  {
   "cell_type": "markdown",
   "metadata": {},
   "source": [
    "Now, suppouse that we want not only the connectivities but also the Hammiltonian. In that case, we use the function `Ising matrix` with the same conventions of the previous function. This function returns the Hamiltonian matrix, the required number of qubits, a list of uniform coefficients, and the list of valid connectivities. E.g. for a lattice of $2 \\times 2 \\times 1$ dimmensions, we get "
   ]
  },
  {
   "cell_type": "code",
   "execution_count": 13,
   "metadata": {},
   "outputs": [],
   "source": [
    "# ***** The biggest tuple that we can handle is for a lattice of (2,2,3) dimentions!!!   <<<<<<<----- IMPORTANT\n",
    "issing_ham, issing_no_qubits, issing_h_coeffs, issing_connectivities = Ising_matrix((2,2,1)) "
   ]
  },
  {
   "cell_type": "markdown",
   "metadata": {},
   "source": [
    "The number of qubits: "
   ]
  },
  {
   "cell_type": "code",
   "execution_count": 14,
   "metadata": {},
   "outputs": [
    {
     "data": {
      "text/plain": [
       "4"
      ]
     },
     "execution_count": 14,
     "metadata": {},
     "output_type": "execute_result"
    }
   ],
   "source": [
    "issing_no_qubits"
   ]
  },
  {
   "cell_type": "markdown",
   "metadata": {},
   "source": [
    "A complex Hamiltonian matrix:"
   ]
  },
  {
   "cell_type": "code",
   "execution_count": 15,
   "metadata": {},
   "outputs": [
    {
     "name": "stdout",
     "output_type": "stream",
     "text": [
      "[[(4+0j), 0j, 0j, 0j, 0j, 0j, 0j, 0j, 0j, 0j, 0j, 0j, 0j, 0j, 0j, 0j], [0j, 0j, 0j, 0j, 0j, 0j, 0j, 0j, 0j, 0j, 0j, 0j, 0j, 0j, 0j, 0j], [0j, 0j, 0j, 0j, 0j, 0j, 0j, 0j, 0j, 0j, 0j, 0j, 0j, 0j, 0j, 0j], [0j, 0j, 0j, 0j, 0j, 0j, 0j, 0j, 0j, 0j, 0j, 0j, 0j, 0j, 0j, 0j], [0j, 0j, 0j, 0j, 0j, 0j, 0j, 0j, 0j, 0j, 0j, 0j, 0j, 0j, 0j, 0j], [0j, 0j, 0j, 0j, 0j, 0j, 0j, 0j, 0j, 0j, 0j, 0j, 0j, 0j, 0j, 0j], [0j, 0j, 0j, 0j, 0j, 0j, (-4+0j), 0j, 0j, 0j, 0j, 0j, 0j, 0j, 0j, 0j], [0j, 0j, 0j, 0j, 0j, 0j, 0j, 0j, 0j, 0j, 0j, 0j, 0j, 0j, 0j, 0j], [0j, 0j, 0j, 0j, 0j, 0j, 0j, 0j, 0j, 0j, 0j, 0j, 0j, 0j, 0j, 0j], [0j, 0j, 0j, 0j, 0j, 0j, 0j, 0j, 0j, (-4+0j), 0j, 0j, 0j, 0j, 0j, 0j], [0j, 0j, 0j, 0j, 0j, 0j, 0j, 0j, 0j, 0j, 0j, 0j, 0j, 0j, 0j, 0j], [0j, 0j, 0j, 0j, 0j, 0j, 0j, 0j, 0j, 0j, 0j, 0j, 0j, 0j, 0j, 0j], [0j, 0j, 0j, 0j, 0j, 0j, 0j, 0j, 0j, 0j, 0j, 0j, 0j, 0j, 0j, 0j], [0j, 0j, 0j, 0j, 0j, 0j, 0j, 0j, 0j, 0j, 0j, 0j, 0j, 0j, 0j, 0j], [0j, 0j, 0j, 0j, 0j, 0j, 0j, 0j, 0j, 0j, 0j, 0j, 0j, 0j, 0j, 0j], [0j, 0j, 0j, 0j, 0j, 0j, 0j, 0j, 0j, 0j, 0j, 0j, 0j, 0j, 0j, (4+0j)]]\n"
     ]
    }
   ],
   "source": [
    "print(issing_ham)"
   ]
  },
  {
   "cell_type": "markdown",
   "metadata": {},
   "source": [
    "A list of valid connectivities: "
   ]
  },
  {
   "cell_type": "code",
   "execution_count": 16,
   "metadata": {},
   "outputs": [
    {
     "data": {
      "text/plain": [
       "[[0, 1], [0, 2], [1, 3], [2, 3]]"
      ]
     },
     "execution_count": 16,
     "metadata": {},
     "output_type": "execute_result"
    }
   ],
   "source": [
    "issing_connectivities"
   ]
  },
  {
   "cell_type": "markdown",
   "metadata": {},
   "source": [
    "And a list of uniform connectivities coefficients: "
   ]
  },
  {
   "cell_type": "code",
   "execution_count": 17,
   "metadata": {},
   "outputs": [
    {
     "data": {
      "text/plain": [
       "[1.0, 1.0, 1.0, 1.0]"
      ]
     },
     "execution_count": 17,
     "metadata": {},
     "output_type": "execute_result"
    }
   ],
   "source": [
    "issing_h_coeffs"
   ]
  },
  {
   "cell_type": "markdown",
   "metadata": {},
   "source": [
    "- A Issing Hamiltonian given a connectivity\n",
    "\n",
    "Suppouse tha we have already a list of connectivities and that we want to use a Issing model to simulate our set. So we can use the function `given_Issing_ham` that receives a list of connectivities\n",
    "(a lis of lists), and returns a complex hamiltonian matrix, the number of qubits needed to perform subsequent calculations, a list of uniform connectivity coefficients and the connectivity provided. "
   ]
  },
  {
   "cell_type": "code",
   "execution_count": 19,
   "metadata": {},
   "outputs": [],
   "source": [
    "# Recives a list of connectivities, returns the hamiltonian, number_of_qubits, h_coeffs and the connectivity provided. \n",
    "def given_Issing_ham(connectivity):\n",
    "    a0 = []\n",
    "    for i in connectivity:  # Converts a List of List to a Julia Vector of Vectors\n",
    "        a0.append(jl.PythonCall.pyconvert(jl.Vector,i))\n",
    "        j0 = jl.PythonCall.pyconvert(jl.Vector,a0)\n",
    "    jl.convert(jl.Vector,a0) \n",
    "    \n",
    "    hamiltonian, num_qubits, h_coeffs, connectivities = jl.create_zz_hamiltonian(j0) # calls the julia function\n",
    "    # converts the Julia results to Python \n",
    "    hamiltonian = (hamiltonian.__array__()).tolist()\n",
    "    h_coeffs = (h_coeffs.__array__()).tolist()\n",
    "\n",
    "    return hamiltonian, num_qubits, h_coeffs, connectivity"
   ]
  },
  {
   "cell_type": "markdown",
   "metadata": {},
   "source": [
    "So for a 4 elements Issing chain, we provide the right list of connectivities for this system.  "
   ]
  },
  {
   "cell_type": "code",
   "execution_count": 20,
   "metadata": {},
   "outputs": [],
   "source": [
    "issing_ham_con, issing_num_qubits_con, issing_h_coeffs_con, issing_con_con = given_Issing_ham([[0,1],[1,2],[2,3]])"
   ]
  },
  {
   "cell_type": "markdown",
   "metadata": {},
   "source": [
    "And we get the Hamiltonian matrix"
   ]
  },
  {
   "cell_type": "code",
   "execution_count": 15,
   "metadata": {},
   "outputs": [
    {
     "name": "stdout",
     "output_type": "stream",
     "text": [
      "[[(3+0j), 0j, 0j, 0j, 0j, 0j, 0j, 0j, 0j, 0j, 0j, 0j, 0j, 0j, 0j, 0j], [0j, (1+0j), 0j, 0j, 0j, 0j, 0j, 0j, 0j, 0j, 0j, 0j, 0j, 0j, 0j, 0j], [0j, 0j, (-1+0j), 0j, 0j, 0j, 0j, 0j, 0j, 0j, 0j, 0j, 0j, 0j, 0j, 0j], [0j, 0j, 0j, (1+0j), 0j, 0j, 0j, 0j, 0j, 0j, 0j, 0j, 0j, 0j, 0j, 0j], [0j, 0j, 0j, 0j, (-1+0j), 0j, 0j, 0j, 0j, 0j, 0j, 0j, 0j, 0j, 0j, 0j], [0j, 0j, 0j, 0j, 0j, (-3+0j), 0j, 0j, 0j, 0j, 0j, 0j, 0j, 0j, 0j, 0j], [0j, 0j, 0j, 0j, 0j, 0j, (-1+0j), 0j, 0j, 0j, 0j, 0j, 0j, 0j, 0j, 0j], [0j, 0j, 0j, 0j, 0j, 0j, 0j, (1+0j), 0j, 0j, 0j, 0j, 0j, 0j, 0j, 0j], [0j, 0j, 0j, 0j, 0j, 0j, 0j, 0j, (1+0j), 0j, 0j, 0j, 0j, 0j, 0j, 0j], [0j, 0j, 0j, 0j, 0j, 0j, 0j, 0j, 0j, (-1+0j), 0j, 0j, 0j, 0j, 0j, 0j], [0j, 0j, 0j, 0j, 0j, 0j, 0j, 0j, 0j, 0j, (-3+0j), 0j, 0j, 0j, 0j, 0j], [0j, 0j, 0j, 0j, 0j, 0j, 0j, 0j, 0j, 0j, 0j, (-1+0j), 0j, 0j, 0j, 0j], [0j, 0j, 0j, 0j, 0j, 0j, 0j, 0j, 0j, 0j, 0j, 0j, (1+0j), 0j, 0j, 0j], [0j, 0j, 0j, 0j, 0j, 0j, 0j, 0j, 0j, 0j, 0j, 0j, 0j, (-1+0j), 0j, 0j], [0j, 0j, 0j, 0j, 0j, 0j, 0j, 0j, 0j, 0j, 0j, 0j, 0j, 0j, (1+0j), 0j], [0j, 0j, 0j, 0j, 0j, 0j, 0j, 0j, 0j, 0j, 0j, 0j, 0j, 0j, 0j, (3+0j)]]\n"
     ]
    }
   ],
   "source": [
    "print(list(issing_ham_con))"
   ]
  },
  {
   "cell_type": "markdown",
   "metadata": {},
   "source": [
    "The number of qubits needed"
   ]
  },
  {
   "cell_type": "code",
   "execution_count": 16,
   "metadata": {},
   "outputs": [
    {
     "data": {
      "text/plain": [
       "4"
      ]
     },
     "execution_count": 16,
     "metadata": {},
     "output_type": "execute_result"
    }
   ],
   "source": [
    "issing_num_qubits_con"
   ]
  },
  {
   "cell_type": "markdown",
   "metadata": {},
   "source": [
    "A list of uniform connectivity coefficients "
   ]
  },
  {
   "cell_type": "code",
   "execution_count": 21,
   "metadata": {},
   "outputs": [
    {
     "data": {
      "text/plain": [
       "[1.0, 1.0, 1.0, 1.0]"
      ]
     },
     "execution_count": 21,
     "metadata": {},
     "output_type": "execute_result"
    }
   ],
   "source": [
    "issing_h_coeffs_con"
   ]
  },
  {
   "cell_type": "markdown",
   "metadata": {},
   "source": [
    "And the list of connectivities initially provided. "
   ]
  },
  {
   "cell_type": "code",
   "execution_count": 22,
   "metadata": {},
   "outputs": [
    {
     "data": {
      "text/plain": [
       "[[0, 1], [1, 2], [2, 3]]"
      ]
     },
     "execution_count": 22,
     "metadata": {},
     "output_type": "execute_result"
    }
   ],
   "source": [
    "issing_con_con"
   ]
  },
  {
   "cell_type": "markdown",
   "metadata": {},
   "source": [
    "This code can be easily extended for a more general Issing model, e.g on a set of non uniform atoms, a Hammiltonian with second order interactions. \n",
    "\n",
    "Now, why Julia? Because is easier to do Complex Linear Algebra there, as we did not use external libraries like Numpy to manage arrays and matrix math in Python. As much, we call the package LinearAlgebra.jl to perform some advanced functions over matrices like a kroneker product of matrices, but without using more notation. "
   ]
  }
 ],
 "metadata": {
  "anaconda-cloud": {},
  "celltoolbar": "Tags",
  "kernelspec": {
   "display_name": "Python 3.9.12 ('base')",
   "language": "python",
   "name": "python3"
  },
  "language_info": {
   "codemirror_mode": {
    "name": "ipython",
    "version": 3
   },
   "file_extension": ".py",
   "mimetype": "text/x-python",
   "name": "python",
   "nbconvert_exporter": "python",
   "pygments_lexer": "ipython3",
   "version": "3.9.12"
  },
  "varInspector": {
   "cols": {
    "lenName": 16,
    "lenType": 16,
    "lenVar": 40
   },
   "kernels_config": {
    "python": {
     "delete_cmd_postfix": "",
     "delete_cmd_prefix": "del ",
     "library": "var_list.py",
     "varRefreshCmd": "print(var_dic_list())"
    },
    "r": {
     "delete_cmd_postfix": ") ",
     "delete_cmd_prefix": "rm(",
     "library": "var_list.r",
     "varRefreshCmd": "cat(var_dic_list()) "
    }
   },
   "types_to_exclude": [
    "module",
    "function",
    "builtin_function_or_method",
    "instance",
    "_Feature"
   ],
   "window_display": false
  },
  "vscode": {
   "interpreter": {
    "hash": "3da53c9c8ab7b538a4270fda3de568bbb19c2469968f6dc93ea3f292c36a847d"
   }
  },
  "widgets": {
   "application/vnd.jupyter.widget-state+json": {
    "state": {},
    "version_major": 2,
    "version_minor": 0
   }
  }
 },
 "nbformat": 4,
 "nbformat_minor": 4
}
