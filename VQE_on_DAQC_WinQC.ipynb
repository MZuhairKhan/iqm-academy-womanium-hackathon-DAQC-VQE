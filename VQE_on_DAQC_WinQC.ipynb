{
 "cells": [
  {
   "cell_type": "code",
   "execution_count": 1,
   "metadata": {},
   "outputs": [],
   "source": [
    "#!pip install qiskit\n",
    "#!pip install qutip"
   ]
  },
  {
   "cell_type": "code",
   "execution_count": 2,
   "metadata": {},
   "outputs": [],
   "source": [
    "# import relevant modules\n",
    "import numpy as np\n",
    "import pylab\n",
    "from typing import List \n",
    "import qutip as qt\n",
    "# and from qiskit\n",
    "from numbers import Number\n",
    "from qiskit import QuantumCircuit, QuantumRegister, Aer, execute\n",
    "from qiskit.extensions import HamiltonianGate\n",
    "from qiskit.providers.aer import QasmSimulator\n",
    "from qiskit.circuit import  ParameterVector\n",
    "from qiskit.circuit.library import TwoLocal\n",
    "from qiskit.quantum_info import Operator\n",
    "from qiskit.providers.fake_provider import FakeVigo\n",
    "from qiskit.utils import QuantumInstance, algorithm_globals\n",
    "from qiskit.algorithms import VQE, NumPyMinimumEigensolver\n",
    "from qiskit.algorithms.optimizers import SPSA\n",
    "from qiskit.providers.aer.noise import NoiseModel\n",
    "from qiskit.opflow import I, X, Y, Z\n",
    "from qiskit.circuit import Gate, QuantumCircuit, QuantumRegister, Parameter, ParameterExpression, ParameterVector\n",
    "from qiskit.quantum_info.operators.predicates import matrix_equal, is_hermitian_matrix\n",
    "from qiskit.extensions.exceptions import ExtensionError\n",
    "from qiskit.circuit.exceptions import CircuitError\n",
    "from qiskit.extensions.unitary import UnitaryGate\n",
    "from qiskit.utils.mitigation import CompleteMeasFitter"
   ]
  },
  {
   "cell_type": "code",
   "execution_count": 3,
   "metadata": {},
   "outputs": [],
   "source": [
    "# H2 operator for 2 qubits\n",
    "H2_op = (-1.052373245772859 * I ^ I) + \\\n",
    "        (0.39793742484318045 * I ^ Z) + \\\n",
    "        (-0.39793742484318045 * Z ^ I) + \\\n",
    "        (-0.01128010425623538 * Z ^ Z) + \\\n",
    "        (0.18093119978423156 * X ^ X)"
   ]
  },
  {
   "cell_type": "code",
   "execution_count": 4,
   "metadata": {
    "scrolled": true
   },
   "outputs": [
    {
     "name": "stdout",
     "output_type": "stream",
     "text": [
      "Reference value: -1.85728\n"
     ]
    }
   ],
   "source": [
    "# Calculating result classically\n",
    "npme = NumPyMinimumEigensolver()\n",
    "result = npme.compute_minimum_eigenvalue(operator=H2_op)\n",
    "ref_value = result.eigenvalue.real\n",
    "print(f'Reference value: {ref_value:.5f}')"
   ]
  },
  {
   "cell_type": "code",
   "execution_count": 5,
   "metadata": {},
   "outputs": [],
   "source": [
    "def create_zz_hamiltonian(num_qubits: int, connectivity: List[List[int]],\n",
    "                              h_coeffs: List[float]) -> np.ndarray:\n",
    "    \"\"\"Creates a global Hamiltonian consisting of a sum of one (g * Z^i.Z^j) term per device connection.\n",
    "\n",
    "    Args:\n",
    "        num_qubits (int): number of qubits of the Hamiltonian\n",
    "        connectivity (List[List[int]]): connectivity of the device\n",
    "        h_coeffs (List[float]): list of coefficients of each ZZ term\n",
    "\n",
    "    Returns:\n",
    "        np.ndarray: tensored Hamiltonian\n",
    "    \"\"\"\n",
    "    \n",
    "    dim = 2 ** num_qubits\n",
    "    num_connections = len(connectivity)\n",
    "    zz_hamiltonian = np.zeros([dim, dim], dtype=np.complex128)\n",
    "\n",
    "    # create a matrix that is the sum of ZZ operators on all connected qubits,\n",
    "    # tensored with the identity\n",
    "    for c in range(num_connections):\n",
    "        ops_to_tensor = [qt.identity(2)] * num_qubits\n",
    "        ops_to_tensor[connectivity[c][0]] = qt.sigmaz()\n",
    "        ops_to_tensor[connectivity[c][1]] = qt.sigmaz()\n",
    "        zz_hamiltonian += h_coeffs[c] * np.array(qt.tensor(ops_to_tensor))\n",
    "\n",
    "    return zz_hamiltonian"
   ]
  },
  {
   "cell_type": "code",
   "execution_count": 6,
   "metadata": {},
   "outputs": [],
   "source": [
    "# This code is based on https://github.com/Qiskit/qiskit-terra/blob/main/qiskit/extensions/hamiltonian_gate.py licenced under Apache licence.\n",
    "class CustomHamiltonianGate(Gate):\n",
    "    def __init__(self, time, num_qubits, connectivity, h_coeff0,h_coeff1,h_coeff2,h_coeff3, label=None):\n",
    "        if isinstance(time, Number) and time != np.real(time):\n",
    "            raise ExtensionError(\"Evolution time is not real.\")\n",
    "       \n",
    "        self.num_qubits = num_qubits\n",
    "        self.connectivity = connectivity\n",
    "        # Store instruction params\n",
    "        super().__init__(\"custom_hamiltonian\", num_qubits, [time, num_qubits, connectivity, h_coeff0,h_coeff1,h_coeff2,h_coeff3], label=label)\n",
    "\n",
    "    def __array__(self, dtype=None):\n",
    "        \"\"\"Return matrix for the unitary.\"\"\"\n",
    "        # pylint: disable=unused-argument\n",
    "        import scipy.linalg\n",
    "\n",
    "        try:\n",
    "            return scipy.linalg.expm(-1j * self.get_ham() * float(self.params[0]))\n",
    "        except TypeError as ex:\n",
    "            raise TypeError(\n",
    "                \"Unable to generate Unitary matrix for \"\n",
    "                \"unbound t parameter {}\".format(self.params[1])\n",
    "            ) from ex\n",
    "\n",
    "    def _define(self):\n",
    "        \"\"\"Calculate a subcircuit that implements this unitary.\"\"\"\n",
    "        q = QuantumRegister(self.num_qubits, \"q\")\n",
    "        qc = QuantumCircuit(q, name=self.name)\n",
    "        qc._append(UnitaryGate(self.to_matrix()), q[:], [])\n",
    "        self.definition = qc\n",
    "\n",
    "    def validate_parameter(self, parameter):\n",
    "        return parameter\n",
    "\n",
    "    def get_ham(self):\n",
    "        dim = 2 ** self.num_qubits\n",
    "        num_connections = len(self.connectivity)\n",
    "        zz_hamiltonian = np.zeros([dim, dim], dtype=np.complex128)\n",
    "\n",
    "        for c in range(num_connections):\n",
    "            ops_to_tensor = [qt.identity(2)] * self.num_qubits\n",
    "            ops_to_tensor[self.connectivity[c][0]] = qt.sigmaz()\n",
    "            ops_to_tensor[self.connectivity[c][1]] = qt.sigmaz()\n",
    "            zz_hamiltonian += float(self.params[3+c]) * np.array(qt.tensor(ops_to_tensor)) #+= \n",
    "\n",
    "        return zz_hamiltonian\n",
    "\n",
    "def custom_hamiltonian(self, time, connectivity, h_coeff0,h_coeff1,h_coeff2,h_coeff3, qubits, label=None):\n",
    "    \"\"\"Apply hamiltonian evolution to qubits.\"\"\"\n",
    "    if not isinstance(qubits, list):\n",
    "        qubits = [qubits]\n",
    "\n",
    "    return self.append(CustomHamiltonianGate(time=time, num_qubits =len(qubits), connectivity=connectivity, h_coeff0=h_coeff0,h_coeff1=h_coeff1,h_coeff2 = h_coeff2,h_coeff3 = h_coeff3, label=label), qubits, [])\n",
    "\n",
    "QuantumCircuit.custom_hamiltonian = custom_hamiltonian"
   ]
  },
  {
   "cell_type": "code",
   "execution_count": 7,
   "metadata": {},
   "outputs": [
    {
     "name": "stdout",
     "output_type": "stream",
     "text": [
      "      ┌───────────────────┐┌───────────────────────────────────────────┐»\n",
      "q0_0: ┤ U(p[0],p[1],p[2]) ├┤0                                          ├»\n",
      "      ├───────────────────┤│  analog block(p[7],2,[[0, 1]],p[6],1,1,1) │»\n",
      "q0_1: ┤ U(p[3],p[4],p[5]) ├┤1                                          ├»\n",
      "      └───────────────────┘└───────────────────────────────────────────┘»\n",
      "«       ┌────────────────────┐ ┌────────────────────────────────────────────┐»\n",
      "«q0_0: ─┤ U(p[8],p[9],p[10]) ├─┤0                                           ├»\n",
      "«      ┌┴────────────────────┴┐│  analog block(p[14],2,[[0, 1]],p[6],1,1,1) │»\n",
      "«q0_1: ┤ U(p[11],p[12],p[13]) ├┤1                                           ├»\n",
      "«      └──────────────────────┘└────────────────────────────────────────────┘»\n",
      "«      ┌──────────────────────┐ ░ \n",
      "«q0_0: ┤ U(p[15],p[16],p[17]) ├─░─\n",
      "«      ├──────────────────────┤ ░ \n",
      "«q0_1: ┤ U(p[18],p[19],p[20]) ├─░─\n",
      "«      └──────────────────────┘ ░ \n"
     ]
    }
   ],
   "source": [
    "# The h_coeffs are parametrised but constant across each analog block\n",
    "# The time varies across each analog block\n",
    "# Each digital gate is a universal gate with 3 parameters\n",
    "def create_ansatz_with_fixed_hamiltonian(no_iters):\n",
    "    no_qubits = 2\n",
    "    p = ParameterVector('p', 7 * no_iters + 7) \n",
    "    qr = QuantumRegister(no_qubits)\n",
    "    ansatz = QuantumCircuit(qr)\n",
    "    ansatz.u(p[0],p[1],p[2],0)\n",
    "    ansatz.u(p[3],p[4],p[5],1)\n",
    "    for i in range(1,no_iters+1):\n",
    "        ansatz.custom_hamiltonian(connectivity=[[0, 1]], h_coeff0=p[6], h_coeff1=1.0, h_coeff2=1.0 ,h_coeff3=1.0, time=p[7*i], qubits=[qr[0], qr[1]], label='analog block')\n",
    "        ansatz.u(p[7*i+1],p[7*i+2],p[7*i+3],0)\n",
    "        ansatz.u(p[7*i+4],p[7*i+5],p[7*i+6],1)\n",
    "    ansatz.barrier()\n",
    "    return ansatz\n",
    "\n",
    "# Sample ansatz with 2 iterations (DADAD)\n",
    "print(create_ansatz_with_fixed_hamiltonian(2))"
   ]
  },
  {
   "cell_type": "code",
   "execution_count": 8,
   "metadata": {},
   "outputs": [
    {
     "name": "stdout",
     "output_type": "stream",
     "text": [
      "      ┌───────────────────┐┌───────────────────────────────────────────┐»\n",
      "q1_0: ┤ U(p[0],p[1],p[2]) ├┤0                                          ├»\n",
      "      ├───────────────────┤│  analog block(p[6],2,[[0, 1]],p[7],1,1,1) │»\n",
      "q1_1: ┤ U(p[3],p[4],p[5]) ├┤1                                          ├»\n",
      "      └───────────────────┘└───────────────────────────────────────────┘»\n",
      "«       ┌────────────────────┐ ┌─────────────────────────────────────────────┐»\n",
      "«q1_0: ─┤ U(p[8],p[9],p[10]) ├─┤0                                            ├»\n",
      "«      ┌┴────────────────────┴┐│  analog block(p[14],2,[[0, 1]],p[15],1,1,1) │»\n",
      "«q1_1: ┤ U(p[11],p[12],p[13]) ├┤1                                            ├»\n",
      "«      └──────────────────────┘└─────────────────────────────────────────────┘»\n",
      "«      ┌──────────────────────┐ ░ \n",
      "«q1_0: ┤ U(p[16],p[17],p[18]) ├─░─\n",
      "«      ├──────────────────────┤ ░ \n",
      "«q1_1: ┤ U(p[19],p[20],p[21]) ├─░─\n",
      "«      └──────────────────────┘ ░ \n"
     ]
    }
   ],
   "source": [
    "# The h_coeffs are parametrised and can vary across each analog block\n",
    "# The time varies across each analog block\n",
    "# Each digital gate is a universal gate with 3 parameters\n",
    "def create_ansatz_with_variable_hamiltonian(no_iters):\n",
    "    no_qubits = 2\n",
    "    p = ParameterVector('p', 8*no_iters+6) \n",
    "    qr = QuantumRegister(no_qubits)\n",
    "    ansatz = QuantumCircuit(qr)\n",
    "    ansatz.u(p[0],p[1],p[2],0)\n",
    "    ansatz.u(p[3],p[4],p[5],1)\n",
    "    for i in range(1,no_iters+1):\n",
    "        ansatz.custom_hamiltonian(connectivity=[[0, 1]], h_coeff0=p[8*i-1], h_coeff1=1.0, h_coeff2=1.0 ,h_coeff3=1.0, time=p[8*i-2], qubits=[qr[0], qr[1]], label='analog block')\n",
    "        ansatz.u(p[8*i],p[8*i+1],p[8*i+2],0)\n",
    "        ansatz.u(p[8*i+3],p[8*i+4],p[8*i+5],1)\n",
    "    ansatz.barrier()\n",
    "    return ansatz\n",
    "# Sample ansatz with 2 iterations (DADAD)\n",
    "print(create_ansatz_with_variable_hamiltonian(2))"
   ]
  },
  {
   "cell_type": "code",
   "execution_count": 9,
   "metadata": {},
   "outputs": [
    {
     "ename": "NameError",
     "evalue": "name 'create_ansatz_without_h_coeff' is not defined",
     "output_type": "error",
     "traceback": [
      "\u001b[1;31m---------------------------------------------------------------------------\u001b[0m",
      "\u001b[1;31mNameError\u001b[0m                                 Traceback (most recent call last)",
      "\u001b[1;32mc:\\Users\\khanm\\Downloads\\Main.ipynb Cell 9\u001b[0m in \u001b[0;36m<module>\u001b[1;34m\u001b[0m\n\u001b[0;32m     <a href='vscode-notebook-cell:/c%3A/Users/khanm/Downloads/Main.ipynb#X11sZmlsZQ%3D%3D?line=16'>17</a>\u001b[0m     \u001b[39mreturn\u001b[39;00m ansatz\n\u001b[0;32m     <a href='vscode-notebook-cell:/c%3A/Users/khanm/Downloads/Main.ipynb#X11sZmlsZQ%3D%3D?line=17'>18</a>\u001b[0m \u001b[39m# Sample ansatz with 2 iterations (DADAD)\u001b[39;00m\n\u001b[1;32m---> <a href='vscode-notebook-cell:/c%3A/Users/khanm/Downloads/Main.ipynb#X11sZmlsZQ%3D%3D?line=18'>19</a>\u001b[0m \u001b[39mprint\u001b[39m(create_ansatz_without_h_coeff(\u001b[39m2\u001b[39m))\n",
      "\u001b[1;31mNameError\u001b[0m: name 'create_ansatz_without_h_coeff' is not defined"
     ]
    }
   ],
   "source": [
    "# The h_coeffs are fixed\n",
    "# The time varies across each analog block\n",
    "# Each digital gate is a universal gate with 3 parameters\n",
    "def create_ansatz_without_h_coeffs(no_iters):\n",
    "    no_qubits = 2\n",
    "    p = ParameterVector('p', 7*no_iters+6)\n",
    "    qr = QuantumRegister(no_qubits)\n",
    "    ansatz = QuantumCircuit(qr)\n",
    "    hamiltonian = create_zz_hamiltonian(no_qubits, [[0, 1]], [1.]) \n",
    "    ansatz.u(p[0],p[1],p[2],0)\n",
    "    ansatz.u(p[3],p[4],p[5],1)\n",
    "    for i in range(1,no_iters+1):\n",
    "        ansatz.hamiltonian(operator=hamiltonian, time=p[7*i-1], qubits=[qr[0], qr[1]], label='analog block')\n",
    "        ansatz.u(p[7*i],p[7*i+1],p[7*i+2],0)\n",
    "        ansatz.u(p[7*i+3],p[7*i+4],p[7*i+5],1)\n",
    "    ansatz.barrier()\n",
    "    return ansatz\n",
    "# Sample ansatz with 2 iterations (DADAD)\n",
    "print(create_ansatz_without_h_coeffs(2))"
   ]
  },
  {
   "cell_type": "code",
   "execution_count": null,
   "metadata": {},
   "outputs": [
    {
     "name": "stdout",
     "output_type": "stream",
     "text": [
      "           ┌───────────────────┐                          »\n",
      "q263033_0: ┤ U(p[0],p[1],p[2]) ├────────────■─────────────»\n",
      "           ├───────────────────┤┌───────────┴────────────┐»\n",
      "q263033_1: ┤ U(p[3],p[4],p[5]) ├┤ U(p[6],p[7],p[8],p[9]) ├»\n",
      "           └───────────────────┘└────────────────────────┘»\n",
      "«           ┌───────────────────────────┐┌──────────────────────┐»\n",
      "«q263033_0: ┤ U(p[10],p[11],p[12],[13]) ├┤ U(p[14],p[15],p[16]) ├»\n",
      "«           └─────────────┬─────────────┘├──────────────────────┤»\n",
      "«q263033_1: ──────────────■──────────────┤ U(p[17],p[18],p[19]) ├»\n",
      "«                                        └──────────────────────┘»\n",
      "«                                         ┌───────────────────────────┐»\n",
      "«q263033_0: ──────────────■───────────────┤ U(p[24],p[25],p[26],[27]) ├»\n",
      "«           ┌─────────────┴──────────────┐└─────────────┬─────────────┘»\n",
      "«q263033_1: ┤ U(p[20],p[21],p[22],p[23]) ├──────────────■──────────────»\n",
      "«           └────────────────────────────┘                             »\n",
      "«           ┌──────────────────────┐ ░ \n",
      "«q263033_0: ┤ U(p[28],p[29],p[30]) ├─░─\n",
      "«           ├──────────────────────┤ ░ \n",
      "«q263033_1: ┤ U(p[31],p[32],p[33]) ├─░─\n",
      "«           └──────────────────────┘ ░ \n"
     ]
    }
   ],
   "source": [
    "# The ansatz is created solely with digital gates as a benchmark\n",
    "# We represent each digital block with a u gate.\n",
    "# We represent each analog block with 2 cu gates.\n",
    "def create_ansatz_with_digital_methods(no_iters):  \n",
    "    no_qubits = 2\n",
    "    p = ParameterVector('p', 3*no_qubits + 7*no_iters*no_qubits)\n",
    "    qr = QuantumRegister(no_qubits)\n",
    "    ansatz = QuantumCircuit(qr)\n",
    "    ansatz.u(p[0],p[1],p[2],0)\n",
    "    ansatz.u(p[3],p[4],p[5],1)\n",
    "    for j in range(no_iters):\n",
    "        n = 3*no_qubits + 7*j*no_qubits\n",
    "        ansatz.cu(p[n],p[n+1],p[n+2],p[n+3],0,1)\n",
    "        ansatz.cu(p[n+4],p[n+5],p[n+6],[n+7],1,0)\n",
    "        for i in range(no_qubits):\n",
    "            ansatz.u(p[n+3*i+8],p[n+3*i+9],p[n+3*i+10],i)\n",
    "    ansatz.barrier()\n",
    "    return ansatz\n",
    "# Sample ansatz with digital gates\n",
    "print(create_ansatz_with_digital_methods(2))"
   ]
  },
  {
   "cell_type": "code",
   "execution_count": null,
   "metadata": {},
   "outputs": [],
   "source": [
    "# This function simulates a given ansatz in 3 different ways:\n",
    "# 1) Noise-free\n",
    "# 2) Noisy\n",
    "# 3) Noise and error mitigated\n",
    "def run_ansatz(ansatz):\n",
    "    seed = 170\n",
    "    iterations = 125\n",
    "    # learning_rate = 0.001\n",
    "    # perturbation = 0.001\n",
    "    # spsa = SPSA(maxiter=iterations, learning_rate = learning_rate, perturbation = perturbation)\n",
    "    spsa = SPSA(maxiter=iterations)\n",
    "    algorithm_globals.random_seed = seed\n",
    "    backend = Aer.get_backend('aer_simulator')\n",
    "    \n",
    "    qi = QuantumInstance(backend=backend, seed_simulator=seed, seed_transpiler=seed)\n",
    "    counts = []\n",
    "    values = []\n",
    "    def store_intermediate_result(eval_count, parameters, mean, std):\n",
    "        counts.append(eval_count)\n",
    "        values.append(mean)\n",
    "    vqe = VQE(ansatz, optimizer=spsa, callback=store_intermediate_result, quantum_instance=qi)\n",
    "    result = vqe.compute_minimum_eigenvalue(operator=H2_op)\n",
    "    print(f'VQE on Aer qasm simulator (no noise): {result.eigenvalue.real:.5f}')\n",
    "    print(f'Delta from reference energy value is {(result.eigenvalue.real - ref_value):.5f}')\n",
    "    print()\n",
    "    \n",
    "    device_backend = FakeVigo()\n",
    "    backend = Aer.get_backend('aer_simulator')\n",
    "    counts1 = []\n",
    "    values1 = []\n",
    "    device = QasmSimulator.from_backend(device_backend)\n",
    "    coupling_map = device.configuration().coupling_map\n",
    "    noise_model = NoiseModel.from_backend(device)\n",
    "    basis_gates = noise_model.basis_gates\n",
    "\n",
    "    algorithm_globals.random_seed = seed\n",
    "    qi = QuantumInstance(backend=backend, seed_simulator=seed, seed_transpiler=seed,\n",
    "                        coupling_map=coupling_map, noise_model=noise_model,)\n",
    "\n",
    "    def store_intermediate_result1(eval_count, parameters, mean, std):\n",
    "        counts1.append(eval_count)\n",
    "        values1.append(mean)#\n",
    "    vqe = VQE(ansatz, optimizer=spsa, callback=store_intermediate_result1, quantum_instance=qi)\n",
    "    result1 = vqe.compute_minimum_eigenvalue(operator=H2_op)\n",
    "    print(f'VQE on Aer qasm simulator (with noise): {result1.eigenvalue.real:.5f}')\n",
    "    print(f'Delta from reference energy value is {(result1.eigenvalue.real - ref_value):.5f}')\n",
    "    print()\n",
    "   \n",
    "    counts2 = []\n",
    "    values2 = []\n",
    "    if noise_model is not None:\n",
    "        algorithm_globals.random_seed = seed\n",
    "        qi = QuantumInstance(backend=backend, seed_simulator=seed, seed_transpiler=seed,\n",
    "                            coupling_map=coupling_map, noise_model=noise_model, \n",
    "                            measurement_error_mitigation_cls=CompleteMeasFitter, \n",
    "                            cals_matrix_refresh_period=30)\n",
    "\n",
    "        def store_intermediate_result2(eval_count, parameters, mean, std):\n",
    "            counts2.append(eval_count)\n",
    "            values2.append(mean)\n",
    "        vqe = VQE(ansatz, optimizer=spsa, callback=store_intermediate_result2, quantum_instance=qi)\n",
    "        result2 = vqe.compute_minimum_eigenvalue(operator=H2_op)\n",
    "        print(f'VQE on Aer qasm simulator (with noise and measurement error mitigation): {result2.eigenvalue.real:.5f}')\n",
    "        print(f'Delta from reference energy value is {(result2.eigenvalue.real - ref_value):.5f}')\n",
    "        print()"
   ]
  },
  {
   "cell_type": "code",
   "execution_count": null,
   "metadata": {},
   "outputs": [],
   "source": [
    "def run_ansatz_with_graphs(ansatz):\n",
    "    seed = 170\n",
    "    iterations = 125\n",
    "    # learning_rate = 0.001\n",
    "    # perturbation = 0.001\n",
    "    # spsa = SPSA(maxiter=iterations, learning_rate = learning_rate, perturbation = perturbation)\n",
    "    spsa = SPSA(maxiter=iterations)\n",
    "    algorithm_globals.random_seed = seed\n",
    "    backend = Aer.get_backend('aer_simulator')\n",
    "    \n",
    "    qi = QuantumInstance(backend=backend, seed_simulator=seed, seed_transpiler=seed)\n",
    "    counts = []\n",
    "    values = []\n",
    "    def store_intermediate_result(eval_count, parameters, mean, std):\n",
    "        counts.append(eval_count)\n",
    "        values.append(mean)\n",
    "    vqe = VQE(ansatz, optimizer=spsa, callback=store_intermediate_result, quantum_instance=qi)\n",
    "    result = vqe.compute_minimum_eigenvalue(operator=H2_op)\n",
    "    print(f'VQE on Aer qasm simulator (no noise): {result.eigenvalue.real:.5f}')\n",
    "    print(f'Delta from reference energy value is {(result.eigenvalue.real - ref_value):.5f}')\n",
    "    print()\n",
    "    \n",
    "    device_backend = FakeVigo()\n",
    "    backend = Aer.get_backend('aer_simulator')\n",
    "    counts1 = []\n",
    "    values1 = []\n",
    "    device = QasmSimulator.from_backend(device_backend)\n",
    "    coupling_map = device.configuration().coupling_map\n",
    "    noise_model = NoiseModel.from_backend(device)\n",
    "    basis_gates = noise_model.basis_gates\n",
    "\n",
    "    algorithm_globals.random_seed = seed\n",
    "    qi = QuantumInstance(backend=backend, seed_simulator=seed, seed_transpiler=seed,\n",
    "                        coupling_map=coupling_map, noise_model=noise_model,)\n",
    "\n",
    "    def store_intermediate_result1(eval_count, parameters, mean, std):\n",
    "        counts1.append(eval_count)\n",
    "        values1.append(mean)\n",
    "    vqe = VQE(ansatz, optimizer=spsa, callback=store_intermediate_result1, quantum_instance=qi)\n",
    "    result1 = vqe.compute_minimum_eigenvalue(operator=H2_op)\n",
    "    print(f'VQE on Aer qasm simulator (with noise): {result1.eigenvalue.real:.5f}')\n",
    "    print(f'Delta from reference energy value is {(result1.eigenvalue.real - ref_value):.5f}')\n",
    "    print()\n",
    "   \n",
    "    counts2 = []\n",
    "    values2 = []\n",
    "    if noise_model is not None:\n",
    "        algorithm_globals.random_seed = seed\n",
    "        qi = QuantumInstance(backend=backend, seed_simulator=seed, seed_transpiler=seed,\n",
    "                            coupling_map=coupling_map, noise_model=noise_model, \n",
    "                            measurement_error_mitigation_cls=CompleteMeasFitter, \n",
    "                            cals_matrix_refresh_period=30)\n",
    "\n",
    "        def store_intermediate_result2(eval_count, parameters, mean, std):\n",
    "            counts2.append(eval_count)\n",
    "            values2.append(mean)\n",
    "        vqe = VQE(ansatz, optimizer=spsa, callback=store_intermediate_result2, quantum_instance=qi)\n",
    "        result2 = vqe.compute_minimum_eigenvalue(operator=H2_op)\n",
    "        print(f'VQE on Aer qasm simulator (with noise and measurement error mitigation): {result2.eigenvalue.real:.5f}')\n",
    "        print(f'Delta from reference energy value is {(result2.eigenvalue.real - ref_value):.5f}')\n",
    "        print()\n",
    "    \n",
    "    pylab.rcParams['figure.figsize'] = (12, 4)\n",
    "    pylab.plot(counts, values, \"b\")\n",
    "    pylab.plot(counts1, values1, \"g\")\n",
    "    pylab.plot(counts2, values2, \"r\")\n",
    "    pylab.xlabel('Eval count')\n",
    "    pylab.ylabel('Energy')\n",
    "    pylab.title('Noiseless (Blue), noisy (Green) and noise and error mitigated (Red) simulation')"
   ]
  },
  {
   "cell_type": "code",
   "execution_count": null,
   "metadata": {},
   "outputs": [
    {
     "name": "stderr",
     "output_type": "stream",
     "text": [
      "WARNING:qiskit.providers.aer.backends.aerbackend:Simulation failed and returned the following error message:\n",
      "ERROR: Failed to load qobj: Unable to cast Python instance to C++ type (compile in debug mode for details)\n"
     ]
    },
    {
     "ename": "QiskitError",
     "evalue": "'Circuit execution failed: ERROR: Failed to load qobj: Unable to cast Python instance to C++ type (compile in debug mode for details)'",
     "output_type": "error",
     "traceback": [
      "\u001b[1;31m---------------------------------------------------------------------------\u001b[0m",
      "\u001b[1;31mQiskitError\u001b[0m                               Traceback (most recent call last)",
      "\u001b[1;32mc:\\Users\\khanm\\Downloads\\Main.ipynb Cell 13\u001b[0m in \u001b[0;36m<module>\u001b[1;34m\u001b[0m\n\u001b[1;32m----> <a href='vscode-notebook-cell:/c%3A/Users/khanm/Downloads/Main.ipynb#X22sZmlsZQ%3D%3D?line=0'>1</a>\u001b[0m run_ansatz_with_graphs(create_ansatz_with_digital_methods(\u001b[39m1\u001b[39;49m))\n",
      "\u001b[1;32mc:\\Users\\khanm\\Downloads\\Main.ipynb Cell 13\u001b[0m in \u001b[0;36mrun_ansatz_with_graphs\u001b[1;34m(ansatz)\u001b[0m\n\u001b[0;32m     <a href='vscode-notebook-cell:/c%3A/Users/khanm/Downloads/Main.ipynb#X22sZmlsZQ%3D%3D?line=15'>16</a>\u001b[0m     values\u001b[39m.\u001b[39mappend(mean)\n\u001b[0;32m     <a href='vscode-notebook-cell:/c%3A/Users/khanm/Downloads/Main.ipynb#X22sZmlsZQ%3D%3D?line=16'>17</a>\u001b[0m vqe \u001b[39m=\u001b[39m VQE(ansatz, optimizer\u001b[39m=\u001b[39mspsa, callback\u001b[39m=\u001b[39mstore_intermediate_result, quantum_instance\u001b[39m=\u001b[39mqi)\n\u001b[1;32m---> <a href='vscode-notebook-cell:/c%3A/Users/khanm/Downloads/Main.ipynb#X22sZmlsZQ%3D%3D?line=17'>18</a>\u001b[0m result \u001b[39m=\u001b[39m vqe\u001b[39m.\u001b[39;49mcompute_minimum_eigenvalue(operator\u001b[39m=\u001b[39;49mH2_op)\n\u001b[0;32m     <a href='vscode-notebook-cell:/c%3A/Users/khanm/Downloads/Main.ipynb#X22sZmlsZQ%3D%3D?line=18'>19</a>\u001b[0m \u001b[39mprint\u001b[39m(\u001b[39mf\u001b[39m\u001b[39m'\u001b[39m\u001b[39mVQE on Aer qasm simulator (no noise): \u001b[39m\u001b[39m{\u001b[39;00mresult\u001b[39m.\u001b[39meigenvalue\u001b[39m.\u001b[39mreal\u001b[39m:\u001b[39;00m\u001b[39m.5f\u001b[39m\u001b[39m}\u001b[39;00m\u001b[39m'\u001b[39m)\n\u001b[0;32m     <a href='vscode-notebook-cell:/c%3A/Users/khanm/Downloads/Main.ipynb#X22sZmlsZQ%3D%3D?line=19'>20</a>\u001b[0m \u001b[39mprint\u001b[39m(\u001b[39mf\u001b[39m\u001b[39m'\u001b[39m\u001b[39mDelta from reference energy value is \u001b[39m\u001b[39m{\u001b[39;00m(result\u001b[39m.\u001b[39meigenvalue\u001b[39m.\u001b[39mreal \u001b[39m-\u001b[39m ref_value)\u001b[39m:\u001b[39;00m\u001b[39m.5f\u001b[39m\u001b[39m}\u001b[39;00m\u001b[39m'\u001b[39m)\n",
      "File \u001b[1;32mc:\\Users\\khanm\\AppData\\Local\\Programs\\Python\\Python310\\lib\\site-packages\\qiskit\\algorithms\\minimum_eigen_solvers\\vqe.py:530\u001b[0m, in \u001b[0;36mVQE.compute_minimum_eigenvalue\u001b[1;34m(self, operator, aux_operators)\u001b[0m\n\u001b[0;32m    526\u001b[0m     opt_result \u001b[39m=\u001b[39m \u001b[39mself\u001b[39m\u001b[39m.\u001b[39moptimizer(  \u001b[39m# pylint: disable=not-callable\u001b[39;00m\n\u001b[0;32m    527\u001b[0m         fun\u001b[39m=\u001b[39menergy_evaluation, x0\u001b[39m=\u001b[39minitial_point, jac\u001b[39m=\u001b[39mgradient, bounds\u001b[39m=\u001b[39mbounds\n\u001b[0;32m    528\u001b[0m     )\n\u001b[0;32m    529\u001b[0m \u001b[39melse\u001b[39;00m:\n\u001b[1;32m--> 530\u001b[0m     opt_result \u001b[39m=\u001b[39m \u001b[39mself\u001b[39;49m\u001b[39m.\u001b[39;49moptimizer\u001b[39m.\u001b[39;49mminimize(\n\u001b[0;32m    531\u001b[0m         fun\u001b[39m=\u001b[39;49menergy_evaluation, x0\u001b[39m=\u001b[39;49minitial_point, jac\u001b[39m=\u001b[39;49mgradient, bounds\u001b[39m=\u001b[39;49mbounds\n\u001b[0;32m    532\u001b[0m     )\n\u001b[0;32m    534\u001b[0m eval_time \u001b[39m=\u001b[39m time() \u001b[39m-\u001b[39m start_time\n\u001b[0;32m    536\u001b[0m result \u001b[39m=\u001b[39m VQEResult()\n",
      "File \u001b[1;32mc:\\Users\\khanm\\AppData\\Local\\Programs\\Python\\Python310\\lib\\site-packages\\qiskit\\algorithms\\optimizers\\spsa.py:512\u001b[0m, in \u001b[0;36mSPSA.minimize\u001b[1;34m(self, fun, x0, jac, bounds)\u001b[0m\n\u001b[0;32m    502\u001b[0m \u001b[39mdef\u001b[39;00m \u001b[39mminimize\u001b[39m(\n\u001b[0;32m    503\u001b[0m     \u001b[39mself\u001b[39m,\n\u001b[0;32m    504\u001b[0m     fun: Callable[[POINT], \u001b[39mfloat\u001b[39m],\n\u001b[1;32m   (...)\u001b[0m\n\u001b[0;32m    509\u001b[0m     \u001b[39m# ensure learning rate and perturbation are correctly set: either none or both\u001b[39;00m\n\u001b[0;32m    510\u001b[0m     \u001b[39m# this happens only here because for the calibration the loss function is required\u001b[39;00m\n\u001b[0;32m    511\u001b[0m     \u001b[39mif\u001b[39;00m \u001b[39mself\u001b[39m\u001b[39m.\u001b[39mlearning_rate \u001b[39mis\u001b[39;00m \u001b[39mNone\u001b[39;00m \u001b[39mand\u001b[39;00m \u001b[39mself\u001b[39m\u001b[39m.\u001b[39mperturbation \u001b[39mis\u001b[39;00m \u001b[39mNone\u001b[39;00m:\n\u001b[1;32m--> 512\u001b[0m         get_eta, get_eps \u001b[39m=\u001b[39m \u001b[39mself\u001b[39;49m\u001b[39m.\u001b[39;49mcalibrate(fun, x0, max_evals_grouped\u001b[39m=\u001b[39;49m\u001b[39mself\u001b[39;49m\u001b[39m.\u001b[39;49m_max_evals_grouped)\n\u001b[0;32m    513\u001b[0m     \u001b[39melse\u001b[39;00m:\n\u001b[0;32m    514\u001b[0m         get_eta, get_eps \u001b[39m=\u001b[39m _validate_pert_and_learningrate(\n\u001b[0;32m    515\u001b[0m             \u001b[39mself\u001b[39m\u001b[39m.\u001b[39mperturbation, \u001b[39mself\u001b[39m\u001b[39m.\u001b[39mlearning_rate\n\u001b[0;32m    516\u001b[0m         )\n",
      "File \u001b[1;32mc:\\Users\\khanm\\AppData\\Local\\Programs\\Python\\Python310\\lib\\site-packages\\qiskit\\algorithms\\optimizers\\spsa.py:333\u001b[0m, in \u001b[0;36mSPSA.calibrate\u001b[1;34m(loss, initial_point, c, stability_constant, target_magnitude, alpha, gamma, modelspace, max_evals_grouped)\u001b[0m\n\u001b[0;32m    330\u001b[0m     pert \u001b[39m=\u001b[39m bernoulli_perturbation(dim)\n\u001b[0;32m    331\u001b[0m     points \u001b[39m+\u001b[39m\u001b[39m=\u001b[39m [initial_point \u001b[39m+\u001b[39m c \u001b[39m*\u001b[39m pert, initial_point \u001b[39m-\u001b[39m c \u001b[39m*\u001b[39m pert]\n\u001b[1;32m--> 333\u001b[0m losses \u001b[39m=\u001b[39m _batch_evaluate(loss, points, max_evals_grouped)\n\u001b[0;32m    335\u001b[0m avg_magnitudes \u001b[39m=\u001b[39m \u001b[39m0\u001b[39m\n\u001b[0;32m    336\u001b[0m \u001b[39mfor\u001b[39;00m i \u001b[39min\u001b[39;00m \u001b[39mrange\u001b[39m(steps):\n",
      "File \u001b[1;32mc:\\Users\\khanm\\AppData\\Local\\Programs\\Python\\Python310\\lib\\site-packages\\qiskit\\algorithms\\optimizers\\spsa.py:718\u001b[0m, in \u001b[0;36m_batch_evaluate\u001b[1;34m(function, points, max_evals_grouped)\u001b[0m\n\u001b[0;32m    714\u001b[0m \u001b[39mdef\u001b[39;00m \u001b[39m_batch_evaluate\u001b[39m(function, points, max_evals_grouped):\n\u001b[0;32m    715\u001b[0m     \u001b[39m# if the function cannot handle lists of points as input, cover this case immediately\u001b[39;00m\n\u001b[0;32m    716\u001b[0m     \u001b[39mif\u001b[39;00m max_evals_grouped \u001b[39m==\u001b[39m \u001b[39m1\u001b[39m:\n\u001b[0;32m    717\u001b[0m         \u001b[39m# support functions with multiple arguments where the points are given in a tuple\u001b[39;00m\n\u001b[1;32m--> 718\u001b[0m         \u001b[39mreturn\u001b[39;00m [\n\u001b[0;32m    719\u001b[0m             function(\u001b[39m*\u001b[39mpoint) \u001b[39mif\u001b[39;00m \u001b[39misinstance\u001b[39m(point, \u001b[39mtuple\u001b[39m) \u001b[39melse\u001b[39;00m function(point) \u001b[39mfor\u001b[39;00m point \u001b[39min\u001b[39;00m points\n\u001b[0;32m    720\u001b[0m         ]\n\u001b[0;32m    722\u001b[0m     num_points \u001b[39m=\u001b[39m \u001b[39mlen\u001b[39m(points)\n\u001b[0;32m    724\u001b[0m     \u001b[39m# get the number of batches\u001b[39;00m\n",
      "File \u001b[1;32mc:\\Users\\khanm\\AppData\\Local\\Programs\\Python\\Python310\\lib\\site-packages\\qiskit\\algorithms\\optimizers\\spsa.py:719\u001b[0m, in \u001b[0;36m<listcomp>\u001b[1;34m(.0)\u001b[0m\n\u001b[0;32m    714\u001b[0m \u001b[39mdef\u001b[39;00m \u001b[39m_batch_evaluate\u001b[39m(function, points, max_evals_grouped):\n\u001b[0;32m    715\u001b[0m     \u001b[39m# if the function cannot handle lists of points as input, cover this case immediately\u001b[39;00m\n\u001b[0;32m    716\u001b[0m     \u001b[39mif\u001b[39;00m max_evals_grouped \u001b[39m==\u001b[39m \u001b[39m1\u001b[39m:\n\u001b[0;32m    717\u001b[0m         \u001b[39m# support functions with multiple arguments where the points are given in a tuple\u001b[39;00m\n\u001b[0;32m    718\u001b[0m         \u001b[39mreturn\u001b[39;00m [\n\u001b[1;32m--> 719\u001b[0m             function(\u001b[39m*\u001b[39mpoint) \u001b[39mif\u001b[39;00m \u001b[39misinstance\u001b[39m(point, \u001b[39mtuple\u001b[39m) \u001b[39melse\u001b[39;00m function(point) \u001b[39mfor\u001b[39;00m point \u001b[39min\u001b[39;00m points\n\u001b[0;32m    720\u001b[0m         ]\n\u001b[0;32m    722\u001b[0m     num_points \u001b[39m=\u001b[39m \u001b[39mlen\u001b[39m(points)\n\u001b[0;32m    724\u001b[0m     \u001b[39m# get the number of batches\u001b[39;00m\n",
      "File \u001b[1;32mc:\\Users\\khanm\\AppData\\Local\\Programs\\Python\\Python310\\lib\\site-packages\\qiskit\\algorithms\\minimum_eigen_solvers\\vqe.py:604\u001b[0m, in \u001b[0;36mVQE.get_energy_evaluation.<locals>.energy_evaluation\u001b[1;34m(parameters)\u001b[0m\n\u001b[0;32m    601\u001b[0m param_bindings \u001b[39m=\u001b[39m \u001b[39mdict\u001b[39m(\u001b[39mzip\u001b[39m(ansatz_params, parameter_sets\u001b[39m.\u001b[39mtranspose()\u001b[39m.\u001b[39mtolist()))\n\u001b[0;32m    603\u001b[0m start_time \u001b[39m=\u001b[39m time()\n\u001b[1;32m--> 604\u001b[0m sampled_expect_op \u001b[39m=\u001b[39m \u001b[39mself\u001b[39;49m\u001b[39m.\u001b[39;49m_circuit_sampler\u001b[39m.\u001b[39;49mconvert(expect_op, params\u001b[39m=\u001b[39;49mparam_bindings)\n\u001b[0;32m    605\u001b[0m means \u001b[39m=\u001b[39m np\u001b[39m.\u001b[39mreal(sampled_expect_op\u001b[39m.\u001b[39meval())\n\u001b[0;32m    607\u001b[0m \u001b[39mif\u001b[39;00m \u001b[39mself\u001b[39m\u001b[39m.\u001b[39m_callback \u001b[39mis\u001b[39;00m \u001b[39mnot\u001b[39;00m \u001b[39mNone\u001b[39;00m:\n",
      "File \u001b[1;32mc:\\Users\\khanm\\AppData\\Local\\Programs\\Python\\Python310\\lib\\site-packages\\qiskit\\opflow\\converters\\circuit_sampler.py:216\u001b[0m, in \u001b[0;36mCircuitSampler.convert\u001b[1;34m(self, operator, params)\u001b[0m\n\u001b[0;32m    214\u001b[0m circs \u001b[39m=\u001b[39m \u001b[39mlist\u001b[39m(\u001b[39mself\u001b[39m\u001b[39m.\u001b[39m_circuit_ops_cache\u001b[39m.\u001b[39mvalues()) \u001b[39mif\u001b[39;00m \u001b[39mnot\u001b[39;00m \u001b[39mself\u001b[39m\u001b[39m.\u001b[39m_transpiled_circ_cache \u001b[39melse\u001b[39;00m \u001b[39mNone\u001b[39;00m\n\u001b[0;32m    215\u001b[0m p_b \u001b[39m=\u001b[39m cast(List[Dict[Parameter, \u001b[39mfloat\u001b[39m]], param_bindings)\n\u001b[1;32m--> 216\u001b[0m sampled_statefn_dicts \u001b[39m=\u001b[39m \u001b[39mself\u001b[39;49m\u001b[39m.\u001b[39;49msample_circuits(circuit_sfns\u001b[39m=\u001b[39;49mcircs, param_bindings\u001b[39m=\u001b[39;49mp_b)\n\u001b[0;32m    218\u001b[0m \u001b[39mdef\u001b[39;00m \u001b[39mreplace_circuits_with_dicts\u001b[39m(operator, param_index\u001b[39m=\u001b[39m\u001b[39m0\u001b[39m):\n\u001b[0;32m    219\u001b[0m     \u001b[39mif\u001b[39;00m \u001b[39misinstance\u001b[39m(operator, CircuitStateFn):\n",
      "File \u001b[1;32mc:\\Users\\khanm\\AppData\\Local\\Programs\\Python\\Python310\\lib\\site-packages\\qiskit\\opflow\\converters\\circuit_sampler.py:335\u001b[0m, in \u001b[0;36mCircuitSampler.sample_circuits\u001b[1;34m(self, circuit_sfns, param_bindings)\u001b[0m\n\u001b[0;32m    330\u001b[0m \u001b[39mif\u001b[39;00m \u001b[39mself\u001b[39m\u001b[39m.\u001b[39m_transpile_before_bind \u001b[39mand\u001b[39;00m \u001b[39mself\u001b[39m\u001b[39m.\u001b[39mquantum_instance\u001b[39m.\u001b[39mbound_pass_manager \u001b[39mis\u001b[39;00m \u001b[39mnot\u001b[39;00m \u001b[39mNone\u001b[39;00m:\n\u001b[0;32m    331\u001b[0m     ready_circs \u001b[39m=\u001b[39m \u001b[39mself\u001b[39m\u001b[39m.\u001b[39mquantum_instance\u001b[39m.\u001b[39mtranspile(\n\u001b[0;32m    332\u001b[0m         ready_circs, pass_manager\u001b[39m=\u001b[39m\u001b[39mself\u001b[39m\u001b[39m.\u001b[39mquantum_instance\u001b[39m.\u001b[39mbound_pass_manager\n\u001b[0;32m    333\u001b[0m     )\n\u001b[1;32m--> 335\u001b[0m results \u001b[39m=\u001b[39m \u001b[39mself\u001b[39;49m\u001b[39m.\u001b[39;49mquantum_instance\u001b[39m.\u001b[39;49mexecute(\n\u001b[0;32m    336\u001b[0m     ready_circs, had_transpiled\u001b[39m=\u001b[39;49m\u001b[39mself\u001b[39;49m\u001b[39m.\u001b[39;49m_transpile_before_bind\n\u001b[0;32m    337\u001b[0m )\n\u001b[0;32m    339\u001b[0m \u001b[39mif\u001b[39;00m param_bindings \u001b[39mis\u001b[39;00m \u001b[39mnot\u001b[39;00m \u001b[39mNone\u001b[39;00m \u001b[39mand\u001b[39;00m \u001b[39mself\u001b[39m\u001b[39m.\u001b[39m_param_qobj:\n\u001b[0;32m    340\u001b[0m     \u001b[39mself\u001b[39m\u001b[39m.\u001b[39m_clean_parameterized_run_config()\n",
      "File \u001b[1;32mc:\\Users\\khanm\\AppData\\Local\\Programs\\Python\\Python310\\lib\\site-packages\\qiskit\\utils\\quantum_instance.py:708\u001b[0m, in \u001b[0;36mQuantumInstance.execute\u001b[1;34m(self, circuits, had_transpiled)\u001b[0m\n\u001b[0;32m    705\u001b[0m                 result\u001b[39m.\u001b[39mresults[n] \u001b[39m=\u001b[39m tmp_result\u001b[39m.\u001b[39mresults[i]\n\u001b[0;32m    707\u001b[0m \u001b[39melse\u001b[39;00m:\n\u001b[1;32m--> 708\u001b[0m     result \u001b[39m=\u001b[39m run_circuits(\n\u001b[0;32m    709\u001b[0m         circuits,\n\u001b[0;32m    710\u001b[0m         \u001b[39mself\u001b[39;49m\u001b[39m.\u001b[39;49m_backend,\n\u001b[0;32m    711\u001b[0m         qjob_config\u001b[39m=\u001b[39;49m\u001b[39mself\u001b[39;49m\u001b[39m.\u001b[39;49mqjob_config,\n\u001b[0;32m    712\u001b[0m         backend_options\u001b[39m=\u001b[39;49m\u001b[39mself\u001b[39;49m\u001b[39m.\u001b[39;49mbackend_options,\n\u001b[0;32m    713\u001b[0m         noise_config\u001b[39m=\u001b[39;49m\u001b[39mself\u001b[39;49m\u001b[39m.\u001b[39;49m_noise_config,\n\u001b[0;32m    714\u001b[0m         run_config\u001b[39m=\u001b[39;49m\u001b[39mself\u001b[39;49m\u001b[39m.\u001b[39;49m_run_config\u001b[39m.\u001b[39;49mto_dict(),\n\u001b[0;32m    715\u001b[0m         job_callback\u001b[39m=\u001b[39;49m\u001b[39mself\u001b[39;49m\u001b[39m.\u001b[39;49m_job_callback,\n\u001b[0;32m    716\u001b[0m         max_job_retries\u001b[39m=\u001b[39;49m\u001b[39mself\u001b[39;49m\u001b[39m.\u001b[39;49m_max_job_retries,\n\u001b[0;32m    717\u001b[0m     )\n\u001b[0;32m    718\u001b[0m     \u001b[39mself\u001b[39m\u001b[39m.\u001b[39m_time_taken \u001b[39m+\u001b[39m\u001b[39m=\u001b[39m result\u001b[39m.\u001b[39mtime_taken\n\u001b[0;32m    720\u001b[0m \u001b[39mif\u001b[39;00m \u001b[39mself\u001b[39m\u001b[39m.\u001b[39m_circuit_summary:\n",
      "File \u001b[1;32mc:\\Users\\khanm\\AppData\\Local\\Programs\\Python\\Python310\\lib\\site-packages\\qiskit\\utils\\run_circuits.py:298\u001b[0m, in \u001b[0;36mrun_circuits\u001b[1;34m(circuits, backend, qjob_config, backend_options, noise_config, run_config, job_callback, max_job_retries)\u001b[0m\n\u001b[0;32m    296\u001b[0m                 msg \u001b[39m+\u001b[39m\u001b[39m=\u001b[39m \u001b[39m\"\u001b[39m\u001b[39m, \u001b[39m\u001b[39m\"\u001b[39m \u001b[39m+\u001b[39m res\u001b[39m.\u001b[39mstatus\n\u001b[0;32m    297\u001b[0m                 \u001b[39mbreak\u001b[39;00m\n\u001b[1;32m--> 298\u001b[0m     \u001b[39mraise\u001b[39;00m QiskitError(\u001b[39mf\u001b[39m\u001b[39m\"\u001b[39m\u001b[39mCircuit execution failed: \u001b[39m\u001b[39m{\u001b[39;00mmsg\u001b[39m}\u001b[39;00m\u001b[39m\"\u001b[39m)\n\u001b[0;32m    300\u001b[0m \u001b[39mif\u001b[39;00m \u001b[39mnot\u001b[39;00m \u001b[39mhasattr\u001b[39m(result, \u001b[39m\"\u001b[39m\u001b[39mtime_taken\u001b[39m\u001b[39m\"\u001b[39m):\n\u001b[0;32m    301\u001b[0m     \u001b[39msetattr\u001b[39m(result, \u001b[39m\"\u001b[39m\u001b[39mtime_taken\u001b[39m\u001b[39m\"\u001b[39m, \u001b[39m0.0\u001b[39m)\n",
      "\u001b[1;31mQiskitError\u001b[0m: 'Circuit execution failed: ERROR: Failed to load qobj: Unable to cast Python instance to C++ type (compile in debug mode for details)'"
     ]
    }
   ],
   "source": [
    "run_ansatz_with_graphs(create_ansatz_with_digital_methods(1))"
   ]
  },
  {
   "cell_type": "code",
   "execution_count": null,
   "metadata": {
    "tags": []
   },
   "outputs": [
    {
     "name": "stdout",
     "output_type": "stream",
     "text": [
      "Simulating our code with 1 iterations:\n",
      "VQE on Aer qasm simulator (no noise): -1.83944\n",
      "Delta from reference energy value is 0.01783\n",
      "\n",
      "VQE on Aer qasm simulator (with noise): -1.79012\n",
      "Delta from reference energy value is 0.06716\n",
      "\n",
      "VQE on Aer qasm simulator (with noise and measurement error mitigation): -1.84323\n",
      "Delta from reference energy value is 0.01404\n",
      "\n",
      "Simulating our code with 2 iterations:\n",
      "VQE on Aer qasm simulator (no noise): -1.82042\n",
      "Delta from reference energy value is 0.03686\n",
      "\n",
      "VQE on Aer qasm simulator (with noise): -1.79047\n",
      "Delta from reference energy value is 0.06681\n",
      "\n",
      "VQE on Aer qasm simulator (with noise and measurement error mitigation): -1.84345\n",
      "Delta from reference energy value is 0.01382\n",
      "\n",
      "Simulating our code with 3 iterations:\n",
      "VQE on Aer qasm simulator (no noise): -1.80806\n",
      "Delta from reference energy value is 0.04921\n",
      "\n",
      "VQE on Aer qasm simulator (with noise): -1.72449\n",
      "Delta from reference energy value is 0.13279\n",
      "\n",
      "VQE on Aer qasm simulator (with noise and measurement error mitigation): -1.42109\n",
      "Delta from reference energy value is 0.43618\n",
      "\n"
     ]
    }
   ],
   "source": [
    "for i in range(1,4):\n",
    "    print(\"Simulating our code with\", i, \"iterations:\\n\")\n",
    "    run_ansatz(create_ansatz_with_fixed_hamiltonian(i))"
   ]
  },
  {
   "cell_type": "code",
   "execution_count": null,
   "metadata": {},
   "outputs": [
    {
     "name": "stdout",
     "output_type": "stream",
     "text": [
      "Simulating our code with 1 iterations:\n",
      "VQE on Aer qasm simulator (no noise): -1.83944\n",
      "Delta from reference energy value is 0.01783\n",
      "\n",
      "VQE on Aer qasm simulator (with noise): -1.79012\n",
      "Delta from reference energy value is 0.06716\n",
      "\n",
      "VQE on Aer qasm simulator (with noise and measurement error mitigation): -1.84323\n",
      "Delta from reference energy value is 0.01404\n",
      "\n",
      "Simulating our code with 2 iterations:\n",
      "VQE on Aer qasm simulator (no noise): -1.81176\n",
      "Delta from reference energy value is 0.04551\n",
      "\n",
      "VQE on Aer qasm simulator (with noise): -1.78922\n",
      "Delta from reference energy value is 0.06806\n",
      "\n",
      "VQE on Aer qasm simulator (with noise and measurement error mitigation): -1.84495\n",
      "Delta from reference energy value is 0.01232\n",
      "\n",
      "Simulating our code with 3 iterations:\n",
      "VQE on Aer qasm simulator (no noise): -1.80845\n",
      "Delta from reference energy value is 0.04882\n",
      "\n",
      "VQE on Aer qasm simulator (with noise): -1.51285\n",
      "Delta from reference energy value is 0.34442\n",
      "\n",
      "VQE on Aer qasm simulator (with noise and measurement error mitigation): -1.74055\n",
      "Delta from reference energy value is 0.11672\n",
      "\n"
     ]
    }
   ],
   "source": [
    "for i in range(1,4):\n",
    "    print(\"Simulating our code with\", i, \"iterations:\\n\")\n",
    "    run_ansatz(create_ansatz_with_variable_hamiltonian(i))"
   ]
  },
  {
   "cell_type": "code",
   "execution_count": null,
   "metadata": {},
   "outputs": [
    {
     "name": "stdout",
     "output_type": "stream",
     "text": [
      "Simulating our code with 1 iterations:\n",
      "\n",
      "VQE on Aer qasm simulator (no noise): -1.85223\n",
      "Delta from reference energy value is 0.00504\n",
      "\n"
     ]
    },
    {
     "ename": "KeyboardInterrupt",
     "evalue": "",
     "output_type": "error",
     "traceback": [
      "\u001b[1;31m---------------------------------------------------------------------------\u001b[0m",
      "\u001b[1;31mKeyboardInterrupt\u001b[0m                         Traceback (most recent call last)",
      "\u001b[1;32mc:\\Users\\khanm\\Downloads\\Main.ipynb Cell 16\u001b[0m in \u001b[0;36m<module>\u001b[1;34m\u001b[0m\n\u001b[0;32m      <a href='vscode-notebook-cell:/c%3A/Users/khanm/Downloads/Main.ipynb#X16sZmlsZQ%3D%3D?line=0'>1</a>\u001b[0m \u001b[39mfor\u001b[39;00m i \u001b[39min\u001b[39;00m \u001b[39mrange\u001b[39m(\u001b[39m1\u001b[39m,\u001b[39m4\u001b[39m):\n\u001b[0;32m      <a href='vscode-notebook-cell:/c%3A/Users/khanm/Downloads/Main.ipynb#X16sZmlsZQ%3D%3D?line=1'>2</a>\u001b[0m     \u001b[39mprint\u001b[39m(\u001b[39m\"\u001b[39m\u001b[39mSimulating our code with\u001b[39m\u001b[39m\"\u001b[39m, i, \u001b[39m\"\u001b[39m\u001b[39miterations:\u001b[39m\u001b[39m\\n\u001b[39;00m\u001b[39m\"\u001b[39m)\n\u001b[1;32m----> <a href='vscode-notebook-cell:/c%3A/Users/khanm/Downloads/Main.ipynb#X16sZmlsZQ%3D%3D?line=2'>3</a>\u001b[0m     run_ansatz(create_ansatz_without_h_coeffs(i))\n",
      "\u001b[1;32mc:\\Users\\khanm\\Downloads\\Main.ipynb Cell 16\u001b[0m in \u001b[0;36mrun_ansatz\u001b[1;34m(ansatz)\u001b[0m\n\u001b[0;32m     <a href='vscode-notebook-cell:/c%3A/Users/khanm/Downloads/Main.ipynb#X16sZmlsZQ%3D%3D?line=41'>42</a>\u001b[0m     values1\u001b[39m.\u001b[39mappend(mean)\u001b[39m#\u001b[39;00m\n\u001b[0;32m     <a href='vscode-notebook-cell:/c%3A/Users/khanm/Downloads/Main.ipynb#X16sZmlsZQ%3D%3D?line=42'>43</a>\u001b[0m vqe \u001b[39m=\u001b[39m VQE(ansatz, optimizer\u001b[39m=\u001b[39mspsa, callback\u001b[39m=\u001b[39mstore_intermediate_result1, quantum_instance\u001b[39m=\u001b[39mqi)\n\u001b[1;32m---> <a href='vscode-notebook-cell:/c%3A/Users/khanm/Downloads/Main.ipynb#X16sZmlsZQ%3D%3D?line=43'>44</a>\u001b[0m result1 \u001b[39m=\u001b[39m vqe\u001b[39m.\u001b[39;49mcompute_minimum_eigenvalue(operator\u001b[39m=\u001b[39;49mH2_op)\n\u001b[0;32m     <a href='vscode-notebook-cell:/c%3A/Users/khanm/Downloads/Main.ipynb#X16sZmlsZQ%3D%3D?line=44'>45</a>\u001b[0m \u001b[39mprint\u001b[39m(\u001b[39mf\u001b[39m\u001b[39m'\u001b[39m\u001b[39mVQE on Aer qasm simulator (with noise): \u001b[39m\u001b[39m{\u001b[39;00mresult1\u001b[39m.\u001b[39meigenvalue\u001b[39m.\u001b[39mreal\u001b[39m:\u001b[39;00m\u001b[39m.5f\u001b[39m\u001b[39m}\u001b[39;00m\u001b[39m'\u001b[39m)\n\u001b[0;32m     <a href='vscode-notebook-cell:/c%3A/Users/khanm/Downloads/Main.ipynb#X16sZmlsZQ%3D%3D?line=45'>46</a>\u001b[0m \u001b[39mprint\u001b[39m(\u001b[39mf\u001b[39m\u001b[39m'\u001b[39m\u001b[39mDelta from reference energy value is \u001b[39m\u001b[39m{\u001b[39;00m(result1\u001b[39m.\u001b[39meigenvalue\u001b[39m.\u001b[39mreal \u001b[39m-\u001b[39m ref_value)\u001b[39m:\u001b[39;00m\u001b[39m.5f\u001b[39m\u001b[39m}\u001b[39;00m\u001b[39m'\u001b[39m)\n",
      "File \u001b[1;32mc:\\Users\\khanm\\AppData\\Local\\Programs\\Python\\Python310\\lib\\site-packages\\qiskit\\algorithms\\minimum_eigen_solvers\\vqe.py:530\u001b[0m, in \u001b[0;36mVQE.compute_minimum_eigenvalue\u001b[1;34m(self, operator, aux_operators)\u001b[0m\n\u001b[0;32m    526\u001b[0m     opt_result \u001b[39m=\u001b[39m \u001b[39mself\u001b[39m\u001b[39m.\u001b[39moptimizer(  \u001b[39m# pylint: disable=not-callable\u001b[39;00m\n\u001b[0;32m    527\u001b[0m         fun\u001b[39m=\u001b[39menergy_evaluation, x0\u001b[39m=\u001b[39minitial_point, jac\u001b[39m=\u001b[39mgradient, bounds\u001b[39m=\u001b[39mbounds\n\u001b[0;32m    528\u001b[0m     )\n\u001b[0;32m    529\u001b[0m \u001b[39melse\u001b[39;00m:\n\u001b[1;32m--> 530\u001b[0m     opt_result \u001b[39m=\u001b[39m \u001b[39mself\u001b[39;49m\u001b[39m.\u001b[39;49moptimizer\u001b[39m.\u001b[39;49mminimize(\n\u001b[0;32m    531\u001b[0m         fun\u001b[39m=\u001b[39;49menergy_evaluation, x0\u001b[39m=\u001b[39;49minitial_point, jac\u001b[39m=\u001b[39;49mgradient, bounds\u001b[39m=\u001b[39;49mbounds\n\u001b[0;32m    532\u001b[0m     )\n\u001b[0;32m    534\u001b[0m eval_time \u001b[39m=\u001b[39m time() \u001b[39m-\u001b[39m start_time\n\u001b[0;32m    536\u001b[0m result \u001b[39m=\u001b[39m VQEResult()\n",
      "File \u001b[1;32mc:\\Users\\khanm\\AppData\\Local\\Programs\\Python\\Python310\\lib\\site-packages\\qiskit\\algorithms\\optimizers\\spsa.py:556\u001b[0m, in \u001b[0;36mSPSA.minimize\u001b[1;34m(self, fun, x0, jac, bounds)\u001b[0m\n\u001b[0;32m    554\u001b[0m iteration_start \u001b[39m=\u001b[39m time()\n\u001b[0;32m    555\u001b[0m \u001b[39m# compute update\u001b[39;00m\n\u001b[1;32m--> 556\u001b[0m fx_estimate, update \u001b[39m=\u001b[39m \u001b[39mself\u001b[39;49m\u001b[39m.\u001b[39;49m_compute_update(fun, x, k, \u001b[39mnext\u001b[39;49m(eps), lse_solver)\n\u001b[0;32m    558\u001b[0m \u001b[39m# trust region\u001b[39;00m\n\u001b[0;32m    559\u001b[0m \u001b[39mif\u001b[39;00m \u001b[39mself\u001b[39m\u001b[39m.\u001b[39mtrust_region:\n",
      "File \u001b[1;32mc:\\Users\\khanm\\AppData\\Local\\Programs\\Python\\Python310\\lib\\site-packages\\qiskit\\algorithms\\optimizers\\spsa.py:487\u001b[0m, in \u001b[0;36mSPSA._compute_update\u001b[1;34m(self, loss, x, k, eps, lse_solver)\u001b[0m\n\u001b[0;32m    484\u001b[0m     num_samples \u001b[39m=\u001b[39m \u001b[39mself\u001b[39m\u001b[39m.\u001b[39mresamplings\n\u001b[0;32m    486\u001b[0m \u001b[39m# accumulate the number of samples\u001b[39;00m\n\u001b[1;32m--> 487\u001b[0m value, gradient, hessian \u001b[39m=\u001b[39m \u001b[39mself\u001b[39;49m\u001b[39m.\u001b[39;49m_point_estimate(loss, x, eps, num_samples)\n\u001b[0;32m    489\u001b[0m \u001b[39m# precondition gradient with inverse Hessian, if specified\u001b[39;00m\n\u001b[0;32m    490\u001b[0m \u001b[39mif\u001b[39;00m \u001b[39mself\u001b[39m\u001b[39m.\u001b[39msecond_order:\n",
      "File \u001b[1;32mc:\\Users\\khanm\\AppData\\Local\\Programs\\Python\\Python310\\lib\\site-packages\\qiskit\\algorithms\\optimizers\\spsa.py:464\u001b[0m, in \u001b[0;36mSPSA._point_estimate\u001b[1;34m(self, loss, x, eps, num_samples)\u001b[0m\n\u001b[0;32m    461\u001b[0m delta1 \u001b[39m=\u001b[39m deltas1[i]\n\u001b[0;32m    462\u001b[0m delta2 \u001b[39m=\u001b[39m deltas2[i] \u001b[39mif\u001b[39;00m \u001b[39mself\u001b[39m\u001b[39m.\u001b[39msecond_order \u001b[39melse\u001b[39;00m \u001b[39mNone\u001b[39;00m\n\u001b[1;32m--> 464\u001b[0m value_sample, gradient_sample, hessian_sample \u001b[39m=\u001b[39m \u001b[39mself\u001b[39;49m\u001b[39m.\u001b[39;49m_point_sample(\n\u001b[0;32m    465\u001b[0m     loss, x, eps, delta1, delta2\n\u001b[0;32m    466\u001b[0m )\n\u001b[0;32m    467\u001b[0m value_estimate \u001b[39m+\u001b[39m\u001b[39m=\u001b[39m value_sample\n\u001b[0;32m    468\u001b[0m gradient_estimate \u001b[39m+\u001b[39m\u001b[39m=\u001b[39m gradient_sample\n",
      "File \u001b[1;32mc:\\Users\\khanm\\AppData\\Local\\Programs\\Python\\Python310\\lib\\site-packages\\qiskit\\algorithms\\optimizers\\spsa.py:425\u001b[0m, in \u001b[0;36mSPSA._point_sample\u001b[1;34m(self, loss, x, eps, delta1, delta2)\u001b[0m\n\u001b[0;32m    422\u001b[0m     \u001b[39mself\u001b[39m\u001b[39m.\u001b[39m_nfev \u001b[39m+\u001b[39m\u001b[39m=\u001b[39m \u001b[39m2\u001b[39m\n\u001b[0;32m    424\u001b[0m \u001b[39m# batch evaluate the points (if possible)\u001b[39;00m\n\u001b[1;32m--> 425\u001b[0m values \u001b[39m=\u001b[39m _batch_evaluate(loss, points, \u001b[39mself\u001b[39;49m\u001b[39m.\u001b[39;49m_max_evals_grouped)\n\u001b[0;32m    427\u001b[0m plus \u001b[39m=\u001b[39m values[\u001b[39m0\u001b[39m]\n\u001b[0;32m    428\u001b[0m minus \u001b[39m=\u001b[39m values[\u001b[39m1\u001b[39m]\n",
      "File \u001b[1;32mc:\\Users\\khanm\\AppData\\Local\\Programs\\Python\\Python310\\lib\\site-packages\\qiskit\\algorithms\\optimizers\\spsa.py:718\u001b[0m, in \u001b[0;36m_batch_evaluate\u001b[1;34m(function, points, max_evals_grouped)\u001b[0m\n\u001b[0;32m    714\u001b[0m \u001b[39mdef\u001b[39;00m \u001b[39m_batch_evaluate\u001b[39m(function, points, max_evals_grouped):\n\u001b[0;32m    715\u001b[0m     \u001b[39m# if the function cannot handle lists of points as input, cover this case immediately\u001b[39;00m\n\u001b[0;32m    716\u001b[0m     \u001b[39mif\u001b[39;00m max_evals_grouped \u001b[39m==\u001b[39m \u001b[39m1\u001b[39m:\n\u001b[0;32m    717\u001b[0m         \u001b[39m# support functions with multiple arguments where the points are given in a tuple\u001b[39;00m\n\u001b[1;32m--> 718\u001b[0m         \u001b[39mreturn\u001b[39;00m [\n\u001b[0;32m    719\u001b[0m             function(\u001b[39m*\u001b[39mpoint) \u001b[39mif\u001b[39;00m \u001b[39misinstance\u001b[39m(point, \u001b[39mtuple\u001b[39m) \u001b[39melse\u001b[39;00m function(point) \u001b[39mfor\u001b[39;00m point \u001b[39min\u001b[39;00m points\n\u001b[0;32m    720\u001b[0m         ]\n\u001b[0;32m    722\u001b[0m     num_points \u001b[39m=\u001b[39m \u001b[39mlen\u001b[39m(points)\n\u001b[0;32m    724\u001b[0m     \u001b[39m# get the number of batches\u001b[39;00m\n",
      "File \u001b[1;32mc:\\Users\\khanm\\AppData\\Local\\Programs\\Python\\Python310\\lib\\site-packages\\qiskit\\algorithms\\optimizers\\spsa.py:719\u001b[0m, in \u001b[0;36m<listcomp>\u001b[1;34m(.0)\u001b[0m\n\u001b[0;32m    714\u001b[0m \u001b[39mdef\u001b[39;00m \u001b[39m_batch_evaluate\u001b[39m(function, points, max_evals_grouped):\n\u001b[0;32m    715\u001b[0m     \u001b[39m# if the function cannot handle lists of points as input, cover this case immediately\u001b[39;00m\n\u001b[0;32m    716\u001b[0m     \u001b[39mif\u001b[39;00m max_evals_grouped \u001b[39m==\u001b[39m \u001b[39m1\u001b[39m:\n\u001b[0;32m    717\u001b[0m         \u001b[39m# support functions with multiple arguments where the points are given in a tuple\u001b[39;00m\n\u001b[0;32m    718\u001b[0m         \u001b[39mreturn\u001b[39;00m [\n\u001b[1;32m--> 719\u001b[0m             function(\u001b[39m*\u001b[39mpoint) \u001b[39mif\u001b[39;00m \u001b[39misinstance\u001b[39m(point, \u001b[39mtuple\u001b[39m) \u001b[39melse\u001b[39;00m function(point) \u001b[39mfor\u001b[39;00m point \u001b[39min\u001b[39;00m points\n\u001b[0;32m    720\u001b[0m         ]\n\u001b[0;32m    722\u001b[0m     num_points \u001b[39m=\u001b[39m \u001b[39mlen\u001b[39m(points)\n\u001b[0;32m    724\u001b[0m     \u001b[39m# get the number of batches\u001b[39;00m\n",
      "File \u001b[1;32mc:\\Users\\khanm\\AppData\\Local\\Programs\\Python\\Python310\\lib\\site-packages\\qiskit\\algorithms\\minimum_eigen_solvers\\vqe.py:604\u001b[0m, in \u001b[0;36mVQE.get_energy_evaluation.<locals>.energy_evaluation\u001b[1;34m(parameters)\u001b[0m\n\u001b[0;32m    601\u001b[0m param_bindings \u001b[39m=\u001b[39m \u001b[39mdict\u001b[39m(\u001b[39mzip\u001b[39m(ansatz_params, parameter_sets\u001b[39m.\u001b[39mtranspose()\u001b[39m.\u001b[39mtolist()))\n\u001b[0;32m    603\u001b[0m start_time \u001b[39m=\u001b[39m time()\n\u001b[1;32m--> 604\u001b[0m sampled_expect_op \u001b[39m=\u001b[39m \u001b[39mself\u001b[39;49m\u001b[39m.\u001b[39;49m_circuit_sampler\u001b[39m.\u001b[39;49mconvert(expect_op, params\u001b[39m=\u001b[39;49mparam_bindings)\n\u001b[0;32m    605\u001b[0m means \u001b[39m=\u001b[39m np\u001b[39m.\u001b[39mreal(sampled_expect_op\u001b[39m.\u001b[39meval())\n\u001b[0;32m    607\u001b[0m \u001b[39mif\u001b[39;00m \u001b[39mself\u001b[39m\u001b[39m.\u001b[39m_callback \u001b[39mis\u001b[39;00m \u001b[39mnot\u001b[39;00m \u001b[39mNone\u001b[39;00m:\n",
      "File \u001b[1;32mc:\\Users\\khanm\\AppData\\Local\\Programs\\Python\\Python310\\lib\\site-packages\\qiskit\\opflow\\converters\\circuit_sampler.py:216\u001b[0m, in \u001b[0;36mCircuitSampler.convert\u001b[1;34m(self, operator, params)\u001b[0m\n\u001b[0;32m    214\u001b[0m circs \u001b[39m=\u001b[39m \u001b[39mlist\u001b[39m(\u001b[39mself\u001b[39m\u001b[39m.\u001b[39m_circuit_ops_cache\u001b[39m.\u001b[39mvalues()) \u001b[39mif\u001b[39;00m \u001b[39mnot\u001b[39;00m \u001b[39mself\u001b[39m\u001b[39m.\u001b[39m_transpiled_circ_cache \u001b[39melse\u001b[39;00m \u001b[39mNone\u001b[39;00m\n\u001b[0;32m    215\u001b[0m p_b \u001b[39m=\u001b[39m cast(List[Dict[Parameter, \u001b[39mfloat\u001b[39m]], param_bindings)\n\u001b[1;32m--> 216\u001b[0m sampled_statefn_dicts \u001b[39m=\u001b[39m \u001b[39mself\u001b[39;49m\u001b[39m.\u001b[39;49msample_circuits(circuit_sfns\u001b[39m=\u001b[39;49mcircs, param_bindings\u001b[39m=\u001b[39;49mp_b)\n\u001b[0;32m    218\u001b[0m \u001b[39mdef\u001b[39;00m \u001b[39mreplace_circuits_with_dicts\u001b[39m(operator, param_index\u001b[39m=\u001b[39m\u001b[39m0\u001b[39m):\n\u001b[0;32m    219\u001b[0m     \u001b[39mif\u001b[39;00m \u001b[39misinstance\u001b[39m(operator, CircuitStateFn):\n",
      "File \u001b[1;32mc:\\Users\\khanm\\AppData\\Local\\Programs\\Python\\Python310\\lib\\site-packages\\qiskit\\opflow\\converters\\circuit_sampler.py:335\u001b[0m, in \u001b[0;36mCircuitSampler.sample_circuits\u001b[1;34m(self, circuit_sfns, param_bindings)\u001b[0m\n\u001b[0;32m    330\u001b[0m \u001b[39mif\u001b[39;00m \u001b[39mself\u001b[39m\u001b[39m.\u001b[39m_transpile_before_bind \u001b[39mand\u001b[39;00m \u001b[39mself\u001b[39m\u001b[39m.\u001b[39mquantum_instance\u001b[39m.\u001b[39mbound_pass_manager \u001b[39mis\u001b[39;00m \u001b[39mnot\u001b[39;00m \u001b[39mNone\u001b[39;00m:\n\u001b[0;32m    331\u001b[0m     ready_circs \u001b[39m=\u001b[39m \u001b[39mself\u001b[39m\u001b[39m.\u001b[39mquantum_instance\u001b[39m.\u001b[39mtranspile(\n\u001b[0;32m    332\u001b[0m         ready_circs, pass_manager\u001b[39m=\u001b[39m\u001b[39mself\u001b[39m\u001b[39m.\u001b[39mquantum_instance\u001b[39m.\u001b[39mbound_pass_manager\n\u001b[0;32m    333\u001b[0m     )\n\u001b[1;32m--> 335\u001b[0m results \u001b[39m=\u001b[39m \u001b[39mself\u001b[39;49m\u001b[39m.\u001b[39;49mquantum_instance\u001b[39m.\u001b[39;49mexecute(\n\u001b[0;32m    336\u001b[0m     ready_circs, had_transpiled\u001b[39m=\u001b[39;49m\u001b[39mself\u001b[39;49m\u001b[39m.\u001b[39;49m_transpile_before_bind\n\u001b[0;32m    337\u001b[0m )\n\u001b[0;32m    339\u001b[0m \u001b[39mif\u001b[39;00m param_bindings \u001b[39mis\u001b[39;00m \u001b[39mnot\u001b[39;00m \u001b[39mNone\u001b[39;00m \u001b[39mand\u001b[39;00m \u001b[39mself\u001b[39m\u001b[39m.\u001b[39m_param_qobj:\n\u001b[0;32m    340\u001b[0m     \u001b[39mself\u001b[39m\u001b[39m.\u001b[39m_clean_parameterized_run_config()\n",
      "File \u001b[1;32mc:\\Users\\khanm\\AppData\\Local\\Programs\\Python\\Python310\\lib\\site-packages\\qiskit\\utils\\quantum_instance.py:708\u001b[0m, in \u001b[0;36mQuantumInstance.execute\u001b[1;34m(self, circuits, had_transpiled)\u001b[0m\n\u001b[0;32m    705\u001b[0m                 result\u001b[39m.\u001b[39mresults[n] \u001b[39m=\u001b[39m tmp_result\u001b[39m.\u001b[39mresults[i]\n\u001b[0;32m    707\u001b[0m \u001b[39melse\u001b[39;00m:\n\u001b[1;32m--> 708\u001b[0m     result \u001b[39m=\u001b[39m run_circuits(\n\u001b[0;32m    709\u001b[0m         circuits,\n\u001b[0;32m    710\u001b[0m         \u001b[39mself\u001b[39;49m\u001b[39m.\u001b[39;49m_backend,\n\u001b[0;32m    711\u001b[0m         qjob_config\u001b[39m=\u001b[39;49m\u001b[39mself\u001b[39;49m\u001b[39m.\u001b[39;49mqjob_config,\n\u001b[0;32m    712\u001b[0m         backend_options\u001b[39m=\u001b[39;49m\u001b[39mself\u001b[39;49m\u001b[39m.\u001b[39;49mbackend_options,\n\u001b[0;32m    713\u001b[0m         noise_config\u001b[39m=\u001b[39;49m\u001b[39mself\u001b[39;49m\u001b[39m.\u001b[39;49m_noise_config,\n\u001b[0;32m    714\u001b[0m         run_config\u001b[39m=\u001b[39;49m\u001b[39mself\u001b[39;49m\u001b[39m.\u001b[39;49m_run_config\u001b[39m.\u001b[39;49mto_dict(),\n\u001b[0;32m    715\u001b[0m         job_callback\u001b[39m=\u001b[39;49m\u001b[39mself\u001b[39;49m\u001b[39m.\u001b[39;49m_job_callback,\n\u001b[0;32m    716\u001b[0m         max_job_retries\u001b[39m=\u001b[39;49m\u001b[39mself\u001b[39;49m\u001b[39m.\u001b[39;49m_max_job_retries,\n\u001b[0;32m    717\u001b[0m     )\n\u001b[0;32m    718\u001b[0m     \u001b[39mself\u001b[39m\u001b[39m.\u001b[39m_time_taken \u001b[39m+\u001b[39m\u001b[39m=\u001b[39m result\u001b[39m.\u001b[39mtime_taken\n\u001b[0;32m    720\u001b[0m \u001b[39mif\u001b[39;00m \u001b[39mself\u001b[39m\u001b[39m.\u001b[39m_circuit_summary:\n",
      "File \u001b[1;32mc:\\Users\\khanm\\AppData\\Local\\Programs\\Python\\Python310\\lib\\site-packages\\qiskit\\utils\\run_circuits.py:283\u001b[0m, in \u001b[0;36mrun_circuits\u001b[1;34m(circuits, backend, qjob_config, backend_options, noise_config, run_config, job_callback, max_job_retries)\u001b[0m\n\u001b[0;32m    281\u001b[0m     results \u001b[39m=\u001b[39m []\n\u001b[0;32m    282\u001b[0m     \u001b[39mfor\u001b[39;00m job \u001b[39min\u001b[39;00m jobs:\n\u001b[1;32m--> 283\u001b[0m         results\u001b[39m.\u001b[39mappend(job\u001b[39m.\u001b[39;49mresult())\n\u001b[0;32m    285\u001b[0m result \u001b[39m=\u001b[39m _combine_result_objects(results) \u001b[39mif\u001b[39;00m results \u001b[39melse\u001b[39;00m \u001b[39mNone\u001b[39;00m\n\u001b[0;32m    286\u001b[0m \u001b[39m# If result was not successful then raise an exception with either the status msg or\u001b[39;00m\n\u001b[0;32m    287\u001b[0m \u001b[39m# extra information if this was an Aer partial result return\u001b[39;00m\n",
      "File \u001b[1;32mc:\\Users\\khanm\\AppData\\Local\\Programs\\Python\\Python310\\lib\\site-packages\\qiskit\\providers\\aer\\jobs\\utils.py:41\u001b[0m, in \u001b[0;36mrequires_submit.<locals>._wrapper\u001b[1;34m(self, *args, **kwargs)\u001b[0m\n\u001b[0;32m     39\u001b[0m \u001b[39mif\u001b[39;00m \u001b[39mself\u001b[39m\u001b[39m.\u001b[39m_future \u001b[39mis\u001b[39;00m \u001b[39mNone\u001b[39;00m:\n\u001b[0;32m     40\u001b[0m     \u001b[39mraise\u001b[39;00m JobError(\u001b[39m\"\u001b[39m\u001b[39mJob not submitted yet!. You have to .submit() first!\u001b[39m\u001b[39m\"\u001b[39m)\n\u001b[1;32m---> 41\u001b[0m \u001b[39mreturn\u001b[39;00m func(\u001b[39mself\u001b[39m, \u001b[39m*\u001b[39margs, \u001b[39m*\u001b[39m\u001b[39m*\u001b[39mkwargs)\n",
      "File \u001b[1;32mc:\\Users\\khanm\\AppData\\Local\\Programs\\Python\\Python310\\lib\\site-packages\\qiskit\\providers\\aer\\jobs\\aerjob.py:78\u001b[0m, in \u001b[0;36mAerJob.result\u001b[1;34m(self, timeout)\u001b[0m\n\u001b[0;32m     60\u001b[0m \u001b[39m@requires_submit\u001b[39m\n\u001b[0;32m     61\u001b[0m \u001b[39mdef\u001b[39;00m \u001b[39mresult\u001b[39m(\u001b[39mself\u001b[39m, timeout\u001b[39m=\u001b[39m\u001b[39mNone\u001b[39;00m):\n\u001b[0;32m     62\u001b[0m     \u001b[39m# pylint: disable=arguments-differ\u001b[39;00m\n\u001b[0;32m     63\u001b[0m     \u001b[39m\"\"\"Get job result. The behavior is the same as the underlying\u001b[39;00m\n\u001b[0;32m     64\u001b[0m \u001b[39m    concurrent Future objects,\u001b[39;00m\n\u001b[0;32m     65\u001b[0m \n\u001b[1;32m   (...)\u001b[0m\n\u001b[0;32m     76\u001b[0m \u001b[39m        concurrent.futures.CancelledError: if job cancelled before completed.\u001b[39;00m\n\u001b[0;32m     77\u001b[0m \u001b[39m    \"\"\"\u001b[39;00m\n\u001b[1;32m---> 78\u001b[0m     \u001b[39mreturn\u001b[39;00m \u001b[39mself\u001b[39;49m\u001b[39m.\u001b[39;49m_future\u001b[39m.\u001b[39;49mresult(timeout\u001b[39m=\u001b[39;49mtimeout)\n",
      "File \u001b[1;32mc:\\Users\\khanm\\AppData\\Local\\Programs\\Python\\Python310\\lib\\concurrent\\futures\\_base.py:441\u001b[0m, in \u001b[0;36mFuture.result\u001b[1;34m(self, timeout)\u001b[0m\n\u001b[0;32m    438\u001b[0m \u001b[39melif\u001b[39;00m \u001b[39mself\u001b[39m\u001b[39m.\u001b[39m_state \u001b[39m==\u001b[39m FINISHED:\n\u001b[0;32m    439\u001b[0m     \u001b[39mreturn\u001b[39;00m \u001b[39mself\u001b[39m\u001b[39m.\u001b[39m__get_result()\n\u001b[1;32m--> 441\u001b[0m \u001b[39mself\u001b[39;49m\u001b[39m.\u001b[39;49m_condition\u001b[39m.\u001b[39;49mwait(timeout)\n\u001b[0;32m    443\u001b[0m \u001b[39mif\u001b[39;00m \u001b[39mself\u001b[39m\u001b[39m.\u001b[39m_state \u001b[39min\u001b[39;00m [CANCELLED, CANCELLED_AND_NOTIFIED]:\n\u001b[0;32m    444\u001b[0m     \u001b[39mraise\u001b[39;00m CancelledError()\n",
      "File \u001b[1;32mc:\\Users\\khanm\\AppData\\Local\\Programs\\Python\\Python310\\lib\\threading.py:320\u001b[0m, in \u001b[0;36mCondition.wait\u001b[1;34m(self, timeout)\u001b[0m\n\u001b[0;32m    318\u001b[0m \u001b[39mtry\u001b[39;00m:    \u001b[39m# restore state no matter what (e.g., KeyboardInterrupt)\u001b[39;00m\n\u001b[0;32m    319\u001b[0m     \u001b[39mif\u001b[39;00m timeout \u001b[39mis\u001b[39;00m \u001b[39mNone\u001b[39;00m:\n\u001b[1;32m--> 320\u001b[0m         waiter\u001b[39m.\u001b[39;49macquire()\n\u001b[0;32m    321\u001b[0m         gotit \u001b[39m=\u001b[39m \u001b[39mTrue\u001b[39;00m\n\u001b[0;32m    322\u001b[0m     \u001b[39melse\u001b[39;00m:\n",
      "\u001b[1;31mKeyboardInterrupt\u001b[0m: "
     ]
    }
   ],
   "source": [
    "for i in range(1,4):\n",
    "    print(\"Simulating our code with\", i, \"iterations:\\n\")\n",
    "    run_ansatz(create_ansatz_without_h_coeffs(i))"
   ]
  },
  {
   "cell_type": "code",
   "execution_count": null,
   "metadata": {},
   "outputs": [
    {
     "name": "stdout",
     "output_type": "stream",
     "text": [
      "Simulating our code with digital methods:\n",
      "VQE on Aer qasm simulator (no noise): -1.06700\n",
      "Delta from reference energy value is 0.79027\n",
      "\n",
      "VQE on Aer qasm simulator (with noise): -1.12066\n",
      "Delta from reference energy value is 0.73662\n",
      "\n",
      "VQE on Aer qasm simulator (with noise and measurement error mitigation): -1.07591\n",
      "Delta from reference energy value is 0.78136\n",
      "\n"
     ]
    }
   ],
   "source": [
    "for i in range(1,4):\n",
    "    print(\"Simulating our code with\", i, \"iterations:\\n\")\n",
    "    run_ansatz(create_ansatz_with_digital_methods())"
   ]
  }
 ],
 "metadata": {
  "kernelspec": {
   "display_name": "Python 3 (ipykernel)",
   "language": "python",
   "name": "python3"
  },
  "language_info": {
   "codemirror_mode": {
    "name": "ipython",
    "version": 3
   },
   "file_extension": ".py",
   "mimetype": "text/x-python",
   "name": "python",
   "nbconvert_exporter": "python",
   "pygments_lexer": "ipython3",
   "version": "3.10.2"
  },
  "vscode": {
   "interpreter": {
    "hash": "32751420a85847c462f2b2e8a280ad8b2aef3f4d09422fb49ff9e2853858c569"
   }
  },
  "widgets": {
   "application/vnd.jupyter.widget-state+json": {
    "state": {},
    "version_major": 2,
    "version_minor": 0
   }
  }
 },
 "nbformat": 4,
 "nbformat_minor": 4
}
